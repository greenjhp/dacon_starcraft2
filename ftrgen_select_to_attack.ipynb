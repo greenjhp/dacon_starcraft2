{
 "cells": [
  {
   "cell_type": "markdown",
   "metadata": {},
   "source": [
    "## unit ftrs : selected units to attack"
   ]
  },
  {
   "cell_type": "markdown",
   "metadata": {},
   "source": [
    "##### Taehwan Jeong (xikizima@hotmail.com)"
   ]
  },
  {
   "cell_type": "markdown",
   "metadata": {},
   "source": [
    "### 공통 (Common)"
   ]
  },
  {
   "cell_type": "code",
   "execution_count": 16,
   "metadata": {},
   "outputs": [],
   "source": [
    "import pickle, datetime\n",
    "import pandas as pd\n",
    "import numpy as np\n",
    "pd.options.display.max_rows=1000\n",
    "pd.options.display.max_columns=1000\n",
    "pd.options.display.max_colwidth = -1\n",
    "\n",
    "from collections import Counter\n",
    "\n",
    "from matplotlib import pyplot as plt"
   ]
  },
  {
   "cell_type": "code",
   "execution_count": 2,
   "metadata": {},
   "outputs": [],
   "source": [
    "# 정규식\n",
    "import re\n",
    "cmp = re.compile('(?:Target:\\s([A-Za-z]*)\\s\\[([0-9A-Z]*)\\][\\s;]*)?Location:\\s\\(([0-9]*)[.0-9]*,\\s([0-9]*)[.0-9]*.*?\\)')\n",
    "coors = re.compile('(?:Location:|at)\\s\\(([0-9]*)[.0-9]*,\\s([0-9]*)[.0-9]*.*?\\)')\n",
    "units = re.compile('([0-9A-Za-z]*)\\s\\[([0-9A-Z]*)\\]')"
   ]
  },
  {
   "cell_type": "markdown",
   "metadata": {},
   "source": [
    "### 학습용 (Train)"
   ]
  },
  {
   "cell_type": "code",
   "execution_count": 3,
   "metadata": {},
   "outputs": [],
   "source": [
    "unit_info = pd.read_csv('./data/unit_info_data.csv')\n",
    "whole_unit_set = set(unit_info['unit'])\n",
    "unit_set = unit_info.groupby('species')['unit'].apply(set).to_dict()\n",
    "\n",
    "unit_supply_dict = unit_info.set_index('unit')['supply'].to_dict()\n",
    "\n",
    "del unit_supply_dict['Probe']\n",
    "del unit_supply_dict['SCV']\n",
    "del unit_supply_dict['Drone']"
   ]
  },
  {
   "cell_type": "code",
   "execution_count": 36,
   "metadata": {},
   "outputs": [],
   "source": [
    "def build_attack_units_cnt_ftr(df, idx):\n",
    "    df = df[(df['game_id'] < (idx*1000)+1000) & (df['game_id'] >= (idx*1000))]\n",
    "\n",
    "    df.loc[:, 'slice'] = (df['time'] // 1).astype(int)\n",
    "    df = df[df['slice'] < 12]\n",
    "\n",
    "    df = df[(df['event'].isin(['Selection'])) | ((df['event'].isin(['Ability'])) & (df['event_contents'].str.contains('Attack')))]\n",
    "    df['units'] = df[(df['event'].isin(['Selection']))]['event_contents'].map(units.findall).map(lambda row: [x[0] for x in row])\n",
    "#    df['attack_units'] = df[(df['event'].isin(['Selection']))].apply(lambda row: [x for x in row['units'] if x in unit_dict[row['game_id']][row['player']]], axis=1)\n",
    "    df['attack_units'] = df[(df['event'].isin(['Selection']))].apply(lambda row: [unit_supply_dict.get(x) for x in row['units'] if x in unit_supply_dict], axis=1)\n",
    "    _df = df[(~df['attack_units'].isna())]\n",
    "    df = df[(df['event'].isin(['Ability'])) | (_df['attack_units'].map(len) > 0)]\n",
    "    df['selected_units'] = df.groupby(by=['game_id', 'player'])['attack_units'].shift()\n",
    "    df = df[(df['event'] == 'Ability') & (~df['selected_units'].isna())]\n",
    "    df['attack_unit_cnts'] = df['selected_units'].map(sum)\n",
    "\n",
    "    _total = df.groupby(by=['game_id', 'player'])['attack_unit_cnts'].sum().unstack().fillna(0.0)\n",
    "    _total.columns = ['p0_attack_units', 'p1_attack_units']\n",
    "\n",
    "    _per_slice = df.groupby(by=['game_id', 'player', 'slice'])['attack_unit_cnts'].sum().unstack(level=1).fillna(0.0).unstack().fillna(0.0)\n",
    "    _per_slice.columns = [f'attack_units_p{x[0]}_s{x[1]}' for x in _per_slice.columns]\n",
    "    ret = pd.merge(_total,_per_slice, left_index=True, right_index=True).reset_index()\n",
    "    \n",
    "    cols = ['game_id','p0_attack_units','p1_attack_units'] + [f'attack_units_p{uidx}_s{sidx}' for uidx in range(2) for sidx in range(5,12)]\n",
    "    for col in cols:\n",
    "        if not col in ret.columns:\n",
    "            ret[col] = 0.0\n",
    "    return ret[cols]"
   ]
  },
  {
   "cell_type": "markdown",
   "metadata": {},
   "source": [
    "### 학습용 (Train)"
   ]
  },
  {
   "cell_type": "code",
   "execution_count": 37,
   "metadata": {},
   "outputs": [
    {
     "name": "stderr",
     "output_type": "stream",
     "text": [
      "/Users/a80099707/anaconda3/lib/python3.6/site-packages/pandas/core/indexing.py:376: SettingWithCopyWarning: \n",
      "A value is trying to be set on a copy of a slice from a DataFrame.\n",
      "Try using .loc[row_indexer,col_indexer] = value instead\n",
      "\n",
      "See the caveats in the documentation: http://pandas.pydata.org/pandas-docs/stable/user_guide/indexing.html#returning-a-view-versus-a-copy\n",
      "  self.obj[key] = _infer_fill_value(value)\n",
      "/Users/a80099707/anaconda3/lib/python3.6/site-packages/pandas/core/indexing.py:494: SettingWithCopyWarning: \n",
      "A value is trying to be set on a copy of a slice from a DataFrame.\n",
      "Try using .loc[row_indexer,col_indexer] = value instead\n",
      "\n",
      "See the caveats in the documentation: http://pandas.pydata.org/pandas-docs/stable/user_guide/indexing.html#returning-a-view-versus-a-copy\n",
      "  self.obj[item] = s\n"
     ]
    },
    {
     "name": "stdout",
     "output_type": "stream",
     "text": [
      "[0] 11.0 secs\n",
      "[1] 8.0 secs\n",
      "[2] 8.0 secs\n",
      "[3] 8.0 secs\n",
      "[4] 8.0 secs\n",
      "[5] 8.0 secs\n",
      "[6] 8.0 secs\n",
      "[7] 8.0 secs\n",
      "[8] 8.0 secs\n",
      "[9] 8.0 secs\n",
      "[10] 8.0 secs\n",
      "[11] 8.0 secs\n",
      "[12] 8.0 secs\n",
      "[13] 8.0 secs\n",
      "[14] 8.0 secs\n",
      "[15] 8.0 secs\n",
      "[16] 9.0 secs\n",
      "[17] 8.0 secs\n",
      "[18] 8.0 secs\n",
      "[19] 8.0 secs\n",
      "[20] 8.0 secs\n",
      "[21] 8.0 secs\n",
      "[22] 8.0 secs\n",
      "[23] 8.0 secs\n",
      "[24] 8.0 secs\n",
      "[25] 8.0 secs\n",
      "[26] 8.0 secs\n",
      "[27] 8.0 secs\n",
      "[28] 8.0 secs\n",
      "[29] 8.0 secs\n",
      "[30] 8.0 secs\n",
      "[31] 8.0 secs\n",
      "[32] 8.0 secs\n",
      "[33] 8.0 secs\n",
      "[34] 8.0 secs\n",
      "[35] 8.0 secs\n",
      "[36] 8.0 secs\n",
      "[37] 8.0 secs\n",
      "[38] 7.0 secs\n"
     ]
    }
   ],
   "source": [
    "df = pd.read_csv('./data/train.csv') #, nrows=4000000)\n",
    "for idx in range(39):\n",
    "    t1 = datetime.datetime.now()\n",
    "    ret = build_attack_units_cnt_ftr(df, idx)\n",
    "    ret.to_csv('./data/attack_units_cnt_train.csv', mode='a' if idx > 0 else 'w', index=False, header=None if idx > 0 else True)\n",
    "    print(f'[{idx}] {(datetime.datetime.now() - t1).seconds:.1f} secs')"
   ]
  },
  {
   "cell_type": "markdown",
   "metadata": {},
   "source": [
    "### 검증용 (Test)"
   ]
  },
  {
   "cell_type": "code",
   "execution_count": 38,
   "metadata": {},
   "outputs": [
    {
     "name": "stdout",
     "output_type": "stream",
     "text": [
      "[38] 4.0 secs\n",
      "[39] 7.0 secs\n",
      "[40] 7.0 secs\n",
      "[41] 7.0 secs\n",
      "[42] 7.0 secs\n",
      "[43] 8.0 secs\n",
      "[44] 7.0 secs\n",
      "[45] 8.0 secs\n",
      "[46] 8.0 secs\n",
      "[47] 8.0 secs\n",
      "[48] 7.0 secs\n",
      "[49] 7.0 secs\n",
      "[50] 7.0 secs\n",
      "[51] 8.0 secs\n",
      "[52] 7.0 secs\n",
      "[53] 7.0 secs\n",
      "[54] 7.0 secs\n",
      "[55] 5.0 secs\n"
     ]
    }
   ],
   "source": [
    "#unit_dict = pickle.load(open('./data/unit_dict_test.pkl', 'rb'))\n",
    "df = pd.read_csv('./data/test.csv')\n",
    "START_IDX = 38\n",
    "for idx in range(START_IDX, 56):\n",
    "    t1 = datetime.datetime.now()\n",
    "    ret = build_attack_units_cnt_ftr(df, idx)\n",
    "    ret.to_csv('./data/attack_units_cnt_test.csv', mode='a' if idx > START_IDX else 'w', index=False, header=None if idx > START_IDX else True)\n",
    "    print(f'[{idx}] {(datetime.datetime.now() - t1).seconds:.1f} secs')"
   ]
  },
  {
   "cell_type": "code",
   "execution_count": null,
   "metadata": {},
   "outputs": [],
   "source": []
  }
 ],
 "metadata": {
  "kernelspec": {
   "display_name": "Python 3",
   "language": "python",
   "name": "python3"
  },
  "language_info": {
   "codemirror_mode": {
    "name": "ipython",
    "version": 3
   },
   "file_extension": ".py",
   "mimetype": "text/x-python",
   "name": "python",
   "nbconvert_exporter": "python",
   "pygments_lexer": "ipython3",
   "version": "3.6.9"
  }
 },
 "nbformat": 4,
 "nbformat_minor": 2
}
