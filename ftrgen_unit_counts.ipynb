{
 "cells": [
  {
   "cell_type": "markdown",
   "metadata": {},
   "source": [
    "## units only ftrs : unit counts"
   ]
  },
  {
   "cell_type": "markdown",
   "metadata": {},
   "source": [
    "##### Taehwan Jeong (xikizima@hotmail.com)"
   ]
  },
  {
   "cell_type": "markdown",
   "metadata": {},
   "source": [
    "### This contains generator to identify units per each player\n",
    "### Also it generate unit counts feature for model"
   ]
  },
  {
   "cell_type": "markdown",
   "metadata": {},
   "source": [
    "### 공통 (Common)"
   ]
  },
  {
   "cell_type": "code",
   "execution_count": 1,
   "metadata": {},
   "outputs": [],
   "source": [
    "import pickle\n",
    "import pandas as pd\n",
    "import numpy as np\n",
    "pd.options.display.max_rows=1000\n",
    "pd.options.display.max_colwidth = -1\n",
    "\n",
    "from collections import Counter"
   ]
  },
  {
   "cell_type": "code",
   "execution_count": 2,
   "metadata": {},
   "outputs": [],
   "source": [
    "# 정규식\n",
    "import re\n",
    "cmp = re.compile('(?:Target:\\s([A-Za-z]*)\\s\\[([0-9A-Z]*)\\][\\s;]*)?Location:\\s\\(([0-9]*)[.0-9]*,\\s([0-9]*)[.0-9]*.*?\\)')\n",
    "units = re.compile('([0-9A-Za-z]*)\\s\\[([0-9A-Z]*)\\]')"
   ]
  },
  {
   "cell_type": "markdown",
   "metadata": {},
   "source": [
    "### 학습용 (Train)"
   ]
  },
  {
   "cell_type": "code",
   "execution_count": 3,
   "metadata": {},
   "outputs": [],
   "source": [
    "unit_info = pd.read_csv('./data/unit_info_data.csv')\n",
    "whole_unit_set = set(unit_info['unit'])\n",
    "unit_set = unit_info.groupby('species')['unit'].apply(set).to_dict()"
   ]
  },
  {
   "cell_type": "code",
   "execution_count": 4,
   "metadata": {},
   "outputs": [],
   "source": [
    "df = pd.read_csv('./data/train.csv') #, nrows=1000000)"
   ]
  },
  {
   "cell_type": "code",
   "execution_count": 5,
   "metadata": {},
   "outputs": [],
   "source": [
    "df = df[df['event'].isin(['Selection'])]\n",
    "arr_units = df['event_contents'].map(units.findall)\n",
    "del df['event_contents']\n",
    "df = pd.concat([df, arr_units], axis=1)"
   ]
  },
  {
   "cell_type": "code",
   "execution_count": 6,
   "metadata": {},
   "outputs": [],
   "source": [
    "unit_dict = {}\n",
    "abandoned_units = []\n",
    "# species_units = {'Z':{}, 'P':{}, 'T':{}}\n",
    "for idx, data in df.iterrows():\n",
    "    if idx % 10000\n",
    "    if not data['game_id'] in unit_dict:\n",
    "        unit_dict[data['game_id']] = [{}, {}]\n",
    "    for unit_name, unit_id in data['event_contents']:\n",
    "        if unit_name and len(unit_name) > 0: # and len(npcs.findall(unit_name)) == 0:\n",
    "            unit_name = re.sub('Sieged|Burrowed', '', unit_name)\n",
    "            \n",
    "            if unit_name in ['SCV', 'Drone', 'Probe']:\n",
    "                continue\n",
    "            # check the enemy has it\n",
    "            if unit_id not in unit_dict[data['game_id']][(data['player'] + 1 ) % 2]:\n",
    "                if unit_name in unit_set[data['species']]:\n",
    "                    unit_dict[data['game_id']][data['player']][unit_id] = unit_name\n",
    "                elif unit_name in whole_unit_set:\n",
    "                    unit_dict[data['game_id']][(data['player'] + 1) % 2][unit_id] = unit_name\n",
    "                else:\n",
    "                    abandoned_units.append(unit_name)\n",
    "                # save unit names per each species\n",
    "#                 if unit_name in species_units[data['species']]:\n",
    "#                     species_units[data['species']][unit_name] += 1\n",
    "#                 else:\n",
    "#                     species_units[data['species']][unit_name] = 1\n",
    "        else:\n",
    "            print(f\"{idx}: [gid {data['game_id']}] Invalid item name {unit_name} ({unit_id})\")"
   ]
  },
  {
   "cell_type": "code",
   "execution_count": 7,
   "metadata": {},
   "outputs": [],
   "source": [
    "# Dict to save units per players in each game\n",
    "pickle.dump(unit_dict, open('./data/unit_dict.pkl', 'wb'))"
   ]
  },
  {
   "cell_type": "code",
   "execution_count": 8,
   "metadata": {},
   "outputs": [],
   "source": [
    "# Winner index per game\n",
    "winner_dict = df.groupby(by=['game_id'])['winner'].first().to_dict()\n",
    "pickle.dump(winner_dict, open('./data/winner_dict.pkl', 'wb'))"
   ]
  },
  {
   "cell_type": "code",
   "execution_count": 9,
   "metadata": {},
   "outputs": [],
   "source": [
    "unit_ftr = []\n",
    "unit_cols = sorted(whole_unit_set)\n",
    "game_cnt = max(df['game_id']) + 1\n",
    "\n",
    "for g in range(game_cnt):\n",
    "    unit_ftr.append([])\n",
    "    for p in range(2):\n",
    "        unit_ftr[-1].append({key:0 for key in unit_cols})\n",
    "        for unit in unit_dict[g][p].values():\n",
    "            unit_ftr[-1][p][unit] += 1"
   ]
  },
  {
   "cell_type": "code",
   "execution_count": 10,
   "metadata": {},
   "outputs": [],
   "source": [
    "merged_unit_ftr = []\n",
    "winner_ftr = []\n",
    "for GID in range(game_cnt):\n",
    "    merged_unit_ftr.append(list(unit_ftr[GID][0].values()) + list(unit_ftr[GID][1].values()))\n",
    "    winner_ftr.append(winner_dict[GID])"
   ]
  },
  {
   "cell_type": "code",
   "execution_count": 27,
   "metadata": {},
   "outputs": [
    {
     "data": {
      "text/html": [
       "<div>\n",
       "<style scoped>\n",
       "    .dataframe tbody tr th:only-of-type {\n",
       "        vertical-align: middle;\n",
       "    }\n",
       "\n",
       "    .dataframe tbody tr th {\n",
       "        vertical-align: top;\n",
       "    }\n",
       "\n",
       "    .dataframe thead th {\n",
       "        text-align: right;\n",
       "    }\n",
       "</style>\n",
       "<table border=\"1\" class=\"dataframe\">\n",
       "  <thead>\n",
       "    <tr style=\"text-align: right;\">\n",
       "      <th></th>\n",
       "      <th>0</th>\n",
       "      <th>1</th>\n",
       "      <th>2</th>\n",
       "      <th>3</th>\n",
       "      <th>4</th>\n",
       "      <th>5</th>\n",
       "      <th>6</th>\n",
       "      <th>7</th>\n",
       "      <th>8</th>\n",
       "      <th>9</th>\n",
       "      <th>...</th>\n",
       "      <th>100</th>\n",
       "      <th>101</th>\n",
       "      <th>102</th>\n",
       "      <th>103</th>\n",
       "      <th>104</th>\n",
       "      <th>105</th>\n",
       "      <th>106</th>\n",
       "      <th>107</th>\n",
       "      <th>108</th>\n",
       "      <th>109</th>\n",
       "    </tr>\n",
       "  </thead>\n",
       "  <tbody>\n",
       "    <tr>\n",
       "      <th>0</th>\n",
       "      <td>0</td>\n",
       "      <td>0</td>\n",
       "      <td>0</td>\n",
       "      <td>0</td>\n",
       "      <td>0</td>\n",
       "      <td>0</td>\n",
       "      <td>0</td>\n",
       "      <td>0</td>\n",
       "      <td>0</td>\n",
       "      <td>0</td>\n",
       "      <td>...</td>\n",
       "      <td>0</td>\n",
       "      <td>0</td>\n",
       "      <td>0</td>\n",
       "      <td>0</td>\n",
       "      <td>0</td>\n",
       "      <td>0</td>\n",
       "      <td>0</td>\n",
       "      <td>0</td>\n",
       "      <td>0</td>\n",
       "      <td>0</td>\n",
       "    </tr>\n",
       "    <tr>\n",
       "      <th>1</th>\n",
       "      <td>4</td>\n",
       "      <td>0</td>\n",
       "      <td>0</td>\n",
       "      <td>0</td>\n",
       "      <td>0</td>\n",
       "      <td>0</td>\n",
       "      <td>0</td>\n",
       "      <td>0</td>\n",
       "      <td>0</td>\n",
       "      <td>0</td>\n",
       "      <td>...</td>\n",
       "      <td>0</td>\n",
       "      <td>0</td>\n",
       "      <td>0</td>\n",
       "      <td>0</td>\n",
       "      <td>0</td>\n",
       "      <td>0</td>\n",
       "      <td>0</td>\n",
       "      <td>0</td>\n",
       "      <td>0</td>\n",
       "      <td>0</td>\n",
       "    </tr>\n",
       "    <tr>\n",
       "      <th>2</th>\n",
       "      <td>3</td>\n",
       "      <td>0</td>\n",
       "      <td>0</td>\n",
       "      <td>0</td>\n",
       "      <td>0</td>\n",
       "      <td>0</td>\n",
       "      <td>0</td>\n",
       "      <td>0</td>\n",
       "      <td>0</td>\n",
       "      <td>0</td>\n",
       "      <td>...</td>\n",
       "      <td>0</td>\n",
       "      <td>0</td>\n",
       "      <td>0</td>\n",
       "      <td>0</td>\n",
       "      <td>0</td>\n",
       "      <td>0</td>\n",
       "      <td>0</td>\n",
       "      <td>0</td>\n",
       "      <td>0</td>\n",
       "      <td>14</td>\n",
       "    </tr>\n",
       "    <tr>\n",
       "      <th>3</th>\n",
       "      <td>0</td>\n",
       "      <td>0</td>\n",
       "      <td>0</td>\n",
       "      <td>0</td>\n",
       "      <td>0</td>\n",
       "      <td>0</td>\n",
       "      <td>0</td>\n",
       "      <td>0</td>\n",
       "      <td>0</td>\n",
       "      <td>0</td>\n",
       "      <td>...</td>\n",
       "      <td>0</td>\n",
       "      <td>0</td>\n",
       "      <td>0</td>\n",
       "      <td>0</td>\n",
       "      <td>0</td>\n",
       "      <td>0</td>\n",
       "      <td>1</td>\n",
       "      <td>0</td>\n",
       "      <td>0</td>\n",
       "      <td>0</td>\n",
       "    </tr>\n",
       "    <tr>\n",
       "      <th>4</th>\n",
       "      <td>0</td>\n",
       "      <td>0</td>\n",
       "      <td>0</td>\n",
       "      <td>0</td>\n",
       "      <td>0</td>\n",
       "      <td>0</td>\n",
       "      <td>0</td>\n",
       "      <td>0</td>\n",
       "      <td>0</td>\n",
       "      <td>0</td>\n",
       "      <td>...</td>\n",
       "      <td>0</td>\n",
       "      <td>0</td>\n",
       "      <td>0</td>\n",
       "      <td>0</td>\n",
       "      <td>0</td>\n",
       "      <td>0</td>\n",
       "      <td>0</td>\n",
       "      <td>0</td>\n",
       "      <td>0</td>\n",
       "      <td>3</td>\n",
       "    </tr>\n",
       "  </tbody>\n",
       "</table>\n",
       "<p>5 rows × 110 columns</p>\n",
       "</div>"
      ],
      "text/plain": [
       "   0  1  2  3  4  5  6  7  8  9  ...  100  101  102  103  104  105  106  107  \\\n",
       "0  0  0  0  0  0  0  0  0  0  0  ...  0    0    0    0    0    0    0    0     \n",
       "1  4  0  0  0  0  0  0  0  0  0  ...  0    0    0    0    0    0    0    0     \n",
       "2  3  0  0  0  0  0  0  0  0  0  ...  0    0    0    0    0    0    0    0     \n",
       "3  0  0  0  0  0  0  0  0  0  0  ...  0    0    0    0    0    0    1    0     \n",
       "4  0  0  0  0  0  0  0  0  0  0  ...  0    0    0    0    0    0    0    0     \n",
       "\n",
       "   108  109  \n",
       "0  0    0    \n",
       "1  0    0    \n",
       "2  0    14   \n",
       "3  0    0    \n",
       "4  0    3    \n",
       "\n",
       "[5 rows x 110 columns]"
      ]
     },
     "execution_count": 27,
     "metadata": {},
     "output_type": "execute_result"
    }
   ],
   "source": [
    "ret_raw = pd.DataFrame(merged_unit_ftr, index=range(game_cnt))\n",
    "ret_raw.columns = unit_cols + unit_cols\n",
    "ret_raw.head()"
   ]
  },
  {
   "cell_type": "code",
   "execution_count": 30,
   "metadata": {},
   "outputs": [],
   "source": [
    "ret_raw = ret_raw.reset_index().rename(columns={'index':'game_id'})\n",
    "ret_raw.to_csv('./data/unit_select_raw_train.csv', index=False)"
   ]
  },
  {
   "cell_type": "markdown",
   "metadata": {},
   "source": [
    "### 예측용 (Test)"
   ]
  },
  {
   "cell_type": "code",
   "execution_count": 31,
   "metadata": {},
   "outputs": [
    {
     "data": {
      "text/plain": [
       "((28714849, 6), 55658)"
      ]
     },
     "execution_count": 31,
     "metadata": {},
     "output_type": "execute_result"
    }
   ],
   "source": [
    "df = pd.read_csv('./data/test.csv') #, nrows=1000000)\n",
    "df.shape, df['game_id'].min(), df['game_id'].max()"
   ]
  },
  {
   "cell_type": "code",
   "execution_count": 81,
   "metadata": {},
   "outputs": [
    {
     "data": {
      "text/plain": [
       "((4077893, 6), 38872, 55658)"
      ]
     },
     "execution_count": 81,
     "metadata": {},
     "output_type": "execute_result"
    }
   ],
   "source": [
    "df.shape, df['game_id'].min(), df['game_id'].max()"
   ]
  },
  {
   "cell_type": "code",
   "execution_count": 37,
   "metadata": {},
   "outputs": [],
   "source": [
    "df = df[df['event'].isin(['Selection'])]\n",
    "arr_units = df['event_contents'].map(units.findall)\n",
    "del df['event_contents']\n",
    "df = pd.concat([df, arr_units], axis=1)"
   ]
  },
  {
   "cell_type": "code",
   "execution_count": 52,
   "metadata": {},
   "outputs": [],
   "source": [
    "unit_dict = {}\n",
    "abandoned_units = []\n",
    "# species_units = {'Z':{}, 'P':{}, 'T':{}}\n",
    "for idx, data in df.iterrows():\n",
    "    if not data['game_id'] in unit_dict:\n",
    "        unit_dict[data['game_id']] = [{}, {}]\n",
    "    for unit_name, unit_id in data['event_contents']:\n",
    "        if unit_name and len(unit_name) > 0: # and len(npcs.findall(unit_name)) == 0:\n",
    "            unit_name = re.sub('Sieged|Burrowed', '', unit_name)\n",
    "            \n",
    "            if unit_name in ['SCV', 'Drone', 'Probe']:\n",
    "                continue\n",
    "            # check the enemy has it\n",
    "            if unit_id not in unit_dict[data['game_id']][(data['player'] + 1 ) % 2]:\n",
    "                if unit_name in unit_set[data['species']]:\n",
    "                    unit_dict[data['game_id']][data['player']][unit_id] = unit_name\n",
    "                elif unit_name in whole_unit_set:\n",
    "                    unit_dict[data['game_id']][(data['player'] + 1) % 2][unit_id] = unit_name\n",
    "                else:\n",
    "                    abandoned_units.append(unit_name)\n",
    "                # save unit names per each species\n",
    "#                 if unit_name in species_units[data['species']]:\n",
    "#                     species_units[data['species']][unit_name] += 1\n",
    "#                 else:\n",
    "#                     species_units[data['species']][unit_name] = 1\n",
    "        else:\n",
    "            print(f\"{idx}: [gid {data['game_id']}] Invalid item name {unit_name} ({unit_id})\")"
   ]
  },
  {
   "cell_type": "code",
   "execution_count": 53,
   "metadata": {},
   "outputs": [],
   "source": [
    "pickle.dump(unit_dict, open('./data/unit_dict_test.pkl', 'wb'))"
   ]
  },
  {
   "cell_type": "code",
   "execution_count": 54,
   "metadata": {},
   "outputs": [],
   "source": [
    "game_id_idx = list(range(df['game_id'].min(), df['game_id'].max() + 1))"
   ]
  },
  {
   "cell_type": "code",
   "execution_count": 55,
   "metadata": {},
   "outputs": [],
   "source": [
    "unit_ftr = []\n",
    "unit_cols = sorted(whole_unit_set)\n",
    "game_cnt = max(df['game_id']) + 1\n",
    "\n",
    "for g in game_id_idx:\n",
    "    unit_ftr.append([])\n",
    "    for p in range(2):\n",
    "        unit_ftr[-1].append({key:0 for key in unit_cols})\n",
    "        for unit in unit_dict[g][p].values():\n",
    "            unit_ftr[-1][p][unit] += 1"
   ]
  },
  {
   "cell_type": "code",
   "execution_count": 84,
   "metadata": {},
   "outputs": [],
   "source": [
    "merged_unit_ftr = []\n",
    "for idx in range(len(unit_ftr)):\n",
    "    merged_unit_ftr.append(list(unit_ftr[idx][0].values()) + list(unit_ftr[idx][1].values()))"
   ]
  },
  {
   "cell_type": "code",
   "execution_count": 88,
   "metadata": {},
   "outputs": [
    {
     "data": {
      "text/html": [
       "<div>\n",
       "<style scoped>\n",
       "    .dataframe tbody tr th:only-of-type {\n",
       "        vertical-align: middle;\n",
       "    }\n",
       "\n",
       "    .dataframe tbody tr th {\n",
       "        vertical-align: top;\n",
       "    }\n",
       "\n",
       "    .dataframe thead th {\n",
       "        text-align: right;\n",
       "    }\n",
       "</style>\n",
       "<table border=\"1\" class=\"dataframe\">\n",
       "  <thead>\n",
       "    <tr style=\"text-align: right;\">\n",
       "      <th></th>\n",
       "      <th>Adept</th>\n",
       "      <th>Archon</th>\n",
       "      <th>Baneling</th>\n",
       "      <th>Banshee</th>\n",
       "      <th>Battlecruiser</th>\n",
       "      <th>BroodLord</th>\n",
       "      <th>Carrier</th>\n",
       "      <th>Colossus</th>\n",
       "      <th>Corruptor</th>\n",
       "      <th>Cyclone</th>\n",
       "      <th>...</th>\n",
       "      <th>Tempest</th>\n",
       "      <th>Thor</th>\n",
       "      <th>Ultralisk</th>\n",
       "      <th>Viking</th>\n",
       "      <th>Viper</th>\n",
       "      <th>VoidRay</th>\n",
       "      <th>WarpPrism</th>\n",
       "      <th>WidowMine</th>\n",
       "      <th>Zealot</th>\n",
       "      <th>Zergling</th>\n",
       "    </tr>\n",
       "  </thead>\n",
       "  <tbody>\n",
       "    <tr>\n",
       "      <th>55654</th>\n",
       "      <td>0</td>\n",
       "      <td>0</td>\n",
       "      <td>0</td>\n",
       "      <td>0</td>\n",
       "      <td>0</td>\n",
       "      <td>0</td>\n",
       "      <td>0</td>\n",
       "      <td>0</td>\n",
       "      <td>0</td>\n",
       "      <td>0</td>\n",
       "      <td>...</td>\n",
       "      <td>0</td>\n",
       "      <td>0</td>\n",
       "      <td>0</td>\n",
       "      <td>0</td>\n",
       "      <td>0</td>\n",
       "      <td>0</td>\n",
       "      <td>0</td>\n",
       "      <td>0</td>\n",
       "      <td>0</td>\n",
       "      <td>0</td>\n",
       "    </tr>\n",
       "    <tr>\n",
       "      <th>55655</th>\n",
       "      <td>0</td>\n",
       "      <td>0</td>\n",
       "      <td>0</td>\n",
       "      <td>0</td>\n",
       "      <td>0</td>\n",
       "      <td>0</td>\n",
       "      <td>0</td>\n",
       "      <td>0</td>\n",
       "      <td>0</td>\n",
       "      <td>0</td>\n",
       "      <td>...</td>\n",
       "      <td>0</td>\n",
       "      <td>0</td>\n",
       "      <td>0</td>\n",
       "      <td>0</td>\n",
       "      <td>0</td>\n",
       "      <td>0</td>\n",
       "      <td>0</td>\n",
       "      <td>0</td>\n",
       "      <td>0</td>\n",
       "      <td>0</td>\n",
       "    </tr>\n",
       "    <tr>\n",
       "      <th>55656</th>\n",
       "      <td>0</td>\n",
       "      <td>0</td>\n",
       "      <td>0</td>\n",
       "      <td>0</td>\n",
       "      <td>0</td>\n",
       "      <td>0</td>\n",
       "      <td>0</td>\n",
       "      <td>0</td>\n",
       "      <td>0</td>\n",
       "      <td>0</td>\n",
       "      <td>...</td>\n",
       "      <td>0</td>\n",
       "      <td>0</td>\n",
       "      <td>0</td>\n",
       "      <td>0</td>\n",
       "      <td>0</td>\n",
       "      <td>0</td>\n",
       "      <td>0</td>\n",
       "      <td>0</td>\n",
       "      <td>0</td>\n",
       "      <td>0</td>\n",
       "    </tr>\n",
       "    <tr>\n",
       "      <th>55657</th>\n",
       "      <td>0</td>\n",
       "      <td>0</td>\n",
       "      <td>0</td>\n",
       "      <td>0</td>\n",
       "      <td>0</td>\n",
       "      <td>0</td>\n",
       "      <td>0</td>\n",
       "      <td>0</td>\n",
       "      <td>0</td>\n",
       "      <td>0</td>\n",
       "      <td>...</td>\n",
       "      <td>0</td>\n",
       "      <td>0</td>\n",
       "      <td>0</td>\n",
       "      <td>0</td>\n",
       "      <td>0</td>\n",
       "      <td>0</td>\n",
       "      <td>0</td>\n",
       "      <td>0</td>\n",
       "      <td>0</td>\n",
       "      <td>0</td>\n",
       "    </tr>\n",
       "    <tr>\n",
       "      <th>55658</th>\n",
       "      <td>0</td>\n",
       "      <td>0</td>\n",
       "      <td>0</td>\n",
       "      <td>0</td>\n",
       "      <td>0</td>\n",
       "      <td>0</td>\n",
       "      <td>0</td>\n",
       "      <td>0</td>\n",
       "      <td>0</td>\n",
       "      <td>0</td>\n",
       "      <td>...</td>\n",
       "      <td>0</td>\n",
       "      <td>0</td>\n",
       "      <td>0</td>\n",
       "      <td>0</td>\n",
       "      <td>0</td>\n",
       "      <td>0</td>\n",
       "      <td>0</td>\n",
       "      <td>0</td>\n",
       "      <td>0</td>\n",
       "      <td>0</td>\n",
       "    </tr>\n",
       "  </tbody>\n",
       "</table>\n",
       "<p>5 rows × 110 columns</p>\n",
       "</div>"
      ],
      "text/plain": [
       "       Adept  Archon  Baneling  Banshee  Battlecruiser  BroodLord  Carrier  \\\n",
       "55654  0      0       0         0        0              0          0         \n",
       "55655  0      0       0         0        0              0          0         \n",
       "55656  0      0       0         0        0              0          0         \n",
       "55657  0      0       0         0        0              0          0         \n",
       "55658  0      0       0         0        0              0          0         \n",
       "\n",
       "       Colossus  Corruptor  Cyclone  ...  Tempest  Thor  Ultralisk  Viking  \\\n",
       "55654  0         0          0        ...  0        0     0          0        \n",
       "55655  0         0          0        ...  0        0     0          0        \n",
       "55656  0         0          0        ...  0        0     0          0        \n",
       "55657  0         0          0        ...  0        0     0          0        \n",
       "55658  0         0          0        ...  0        0     0          0        \n",
       "\n",
       "       Viper  VoidRay  WarpPrism  WidowMine  Zealot  Zergling  \n",
       "55654  0      0        0          0          0       0         \n",
       "55655  0      0        0          0          0       0         \n",
       "55656  0      0        0          0          0       0         \n",
       "55657  0      0        0          0          0       0         \n",
       "55658  0      0        0          0          0       0         \n",
       "\n",
       "[5 rows x 110 columns]"
      ]
     },
     "execution_count": 88,
     "metadata": {},
     "output_type": "execute_result"
    }
   ],
   "source": [
    "ret_raw = pd.DataFrame(merged_unit_ftr, index=game_id_idx)\n",
    "ret_raw.columns = unit_cols + unit_cols\n",
    "ret_raw.head()"
   ]
  },
  {
   "cell_type": "code",
   "execution_count": 90,
   "metadata": {},
   "outputs": [],
   "source": [
    "ret_raw = ret_raw.reset_index().rename(columns={'index':'game_id'})\n",
    "ret_raw.to_csv('./data/unit_select_raw_test.csv', index=False)"
   ]
  },
  {
   "cell_type": "code",
   "execution_count": null,
   "metadata": {},
   "outputs": [],
   "source": []
  },
  {
   "cell_type": "code",
   "execution_count": null,
   "metadata": {},
   "outputs": [],
   "source": []
  },
  {
   "cell_type": "code",
   "execution_count": null,
   "metadata": {},
   "outputs": [],
   "source": []
  },
  {
   "cell_type": "code",
   "execution_count": null,
   "metadata": {},
   "outputs": [],
   "source": []
  },
  {
   "cell_type": "code",
   "execution_count": null,
   "metadata": {},
   "outputs": [],
   "source": []
  },
  {
   "cell_type": "code",
   "execution_count": null,
   "metadata": {},
   "outputs": [],
   "source": []
  }
 ],
 "metadata": {
  "kernelspec": {
   "display_name": "Python 3",
   "language": "python",
   "name": "python3"
  },
  "language_info": {
   "codemirror_mode": {
    "name": "ipython",
    "version": 3
   },
   "file_extension": ".py",
   "mimetype": "text/x-python",
   "name": "python",
   "nbconvert_exporter": "python",
   "pygments_lexer": "ipython3",
   "version": "3.6.9"
  }
 },
 "nbformat": 4,
 "nbformat_minor": 2
}
