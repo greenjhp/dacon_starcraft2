{
 "cells": [
  {
   "cell_type": "code",
   "execution_count": 10,
   "metadata": {},
   "outputs": [],
   "source": [
    "import pandas as pd\n",
    "import numpy as np\n",
    "import os, sys\n",
    "# data_folder = '/Users/a80099928/PycharmProjects/dacon_star2_data/'\n",
    "data_folder = 'data/'\n",
    "# pd.options.display.max_rows=1000\n",
    "pd.set_option('display.max_rows', 1000)"
   ]
  },
  {
   "cell_type": "code",
   "execution_count": 2,
   "metadata": {},
   "outputs": [],
   "source": [
    "train_df = pd.read_csv(os.path.join(data_folder,'train.csv'))"
   ]
  },
  {
   "cell_type": "code",
   "execution_count": 11,
   "metadata": {},
   "outputs": [
    {
     "data": {
      "text/html": [
       "<div>\n",
       "<style scoped>\n",
       "    .dataframe tbody tr th:only-of-type {\n",
       "        vertical-align: middle;\n",
       "    }\n",
       "\n",
       "    .dataframe tbody tr th {\n",
       "        vertical-align: top;\n",
       "    }\n",
       "\n",
       "    .dataframe thead th {\n",
       "        text-align: right;\n",
       "    }\n",
       "</style>\n",
       "<table border=\"1\" class=\"dataframe\">\n",
       "  <thead>\n",
       "    <tr style=\"text-align: right;\">\n",
       "      <th></th>\n",
       "      <th>game_id</th>\n",
       "      <th>winner</th>\n",
       "      <th>time</th>\n",
       "      <th>player</th>\n",
       "      <th>species</th>\n",
       "      <th>event</th>\n",
       "      <th>event_contents</th>\n",
       "    </tr>\n",
       "  </thead>\n",
       "  <tbody>\n",
       "    <tr>\n",
       "      <th>0</th>\n",
       "      <td>0</td>\n",
       "      <td>1</td>\n",
       "      <td>0.00</td>\n",
       "      <td>0</td>\n",
       "      <td>T</td>\n",
       "      <td>Camera</td>\n",
       "      <td>at (145.25, 21.5078125)</td>\n",
       "    </tr>\n",
       "    <tr>\n",
       "      <th>1</th>\n",
       "      <td>0</td>\n",
       "      <td>1</td>\n",
       "      <td>0.00</td>\n",
       "      <td>1</td>\n",
       "      <td>T</td>\n",
       "      <td>Camera</td>\n",
       "      <td>at (22.75, 147.0078125)</td>\n",
       "    </tr>\n",
       "    <tr>\n",
       "      <th>2</th>\n",
       "      <td>0</td>\n",
       "      <td>1</td>\n",
       "      <td>0.02</td>\n",
       "      <td>0</td>\n",
       "      <td>T</td>\n",
       "      <td>Selection</td>\n",
       "      <td>['OrbitalCommand [3080001]']</td>\n",
       "    </tr>\n",
       "    <tr>\n",
       "      <th>3</th>\n",
       "      <td>0</td>\n",
       "      <td>1</td>\n",
       "      <td>0.02</td>\n",
       "      <td>0</td>\n",
       "      <td>T</td>\n",
       "      <td>Ability</td>\n",
       "      <td>(1360) - TrainSCV</td>\n",
       "    </tr>\n",
       "    <tr>\n",
       "      <th>4</th>\n",
       "      <td>0</td>\n",
       "      <td>1</td>\n",
       "      <td>0.14</td>\n",
       "      <td>0</td>\n",
       "      <td>T</td>\n",
       "      <td>Camera</td>\n",
       "      <td>at (142.99609375, 24.50390625)</td>\n",
       "    </tr>\n",
       "  </tbody>\n",
       "</table>\n",
       "</div>"
      ],
      "text/plain": [
       "   game_id  winner  time  player species      event  \\\n",
       "0        0       1  0.00       0       T     Camera   \n",
       "1        0       1  0.00       1       T     Camera   \n",
       "2        0       1  0.02       0       T  Selection   \n",
       "3        0       1  0.02       0       T    Ability   \n",
       "4        0       1  0.14       0       T     Camera   \n",
       "\n",
       "                   event_contents  \n",
       "0         at (145.25, 21.5078125)  \n",
       "1         at (22.75, 147.0078125)  \n",
       "2    ['OrbitalCommand [3080001]']  \n",
       "3               (1360) - TrainSCV  \n",
       "4  at (142.99609375, 24.50390625)  "
      ]
     },
     "execution_count": 11,
     "metadata": {},
     "output_type": "execute_result"
    }
   ],
   "source": [
    "train_df.head()"
   ]
  },
  {
   "cell_type": "code",
   "execution_count": 4,
   "metadata": {},
   "outputs": [
    {
     "data": {
      "text/plain": [
       "(38872,)"
      ]
     },
     "execution_count": 4,
     "metadata": {},
     "output_type": "execute_result"
    }
   ],
   "source": [
    "pd.unique(train_df['game_id']).shape"
   ]
  },
  {
   "cell_type": "code",
   "execution_count": 5,
   "metadata": {},
   "outputs": [
    {
     "data": {
      "text/plain": [
       "67091776"
      ]
     },
     "execution_count": 5,
     "metadata": {},
     "output_type": "execute_result"
    }
   ],
   "source": [
    "len(train_df)"
   ]
  },
  {
   "cell_type": "code",
   "execution_count": 6,
   "metadata": {},
   "outputs": [
    {
     "data": {
      "text/html": [
       "<div>\n",
       "<style scoped>\n",
       "    .dataframe tbody tr th:only-of-type {\n",
       "        vertical-align: middle;\n",
       "    }\n",
       "\n",
       "    .dataframe tbody tr th {\n",
       "        vertical-align: top;\n",
       "    }\n",
       "\n",
       "    .dataframe thead th {\n",
       "        text-align: right;\n",
       "    }\n",
       "</style>\n",
       "<table border=\"1\" class=\"dataframe\">\n",
       "  <thead>\n",
       "    <tr style=\"text-align: right;\">\n",
       "      <th></th>\n",
       "      <th>game_id</th>\n",
       "      <th>winner</th>\n",
       "      <th>time</th>\n",
       "      <th>player</th>\n",
       "    </tr>\n",
       "  </thead>\n",
       "  <tbody>\n",
       "    <tr>\n",
       "      <th>count</th>\n",
       "      <td>6.709178e+07</td>\n",
       "      <td>6.709178e+07</td>\n",
       "      <td>6.709178e+07</td>\n",
       "      <td>6.709178e+07</td>\n",
       "    </tr>\n",
       "    <tr>\n",
       "      <th>mean</th>\n",
       "      <td>1.944981e+04</td>\n",
       "      <td>5.012076e-01</td>\n",
       "      <td>4.277912e+00</td>\n",
       "      <td>4.992699e-01</td>\n",
       "    </tr>\n",
       "    <tr>\n",
       "      <th>std</th>\n",
       "      <td>1.122980e+04</td>\n",
       "      <td>4.999985e-01</td>\n",
       "      <td>2.709741e+00</td>\n",
       "      <td>4.999995e-01</td>\n",
       "    </tr>\n",
       "    <tr>\n",
       "      <th>min</th>\n",
       "      <td>0.000000e+00</td>\n",
       "      <td>0.000000e+00</td>\n",
       "      <td>0.000000e+00</td>\n",
       "      <td>0.000000e+00</td>\n",
       "    </tr>\n",
       "    <tr>\n",
       "      <th>25%</th>\n",
       "      <td>9.718000e+03</td>\n",
       "      <td>0.000000e+00</td>\n",
       "      <td>2.120000e+00</td>\n",
       "      <td>0.000000e+00</td>\n",
       "    </tr>\n",
       "    <tr>\n",
       "      <th>50%</th>\n",
       "      <td>1.948500e+04</td>\n",
       "      <td>1.000000e+00</td>\n",
       "      <td>4.150000e+00</td>\n",
       "      <td>0.000000e+00</td>\n",
       "    </tr>\n",
       "    <tr>\n",
       "      <th>75%</th>\n",
       "      <td>2.919700e+04</td>\n",
       "      <td>1.000000e+00</td>\n",
       "      <td>6.360000e+00</td>\n",
       "      <td>1.000000e+00</td>\n",
       "    </tr>\n",
       "    <tr>\n",
       "      <th>max</th>\n",
       "      <td>3.887100e+04</td>\n",
       "      <td>1.000000e+00</td>\n",
       "      <td>1.059000e+01</td>\n",
       "      <td>1.000000e+00</td>\n",
       "    </tr>\n",
       "  </tbody>\n",
       "</table>\n",
       "</div>"
      ],
      "text/plain": [
       "            game_id        winner          time        player\n",
       "count  6.709178e+07  6.709178e+07  6.709178e+07  6.709178e+07\n",
       "mean   1.944981e+04  5.012076e-01  4.277912e+00  4.992699e-01\n",
       "std    1.122980e+04  4.999985e-01  2.709741e+00  4.999995e-01\n",
       "min    0.000000e+00  0.000000e+00  0.000000e+00  0.000000e+00\n",
       "25%    9.718000e+03  0.000000e+00  2.120000e+00  0.000000e+00\n",
       "50%    1.948500e+04  1.000000e+00  4.150000e+00  0.000000e+00\n",
       "75%    2.919700e+04  1.000000e+00  6.360000e+00  1.000000e+00\n",
       "max    3.887100e+04  1.000000e+00  1.059000e+01  1.000000e+00"
      ]
     },
     "execution_count": 6,
     "metadata": {},
     "output_type": "execute_result"
    }
   ],
   "source": [
    "train_df.describe()"
   ]
  },
  {
   "cell_type": "code",
   "execution_count": 7,
   "metadata": {},
   "outputs": [
    {
     "data": {
      "text/plain": [
       "game_id             int64\n",
       "winner              int64\n",
       "time              float64\n",
       "player              int64\n",
       "species            object\n",
       "event              object\n",
       "event_contents     object\n",
       "dtype: object"
      ]
     },
     "execution_count": 7,
     "metadata": {},
     "output_type": "execute_result"
    }
   ],
   "source": [
    "train_df.dtypes"
   ]
  },
  {
   "cell_type": "code",
   "execution_count": 27,
   "metadata": {
    "collapsed": true
   },
   "outputs": [
    {
     "data": {
      "text/html": [
       "<div>\n",
       "<style scoped>\n",
       "    .dataframe tbody tr th:only-of-type {\n",
       "        vertical-align: middle;\n",
       "    }\n",
       "\n",
       "    .dataframe tbody tr th {\n",
       "        vertical-align: top;\n",
       "    }\n",
       "\n",
       "    .dataframe thead th {\n",
       "        text-align: right;\n",
       "    }\n",
       "</style>\n",
       "<table border=\"1\" class=\"dataframe\">\n",
       "  <thead>\n",
       "    <tr style=\"text-align: right;\">\n",
       "      <th></th>\n",
       "      <th>game_id</th>\n",
       "      <th>winner</th>\n",
       "      <th>time</th>\n",
       "      <th>player</th>\n",
       "      <th>species</th>\n",
       "      <th>event</th>\n",
       "      <th>event_contents</th>\n",
       "    </tr>\n",
       "  </thead>\n",
       "  <tbody>\n",
       "    <tr>\n",
       "      <td>0</td>\n",
       "      <td>0</td>\n",
       "      <td>1</td>\n",
       "      <td>0.0</td>\n",
       "      <td>0</td>\n",
       "      <td>T</td>\n",
       "      <td>Camera</td>\n",
       "      <td>at (145.25, 21.5078125)</td>\n",
       "    </tr>\n",
       "    <tr>\n",
       "      <td>1</td>\n",
       "      <td>0</td>\n",
       "      <td>1</td>\n",
       "      <td>0.0</td>\n",
       "      <td>1</td>\n",
       "      <td>T</td>\n",
       "      <td>Camera</td>\n",
       "      <td>at (22.75, 147.0078125)</td>\n",
       "    </tr>\n",
       "    <tr>\n",
       "      <td>1140</td>\n",
       "      <td>1</td>\n",
       "      <td>1</td>\n",
       "      <td>0.0</td>\n",
       "      <td>1</td>\n",
       "      <td>T</td>\n",
       "      <td>Camera</td>\n",
       "      <td>at (28.0, 18.5078125)</td>\n",
       "    </tr>\n",
       "    <tr>\n",
       "      <td>1141</td>\n",
       "      <td>1</td>\n",
       "      <td>1</td>\n",
       "      <td>0.0</td>\n",
       "      <td>0</td>\n",
       "      <td>P</td>\n",
       "      <td>Camera</td>\n",
       "      <td>at (140.0, 162.0078125)</td>\n",
       "    </tr>\n",
       "    <tr>\n",
       "      <td>3574</td>\n",
       "      <td>2</td>\n",
       "      <td>0</td>\n",
       "      <td>0.0</td>\n",
       "      <td>1</td>\n",
       "      <td>Z</td>\n",
       "      <td>Camera</td>\n",
       "      <td>at (24.75, 128.0078125)</td>\n",
       "    </tr>\n",
       "    <tr>\n",
       "      <td>...</td>\n",
       "      <td>...</td>\n",
       "      <td>...</td>\n",
       "      <td>...</td>\n",
       "      <td>...</td>\n",
       "      <td>...</td>\n",
       "      <td>...</td>\n",
       "      <td>...</td>\n",
       "    </tr>\n",
       "    <tr>\n",
       "      <td>67085605</td>\n",
       "      <td>38869</td>\n",
       "      <td>0</td>\n",
       "      <td>0.0</td>\n",
       "      <td>1</td>\n",
       "      <td>Z</td>\n",
       "      <td>Camera</td>\n",
       "      <td>at (24.75, 128.01171875)</td>\n",
       "    </tr>\n",
       "    <tr>\n",
       "      <td>67087669</td>\n",
       "      <td>38870</td>\n",
       "      <td>1</td>\n",
       "      <td>0.0</td>\n",
       "      <td>1</td>\n",
       "      <td>P</td>\n",
       "      <td>Camera</td>\n",
       "      <td>at (31.75, 22.5078125)</td>\n",
       "    </tr>\n",
       "    <tr>\n",
       "      <td>67087670</td>\n",
       "      <td>38870</td>\n",
       "      <td>1</td>\n",
       "      <td>0.0</td>\n",
       "      <td>0</td>\n",
       "      <td>P</td>\n",
       "      <td>Camera</td>\n",
       "      <td>at (152.25, 142.0078125)</td>\n",
       "    </tr>\n",
       "    <tr>\n",
       "      <td>67088668</td>\n",
       "      <td>38871</td>\n",
       "      <td>0</td>\n",
       "      <td>0.0</td>\n",
       "      <td>1</td>\n",
       "      <td>T</td>\n",
       "      <td>Camera</td>\n",
       "      <td>at (36.75, 122.0078125)</td>\n",
       "    </tr>\n",
       "    <tr>\n",
       "      <td>67088669</td>\n",
       "      <td>38871</td>\n",
       "      <td>0</td>\n",
       "      <td>0.0</td>\n",
       "      <td>0</td>\n",
       "      <td>Z</td>\n",
       "      <td>Camera</td>\n",
       "      <td>at (163.25, 18.5078125)</td>\n",
       "    </tr>\n",
       "  </tbody>\n",
       "</table>\n",
       "<p>78702 rows × 7 columns</p>\n",
       "</div>"
      ],
      "text/plain": [
       "          game_id  winner  time  player species   event  \\\n",
       "0               0       1   0.0       0       T  Camera   \n",
       "1               0       1   0.0       1       T  Camera   \n",
       "1140            1       1   0.0       1       T  Camera   \n",
       "1141            1       1   0.0       0       P  Camera   \n",
       "3574            2       0   0.0       1       Z  Camera   \n",
       "...           ...     ...   ...     ...     ...     ...   \n",
       "67085605    38869       0   0.0       1       Z  Camera   \n",
       "67087669    38870       1   0.0       1       P  Camera   \n",
       "67087670    38870       1   0.0       0       P  Camera   \n",
       "67088668    38871       0   0.0       1       T  Camera   \n",
       "67088669    38871       0   0.0       0       Z  Camera   \n",
       "\n",
       "                    event_contents  \n",
       "0          at (145.25, 21.5078125)  \n",
       "1          at (22.75, 147.0078125)  \n",
       "1140         at (28.0, 18.5078125)  \n",
       "1141       at (140.0, 162.0078125)  \n",
       "3574       at (24.75, 128.0078125)  \n",
       "...                            ...  \n",
       "67085605  at (24.75, 128.01171875)  \n",
       "67087669    at (31.75, 22.5078125)  \n",
       "67087670  at (152.25, 142.0078125)  \n",
       "67088668   at (36.75, 122.0078125)  \n",
       "67088669   at (163.25, 18.5078125)  \n",
       "\n",
       "[78702 rows x 7 columns]"
      ]
     },
     "execution_count": 27,
     "metadata": {},
     "output_type": "execute_result"
    }
   ],
   "source": [
    "# 각 게임의 첫 시작은 무조건 camera일까?\n",
    "train_df[(train_df['time']==0) & (train_df['event']=='Camera')]"
   ]
  },
  {
   "cell_type": "code",
   "execution_count": 8,
   "metadata": {},
   "outputs": [
    {
     "name": "stdout",
     "output_type": "stream",
     "text": [
      "3798390\n",
      "29.54979109764099 Ability\n",
      "149340\n",
      "7.646019697189331 AddToControlGroup\n",
      "31629407\n",
      "160.66735816001892 Camera\n",
      "30719\n",
      "8.300530195236206 ControlGroup\n",
      "10051180\n",
      "50.37962985038757 GetControlGroup\n",
      "11565877\n",
      "77.80876111984253 Right Click\n",
      "9526159\n",
      "51.55662488937378 Selection\n",
      "340704\n",
      "12.634552717208862 SetControlGroup\n"
     ]
    }
   ],
   "source": [
    "# event별로 나눠서 파일 각각 저장\n",
    "import time\n",
    "for event in ['Ability','AddToControlGroup','Camera','ControlGroup','GetControlGroup','Right Click','Selection','SetControlGroup']:\n",
    "    st_t = time.time()\n",
    "    tmp_df = train_df[train_df['event']==event]\n",
    "    print(len(tmp_df))\n",
    "    tmp_df.to_csv(os.path.join(data_folder,f'train_{event}.csv'),index=False)\n",
    "    print(time.time()-st_t, event)"
   ]
  },
  {
   "cell_type": "code",
   "execution_count": 36,
   "metadata": {},
   "outputs": [],
   "source": [
    "# AddToControlGroup, ControlGroup, GetControlGroup, SetControlGroup, \n",
    "# 네 개는 event_contents가 없음\n",
    "# Ability, Camera, Right Click, Selection\n",
    "# event_contents 복잡도\n",
    "# Ability > Right Click > Selection > Camera"
   ]
  },
  {
   "cell_type": "code",
   "execution_count": 39,
   "metadata": {},
   "outputs": [],
   "source": [
    "# 승/패 LABEL csv로 따로 저장\n",
    "tmp_df = train_df[['game_id','winner','player','species']].drop_duplicates()\n",
    "tmp_df1 = tmp_df.pivot(index = 'game_id',columns='player',values='species').reset_index()\n",
    "tmp_df2 = train_df[['game_id','winner']].drop_duplicates()\n",
    "tmp_df = pd.merge(tmp_df1, tmp_df2,on='game_id')\n",
    "tmp_df.to_csv(os.path.join(data_folder,'train_species_labels.csv'),index=False)"
   ]
  },
  {
   "cell_type": "code",
   "execution_count": 59,
   "metadata": {},
   "outputs": [],
   "source": [
    "# 게임별, 플레이어별 각 action별 count 수 따로 csv로 저장\n",
    "tmp_df = train_df[['game_id','player','event','time']].groupby(['game_id','player','event']).count().reset_index()\n",
    "tmp_df['player_event'] = tmp_df['player'].astype(str) + '_'+tmp_df['event']\n",
    "tmp_df.pivot(index='game_id',columns='player_event',values='time').fillna(0).reset_index().to_csv(os.path.join(data_folder,'train_action_count.csv'),index=False)"
   ]
  },
  {
   "cell_type": "code",
   "execution_count": null,
   "metadata": {},
   "outputs": [],
   "source": []
  },
  {
   "cell_type": "code",
   "execution_count": null,
   "metadata": {},
   "outputs": [],
   "source": []
  },
  {
   "cell_type": "code",
   "execution_count": null,
   "metadata": {},
   "outputs": [],
   "source": []
  },
  {
   "cell_type": "markdown",
   "metadata": {},
   "source": [
    "# kernel reset"
   ]
  },
  {
   "cell_type": "code",
   "execution_count": 1,
   "metadata": {},
   "outputs": [],
   "source": [
    "import pandas as pd\n",
    "import numpy as np\n",
    "import os, sys\n",
    "data_folder = '/Users/a80099928/PycharmProjects/dacon_star2_data/'\n",
    "pd.options.display.max_rows=1000"
   ]
  },
  {
   "cell_type": "code",
   "execution_count": 2,
   "metadata": {},
   "outputs": [],
   "source": [
    "df = pd.read_csv(os.path.join(data_folder,'train_species_labels.csv'))\n",
    "df1 = pd.read_csv(os.path.join(data_folder,'train_action_count.csv'))"
   ]
  },
  {
   "cell_type": "code",
   "execution_count": 3,
   "metadata": {},
   "outputs": [
    {
     "data": {
      "text/html": [
       "<div>\n",
       "<style scoped>\n",
       "    .dataframe tbody tr th:only-of-type {\n",
       "        vertical-align: middle;\n",
       "    }\n",
       "\n",
       "    .dataframe tbody tr th {\n",
       "        vertical-align: top;\n",
       "    }\n",
       "\n",
       "    .dataframe thead th {\n",
       "        text-align: right;\n",
       "    }\n",
       "</style>\n",
       "<table border=\"1\" class=\"dataframe\">\n",
       "  <thead>\n",
       "    <tr style=\"text-align: right;\">\n",
       "      <th></th>\n",
       "      <th>game_id</th>\n",
       "      <th>0_Ability</th>\n",
       "      <th>0_AddToControlGroup</th>\n",
       "      <th>0_Camera</th>\n",
       "      <th>0_ControlGroup</th>\n",
       "      <th>0_GetControlGroup</th>\n",
       "      <th>0_Right Click</th>\n",
       "      <th>0_Selection</th>\n",
       "      <th>0_SetControlGroup</th>\n",
       "      <th>1_Ability</th>\n",
       "      <th>1_AddToControlGroup</th>\n",
       "      <th>1_Camera</th>\n",
       "      <th>1_ControlGroup</th>\n",
       "      <th>1_GetControlGroup</th>\n",
       "      <th>1_Right Click</th>\n",
       "      <th>1_Selection</th>\n",
       "      <th>1_SetControlGroup</th>\n",
       "    </tr>\n",
       "  </thead>\n",
       "  <tbody>\n",
       "    <tr>\n",
       "      <td>0</td>\n",
       "      <td>0</td>\n",
       "      <td>34.0</td>\n",
       "      <td>2.0</td>\n",
       "      <td>444.0</td>\n",
       "      <td>0.0</td>\n",
       "      <td>24.0</td>\n",
       "      <td>35.0</td>\n",
       "      <td>50.0</td>\n",
       "      <td>3.0</td>\n",
       "      <td>34.0</td>\n",
       "      <td>0.0</td>\n",
       "      <td>425.0</td>\n",
       "      <td>0.0</td>\n",
       "      <td>3.0</td>\n",
       "      <td>28.0</td>\n",
       "      <td>57.0</td>\n",
       "      <td>1.0</td>\n",
       "    </tr>\n",
       "    <tr>\n",
       "      <td>1</td>\n",
       "      <td>1</td>\n",
       "      <td>77.0</td>\n",
       "      <td>1.0</td>\n",
       "      <td>627.0</td>\n",
       "      <td>0.0</td>\n",
       "      <td>162.0</td>\n",
       "      <td>160.0</td>\n",
       "      <td>186.0</td>\n",
       "      <td>10.0</td>\n",
       "      <td>67.0</td>\n",
       "      <td>0.0</td>\n",
       "      <td>858.0</td>\n",
       "      <td>0.0</td>\n",
       "      <td>31.0</td>\n",
       "      <td>131.0</td>\n",
       "      <td>116.0</td>\n",
       "      <td>8.0</td>\n",
       "    </tr>\n",
       "    <tr>\n",
       "      <td>2</td>\n",
       "      <td>2</td>\n",
       "      <td>69.0</td>\n",
       "      <td>6.0</td>\n",
       "      <td>413.0</td>\n",
       "      <td>0.0</td>\n",
       "      <td>99.0</td>\n",
       "      <td>160.0</td>\n",
       "      <td>90.0</td>\n",
       "      <td>14.0</td>\n",
       "      <td>85.0</td>\n",
       "      <td>5.0</td>\n",
       "      <td>725.0</td>\n",
       "      <td>2.0</td>\n",
       "      <td>109.0</td>\n",
       "      <td>204.0</td>\n",
       "      <td>232.0</td>\n",
       "      <td>9.0</td>\n",
       "    </tr>\n",
       "    <tr>\n",
       "      <td>3</td>\n",
       "      <td>3</td>\n",
       "      <td>82.0</td>\n",
       "      <td>0.0</td>\n",
       "      <td>713.0</td>\n",
       "      <td>0.0</td>\n",
       "      <td>132.0</td>\n",
       "      <td>276.0</td>\n",
       "      <td>180.0</td>\n",
       "      <td>6.0</td>\n",
       "      <td>89.0</td>\n",
       "      <td>0.0</td>\n",
       "      <td>388.0</td>\n",
       "      <td>0.0</td>\n",
       "      <td>710.0</td>\n",
       "      <td>268.0</td>\n",
       "      <td>148.0</td>\n",
       "      <td>19.0</td>\n",
       "    </tr>\n",
       "    <tr>\n",
       "      <td>4</td>\n",
       "      <td>4</td>\n",
       "      <td>57.0</td>\n",
       "      <td>1.0</td>\n",
       "      <td>430.0</td>\n",
       "      <td>0.0</td>\n",
       "      <td>224.0</td>\n",
       "      <td>177.0</td>\n",
       "      <td>67.0</td>\n",
       "      <td>10.0</td>\n",
       "      <td>36.0</td>\n",
       "      <td>4.0</td>\n",
       "      <td>272.0</td>\n",
       "      <td>0.0</td>\n",
       "      <td>99.0</td>\n",
       "      <td>106.0</td>\n",
       "      <td>126.0</td>\n",
       "      <td>8.0</td>\n",
       "    </tr>\n",
       "  </tbody>\n",
       "</table>\n",
       "</div>"
      ],
      "text/plain": [
       "   game_id  0_Ability  0_AddToControlGroup  0_Camera  0_ControlGroup  \\\n",
       "0        0       34.0                  2.0     444.0             0.0   \n",
       "1        1       77.0                  1.0     627.0             0.0   \n",
       "2        2       69.0                  6.0     413.0             0.0   \n",
       "3        3       82.0                  0.0     713.0             0.0   \n",
       "4        4       57.0                  1.0     430.0             0.0   \n",
       "\n",
       "   0_GetControlGroup  0_Right Click  0_Selection  0_SetControlGroup  \\\n",
       "0               24.0           35.0         50.0                3.0   \n",
       "1              162.0          160.0        186.0               10.0   \n",
       "2               99.0          160.0         90.0               14.0   \n",
       "3              132.0          276.0        180.0                6.0   \n",
       "4              224.0          177.0         67.0               10.0   \n",
       "\n",
       "   1_Ability  1_AddToControlGroup  1_Camera  1_ControlGroup  \\\n",
       "0       34.0                  0.0     425.0             0.0   \n",
       "1       67.0                  0.0     858.0             0.0   \n",
       "2       85.0                  5.0     725.0             2.0   \n",
       "3       89.0                  0.0     388.0             0.0   \n",
       "4       36.0                  4.0     272.0             0.0   \n",
       "\n",
       "   1_GetControlGroup  1_Right Click  1_Selection  1_SetControlGroup  \n",
       "0                3.0           28.0         57.0                1.0  \n",
       "1               31.0          131.0        116.0                8.0  \n",
       "2              109.0          204.0        232.0                9.0  \n",
       "3              710.0          268.0        148.0               19.0  \n",
       "4               99.0          106.0        126.0                8.0  "
      ]
     },
     "execution_count": 3,
     "metadata": {},
     "output_type": "execute_result"
    }
   ],
   "source": [
    "df1.head()"
   ]
  },
  {
   "cell_type": "code",
   "execution_count": 4,
   "metadata": {},
   "outputs": [],
   "source": [
    "df = pd.merge(df, df1, on='game_id')"
   ]
  },
  {
   "cell_type": "code",
   "execution_count": 5,
   "metadata": {},
   "outputs": [],
   "source": [
    "# 플레이어 종족, event별 action count만 갖고 lightGBM 돌려보자"
   ]
  },
  {
   "cell_type": "code",
   "execution_count": 6,
   "metadata": {},
   "outputs": [],
   "source": [
    "df['species0_T'] = df['0'].map(lambda x: 1 if x=='T' else 0)\n",
    "df['species0_P'] = df['0'].map(lambda x: 1 if x=='P' else 0)\n",
    "df['species0_Z'] = df['0'].map(lambda x: 1 if x=='Z' else 0)\n",
    "df['species1_T'] = df['1'].map(lambda x: 1 if x=='T' else 0)\n",
    "df['species1_P'] = df['1'].map(lambda x: 1 if x=='P' else 0)\n",
    "df['species1_Z'] = df['1'].map(lambda x: 1 if x=='Z' else 0)"
   ]
  },
  {
   "cell_type": "code",
   "execution_count": 7,
   "metadata": {},
   "outputs": [
    {
     "data": {
      "text/html": [
       "<div>\n",
       "<style scoped>\n",
       "    .dataframe tbody tr th:only-of-type {\n",
       "        vertical-align: middle;\n",
       "    }\n",
       "\n",
       "    .dataframe tbody tr th {\n",
       "        vertical-align: top;\n",
       "    }\n",
       "\n",
       "    .dataframe thead th {\n",
       "        text-align: right;\n",
       "    }\n",
       "</style>\n",
       "<table border=\"1\" class=\"dataframe\">\n",
       "  <thead>\n",
       "    <tr style=\"text-align: right;\">\n",
       "      <th></th>\n",
       "      <th>game_id</th>\n",
       "      <th>0</th>\n",
       "      <th>1</th>\n",
       "      <th>winner</th>\n",
       "      <th>0_Ability</th>\n",
       "      <th>0_AddToControlGroup</th>\n",
       "      <th>0_Camera</th>\n",
       "      <th>0_ControlGroup</th>\n",
       "      <th>0_GetControlGroup</th>\n",
       "      <th>0_Right Click</th>\n",
       "      <th>...</th>\n",
       "      <th>1_GetControlGroup</th>\n",
       "      <th>1_Right Click</th>\n",
       "      <th>1_Selection</th>\n",
       "      <th>1_SetControlGroup</th>\n",
       "      <th>species0_T</th>\n",
       "      <th>species0_P</th>\n",
       "      <th>species0_Z</th>\n",
       "      <th>species1_T</th>\n",
       "      <th>species1_P</th>\n",
       "      <th>species1_Z</th>\n",
       "    </tr>\n",
       "  </thead>\n",
       "  <tbody>\n",
       "    <tr>\n",
       "      <td>0</td>\n",
       "      <td>0</td>\n",
       "      <td>T</td>\n",
       "      <td>T</td>\n",
       "      <td>1</td>\n",
       "      <td>34.0</td>\n",
       "      <td>2.0</td>\n",
       "      <td>444.0</td>\n",
       "      <td>0.0</td>\n",
       "      <td>24.0</td>\n",
       "      <td>35.0</td>\n",
       "      <td>...</td>\n",
       "      <td>3.0</td>\n",
       "      <td>28.0</td>\n",
       "      <td>57.0</td>\n",
       "      <td>1.0</td>\n",
       "      <td>1</td>\n",
       "      <td>0</td>\n",
       "      <td>0</td>\n",
       "      <td>1</td>\n",
       "      <td>0</td>\n",
       "      <td>0</td>\n",
       "    </tr>\n",
       "    <tr>\n",
       "      <td>1</td>\n",
       "      <td>1</td>\n",
       "      <td>P</td>\n",
       "      <td>T</td>\n",
       "      <td>1</td>\n",
       "      <td>77.0</td>\n",
       "      <td>1.0</td>\n",
       "      <td>627.0</td>\n",
       "      <td>0.0</td>\n",
       "      <td>162.0</td>\n",
       "      <td>160.0</td>\n",
       "      <td>...</td>\n",
       "      <td>31.0</td>\n",
       "      <td>131.0</td>\n",
       "      <td>116.0</td>\n",
       "      <td>8.0</td>\n",
       "      <td>0</td>\n",
       "      <td>1</td>\n",
       "      <td>0</td>\n",
       "      <td>1</td>\n",
       "      <td>0</td>\n",
       "      <td>0</td>\n",
       "    </tr>\n",
       "    <tr>\n",
       "      <td>2</td>\n",
       "      <td>2</td>\n",
       "      <td>P</td>\n",
       "      <td>Z</td>\n",
       "      <td>0</td>\n",
       "      <td>69.0</td>\n",
       "      <td>6.0</td>\n",
       "      <td>413.0</td>\n",
       "      <td>0.0</td>\n",
       "      <td>99.0</td>\n",
       "      <td>160.0</td>\n",
       "      <td>...</td>\n",
       "      <td>109.0</td>\n",
       "      <td>204.0</td>\n",
       "      <td>232.0</td>\n",
       "      <td>9.0</td>\n",
       "      <td>0</td>\n",
       "      <td>1</td>\n",
       "      <td>0</td>\n",
       "      <td>0</td>\n",
       "      <td>0</td>\n",
       "      <td>1</td>\n",
       "    </tr>\n",
       "    <tr>\n",
       "      <td>3</td>\n",
       "      <td>3</td>\n",
       "      <td>T</td>\n",
       "      <td>P</td>\n",
       "      <td>0</td>\n",
       "      <td>82.0</td>\n",
       "      <td>0.0</td>\n",
       "      <td>713.0</td>\n",
       "      <td>0.0</td>\n",
       "      <td>132.0</td>\n",
       "      <td>276.0</td>\n",
       "      <td>...</td>\n",
       "      <td>710.0</td>\n",
       "      <td>268.0</td>\n",
       "      <td>148.0</td>\n",
       "      <td>19.0</td>\n",
       "      <td>1</td>\n",
       "      <td>0</td>\n",
       "      <td>0</td>\n",
       "      <td>0</td>\n",
       "      <td>1</td>\n",
       "      <td>0</td>\n",
       "    </tr>\n",
       "    <tr>\n",
       "      <td>4</td>\n",
       "      <td>4</td>\n",
       "      <td>T</td>\n",
       "      <td>Z</td>\n",
       "      <td>0</td>\n",
       "      <td>57.0</td>\n",
       "      <td>1.0</td>\n",
       "      <td>430.0</td>\n",
       "      <td>0.0</td>\n",
       "      <td>224.0</td>\n",
       "      <td>177.0</td>\n",
       "      <td>...</td>\n",
       "      <td>99.0</td>\n",
       "      <td>106.0</td>\n",
       "      <td>126.0</td>\n",
       "      <td>8.0</td>\n",
       "      <td>1</td>\n",
       "      <td>0</td>\n",
       "      <td>0</td>\n",
       "      <td>0</td>\n",
       "      <td>0</td>\n",
       "      <td>1</td>\n",
       "    </tr>\n",
       "  </tbody>\n",
       "</table>\n",
       "<p>5 rows × 26 columns</p>\n",
       "</div>"
      ],
      "text/plain": [
       "   game_id  0  1  winner  0_Ability  0_AddToControlGroup  0_Camera  \\\n",
       "0        0  T  T       1       34.0                  2.0     444.0   \n",
       "1        1  P  T       1       77.0                  1.0     627.0   \n",
       "2        2  P  Z       0       69.0                  6.0     413.0   \n",
       "3        3  T  P       0       82.0                  0.0     713.0   \n",
       "4        4  T  Z       0       57.0                  1.0     430.0   \n",
       "\n",
       "   0_ControlGroup  0_GetControlGroup  0_Right Click  ...  1_GetControlGroup  \\\n",
       "0             0.0               24.0           35.0  ...                3.0   \n",
       "1             0.0              162.0          160.0  ...               31.0   \n",
       "2             0.0               99.0          160.0  ...              109.0   \n",
       "3             0.0              132.0          276.0  ...              710.0   \n",
       "4             0.0              224.0          177.0  ...               99.0   \n",
       "\n",
       "   1_Right Click  1_Selection  1_SetControlGroup  species0_T  species0_P  \\\n",
       "0           28.0         57.0                1.0           1           0   \n",
       "1          131.0        116.0                8.0           0           1   \n",
       "2          204.0        232.0                9.0           0           1   \n",
       "3          268.0        148.0               19.0           1           0   \n",
       "4          106.0        126.0                8.0           1           0   \n",
       "\n",
       "   species0_Z  species1_T  species1_P  species1_Z  \n",
       "0           0           1           0           0  \n",
       "1           0           1           0           0  \n",
       "2           0           0           0           1  \n",
       "3           0           0           1           0  \n",
       "4           0           0           0           1  \n",
       "\n",
       "[5 rows x 26 columns]"
      ]
     },
     "execution_count": 7,
     "metadata": {},
     "output_type": "execute_result"
    }
   ],
   "source": [
    "df.head()"
   ]
  },
  {
   "cell_type": "code",
   "execution_count": 8,
   "metadata": {},
   "outputs": [
    {
     "data": {
      "text/plain": [
       "Index(['game_id', '0', '1', 'winner', '0_Ability', '0_AddToControlGroup',\n",
       "       '0_Camera', '0_ControlGroup', '0_GetControlGroup', '0_Right Click',\n",
       "       '0_Selection', '0_SetControlGroup', '1_Ability', '1_AddToControlGroup',\n",
       "       '1_Camera', '1_ControlGroup', '1_GetControlGroup', '1_Right Click',\n",
       "       '1_Selection', '1_SetControlGroup', 'species0_T', 'species0_P',\n",
       "       'species0_Z', 'species1_T', 'species1_P', 'species1_Z'],\n",
       "      dtype='object')"
      ]
     },
     "execution_count": 8,
     "metadata": {},
     "output_type": "execute_result"
    }
   ],
   "source": [
    "df.columns"
   ]
  },
  {
   "cell_type": "code",
   "execution_count": 9,
   "metadata": {},
   "outputs": [],
   "source": [
    "_ftr = list(set(df.columns) - set(['game_id','winner','0','1']))"
   ]
  },
  {
   "cell_type": "code",
   "execution_count": 10,
   "metadata": {},
   "outputs": [],
   "source": [
    "from sklearn.model_selection import train_test_split"
   ]
  },
  {
   "cell_type": "code",
   "execution_count": 11,
   "metadata": {},
   "outputs": [],
   "source": [
    "train_data, test_data = train_test_split(df, test_size=0.2, random_state=1)\n",
    "train_data, valid_data = train_test_split(train_data, test_size=0.4, random_state=2)"
   ]
  },
  {
   "cell_type": "raw",
   "metadata": {},
   "source": [
    "train_data, valid_data = train_test_split(df, test_size=0.4, random_state=2)"
   ]
  },
  {
   "cell_type": "code",
   "execution_count": 12,
   "metadata": {},
   "outputs": [
    {
     "name": "stdout",
     "output_type": "stream",
     "text": [
      "train_data:  (18658, 26)\n",
      "valid_data:  (12439, 26)\n",
      "test_data:  (7775, 26)\n"
     ]
    }
   ],
   "source": [
    "print('train_data: ',train_data.shape)\n",
    "print('valid_data: ',valid_data.shape)\n",
    "print('test_data: ',test_data.shape)"
   ]
  },
  {
   "cell_type": "raw",
   "metadata": {},
   "source": [
    "print('train_data: ',train_data.shape)\n",
    "print('valid_data: ',valid_data.shape)"
   ]
  },
  {
   "cell_type": "code",
   "execution_count": 13,
   "metadata": {},
   "outputs": [],
   "source": [
    "X_train, y_train = train_data[_ftr], train_data['winner']\n",
    "X_valid, y_valid = valid_data[_ftr], valid_data['winner']\n",
    "X_test, y_test = test_data[_ftr], test_data['winner']"
   ]
  },
  {
   "cell_type": "raw",
   "metadata": {},
   "source": [
    "X_train, y_train = train_data[_ftr], train_data['winner']\n",
    "X_valid, y_valid = valid_data[_ftr], valid_data['winner']"
   ]
  },
  {
   "cell_type": "code",
   "execution_count": 14,
   "metadata": {},
   "outputs": [
    {
     "name": "stderr",
     "output_type": "stream",
     "text": [
      "/Users/a80099928/opt/anaconda3/lib/python3.7/site-packages/lightgbm/__init__.py:48: UserWarning: Starting from version 2.2.1, the library file in distribution wheels for macOS is built by the Apple Clang (Xcode_8.3.3) compiler.\n",
      "This means that in case of installing LightGBM from PyPI via the ``pip install lightgbm`` command, you don't need to install the gcc compiler anymore.\n",
      "Instead of that, you need to install the OpenMP library, which is required for running LightGBM on the system with the Apple Clang compiler.\n",
      "You can install the OpenMP library by the following command: ``brew install libomp``.\n",
      "  \"You can install the OpenMP library by the following command: ``brew install libomp``.\", UserWarning)\n"
     ]
    }
   ],
   "source": [
    "import lightgbm as lgb\n",
    "lgb_train_data = lgb.Dataset(X_train, label=y_train)\n",
    "lgb_valid_data = lgb.Dataset(X_valid, label=y_valid)"
   ]
  },
  {
   "cell_type": "code",
   "execution_count": 15,
   "metadata": {},
   "outputs": [],
   "source": [
    "num_threads, learning_rate = 12,0.05\n",
    "params = {'boosting_type': 'gbdt', \n",
    "         'objective': 'binary',\n",
    "         'num_threads' : num_threads, 'learning_rate' : learning_rate,\n",
    "         'vervosity':0}\n",
    "bst = lgb.train(params, lgb_train_data,\n",
    "               num_boost_round = 5000,\n",
    "               early_stopping_rounds=10,\n",
    "               valid_sets=[lgb_valid_data],\n",
    "               verbose_eval=False)"
   ]
  },
  {
   "cell_type": "code",
   "execution_count": 16,
   "metadata": {},
   "outputs": [],
   "source": [
    "from sklearn.metrics import roc_auc_score\n",
    "predict_test = bst.predict(X_test)"
   ]
  },
  {
   "cell_type": "code",
   "execution_count": 17,
   "metadata": {},
   "outputs": [],
   "source": [
    "auc = roc_auc_score(y_test, predict_test)"
   ]
  },
  {
   "cell_type": "code",
   "execution_count": 18,
   "metadata": {},
   "outputs": [
    {
     "data": {
      "text/plain": [
       "0.6448508548486072"
      ]
     },
     "execution_count": 18,
     "metadata": {},
     "output_type": "execute_result"
    }
   ],
   "source": [
    "auc # 0.6448508548486072"
   ]
  },
  {
   "cell_type": "raw",
   "metadata": {},
   "source": [
    "bst.save_model(os.path.join(data_folder,'baseline_0303.model'))"
   ]
  },
  {
   "cell_type": "code",
   "execution_count": null,
   "metadata": {},
   "outputs": [],
   "source": []
  }
 ],
 "metadata": {
  "hide_input": false,
  "kernelspec": {
   "display_name": "glen",
   "language": "python",
   "name": "glen"
  },
  "language_info": {
   "codemirror_mode": {
    "name": "ipython",
    "version": 3
   },
   "file_extension": ".py",
   "mimetype": "text/x-python",
   "name": "python",
   "nbconvert_exporter": "python",
   "pygments_lexer": "ipython3",
   "version": "3.6.7"
  },
  "toc": {
   "base_numbering": 1,
   "nav_menu": {},
   "number_sections": true,
   "sideBar": true,
   "skip_h1_title": false,
   "title_cell": "Table of Contents",
   "title_sidebar": "Contents",
   "toc_cell": false,
   "toc_position": {},
   "toc_section_display": true,
   "toc_window_display": false
  }
 },
 "nbformat": 4,
 "nbformat_minor": 2
}
