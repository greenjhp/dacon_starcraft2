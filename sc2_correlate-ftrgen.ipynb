{
 "cells": [
  {
   "cell_type": "markdown",
   "metadata": {},
   "source": [
    "### 공통"
   ]
  },
  {
   "cell_type": "code",
   "execution_count": 2,
   "metadata": {},
   "outputs": [],
   "source": [
    "import pickle\n",
    "import pandas as pd\n",
    "import numpy as np\n",
    "pd.options.display.max_rows=1000\n",
    "pd.options.display.max_colwidth = -1\n",
    "\n",
    "from collections import Counter"
   ]
  },
  {
   "cell_type": "code",
   "execution_count": 3,
   "metadata": {},
   "outputs": [],
   "source": [
    "# 정규식\n",
    "import re\n",
    "cmp = re.compile('(?:Target:\\s([A-Za-z]*)\\s\\[([0-9A-Z]*)\\][\\s;]*)?Location:\\s\\(([0-9]*)[.0-9]*,\\s([0-9]*)[.0-9]*.*?\\)')\n",
    "units = re.compile('([0-9A-Za-z]*)\\s\\[([0-9A-Z]*)\\]')"
   ]
  },
  {
   "cell_type": "markdown",
   "metadata": {},
   "source": [
    "### 학습용"
   ]
  },
  {
   "cell_type": "code",
   "execution_count": 314,
   "metadata": {},
   "outputs": [],
   "source": [
    "df = pd.read_csv('./data/train.csv') #, nrows=1000000)"
   ]
  },
  {
   "cell_type": "code",
   "execution_count": 315,
   "metadata": {},
   "outputs": [],
   "source": [
    "df = df[df['event'].isin(['Selection'])]\n",
    "arr_units = df['event_contents'].map(units.findall)\n",
    "del df['event_contents']\n",
    "df = pd.concat([df, arr_units], axis=1)"
   ]
  },
  {
   "cell_type": "code",
   "execution_count": 316,
   "metadata": {},
   "outputs": [],
   "source": [
    "unit_dict = {}\n",
    "species_units = {'Z':{}, 'P':{}, 'T':{}}\n",
    "for idx, data in df.iterrows():\n",
    "    if not data['game_id'] in unit_dict:\n",
    "        unit_dict[data['game_id']] = [{}, {}]\n",
    "    for unit_name, unit_id in data['event_contents']:\n",
    "        if unit_name and len(unit_name) > 0: # and len(npcs.findall(unit_name)) == 0:\n",
    "            # check the enemy has it\n",
    "            if not unit_id in unit_dict[data['game_id']][(data['player'] + 1 ) % 2]:\n",
    "                unit_dict[data['game_id']][data['player']][unit_id] = unit_name\n",
    "                # save unit names per each species\n",
    "                if unit_name in species_units[data['species']]:\n",
    "                    species_units[data['species']][unit_name] += 1\n",
    "                else:\n",
    "                    species_units[data['species']][unit_name] = 1\n",
    "        else:\n",
    "            print(f\"{idx}: [gid {data['game_id']}] Invalid item name {unit_name} ({unit_id})\")"
   ]
  },
  {
   "cell_type": "code",
   "execution_count": 487,
   "metadata": {},
   "outputs": [],
   "source": [
    "# feature 생성 시, Selection Action 상위 100개까지만 취해서 feature로 만듬\n",
    "columns100_dict = {}\n",
    "for sp_key in ['Z', 'P', 'T']:\n",
    "    #print('-------------------------------', sp_key)\n",
    "    columns100_dict[sp_key] = pd.Series(species_units[sp_key]).sort_values(ascending=False)[:100].to_dict()\n",
    "    #print(columns100_dict[sp_key])"
   ]
  },
  {
   "cell_type": "code",
   "execution_count": 320,
   "metadata": {},
   "outputs": [],
   "source": [
    "species_dict = df.groupby(by=['game_id', 'player'])['species'].first().to_dict()"
   ]
  },
  {
   "cell_type": "code",
   "execution_count": 321,
   "metadata": {},
   "outputs": [],
   "source": [
    "winner_dict = df.groupby(by=['game_id'])['winner'].first().to_dict()"
   ]
  },
  {
   "cell_type": "code",
   "execution_count": 318,
   "metadata": {},
   "outputs": [],
   "source": [
    "pickle.dump(unit_dict, open('./data/unit_dict.pkl', 'wb'))\n",
    "pickle.dump(species_units, open('./data/species_units_dict.pkl', 'wb'))\n",
    "pickle.dump(species_dict, open('./data/species_dict.pkl', 'wb'))\n",
    "pickle.dump(winner_dict, open('./data/winner_dict.pkl', 'wb'))\n",
    "pickle.dump(columns100_dict, open('./data/columns100_dict.pkl', 'wb'))"
   ]
  },
  {
   "cell_type": "code",
   "execution_count": 407,
   "metadata": {},
   "outputs": [],
   "source": [
    "col_names = [f'p{pid}_u{uid}' for pid in range(2) for uid in range(100)]\n",
    "\n",
    "pd.DataFrame(['game_id'] + col_names).T.to_csv('./data/ftr_top100_unit_counts.csv', mode='w', header=None, index=False)\n",
    "for GID in range(df['game_id'].max() + 1):\n",
    "#     print(GID)\n",
    "    game_id = pd.Series([GID], index=['game_id'])\n",
    "    p1 = pd.Series(dict(Counter(list(unit_dict[GID][0].values()))), index=columns100_dict[species_dict[(GID,0)] if (GID, 0) in species_dict else 'T'].keys()) #.reset_index(drop=True)\n",
    "    p2 = pd.Series(dict(Counter(list(unit_dict[GID][1].values()))), index=columns100_dict[species_dict[(GID,1)] if (GID, 1) in species_dict else 'T'].keys())\n",
    "    pd.concat([game_id, p1,p2]).to_frame().T.fillna(0).astype(int).to_csv('./data/ftr_top100_unit_counts.csv', mode='a', header=None, index=False)"
   ]
  },
  {
   "cell_type": "code",
   "execution_count": null,
   "metadata": {},
   "outputs": [],
   "source": []
  },
  {
   "cell_type": "markdown",
   "metadata": {},
   "source": [
    "### 예측용"
   ]
  },
  {
   "cell_type": "code",
   "execution_count": 4,
   "metadata": {},
   "outputs": [
    {
     "data": {
      "text/plain": [
       "(28714849, 6)"
      ]
     },
     "execution_count": 4,
     "metadata": {},
     "output_type": "execute_result"
    }
   ],
   "source": [
    "df = pd.read_csv('./data/test.csv') #, nrows=1000000)\n",
    "df.shape, df['game_id'].max()"
   ]
  },
  {
   "cell_type": "code",
   "execution_count": 6,
   "metadata": {},
   "outputs": [],
   "source": [
    "df = df[df['event'].isin(['Selection'])]\n",
    "arr_units = df['event_contents'].map(units.findall)\n",
    "del df['event_contents']\n",
    "df = pd.concat([df, arr_units], axis=1)"
   ]
  },
  {
   "cell_type": "code",
   "execution_count": 7,
   "metadata": {},
   "outputs": [],
   "source": [
    "unit_dict = {}\n",
    "species_units = {'Z':{}, 'P':{}, 'T':{}}\n",
    "for idx, data in df.iterrows():\n",
    "    if not data['game_id'] in unit_dict:\n",
    "        unit_dict[data['game_id']] = [{}, {}]\n",
    "    for unit_name, unit_id in data['event_contents']:\n",
    "        if unit_name and len(unit_name) > 0: # and len(npcs.findall(unit_name)) == 0:\n",
    "            # check the enemy has it\n",
    "            if not unit_id in unit_dict[data['game_id']][(data['player'] + 1 ) % 2]:\n",
    "                unit_dict[data['game_id']][data['player']][unit_id] = unit_name\n",
    "                # save unit names per each species\n",
    "                if unit_name in species_units[data['species']]:\n",
    "                    species_units[data['species']][unit_name] += 1\n",
    "                else:\n",
    "                    species_units[data['species']][unit_name] = 1\n",
    "        else:\n",
    "            print(f\"{idx}: [gid {data['game_id']}] Invalid item name {unit_name} ({unit_id})\")"
   ]
  },
  {
   "cell_type": "code",
   "execution_count": 15,
   "metadata": {},
   "outputs": [],
   "source": [
    "pickle.dump(unit_dict, open('./data/unit_dict_test.pkl', 'wb'))\n",
    "pickle.dump(species_units, open('./data/species_units_dict_test.pkl', 'wb'))"
   ]
  },
  {
   "cell_type": "code",
   "execution_count": 8,
   "metadata": {},
   "outputs": [],
   "source": [
    "species_dict = pickle.load(open('./data/species_dict.pkl', 'rb'))\n",
    "columns100_dict = pickle.load(open('./data/columns100_dict.pkl', 'rb'))"
   ]
  },
  {
   "cell_type": "code",
   "execution_count": 14,
   "metadata": {},
   "outputs": [],
   "source": [
    "col_names = [f'p{pid}_u{uid}' for pid in range(2) for uid in range(100)]\n",
    "\n",
    "pd.DataFrame(['game_id'] + col_names).T.to_csv('./data/ftr_top100_unit_counts_test.csv', mode='w', header=None, index=False)\n",
    "for GID in set(df['game_id']): #range(df['game_id'].max() + 1):\n",
    "#     print(GID)\n",
    "    game_id = pd.Series([GID], index=['game_id'])\n",
    "    p1 = pd.Series(dict(Counter(list(unit_dict[GID][0].values()))), index=columns100_dict[species_dict[(GID,0)] if (GID, 0) in species_dict else 'T'].keys()) #.reset_index(drop=True)\n",
    "    p2 = pd.Series(dict(Counter(list(unit_dict[GID][1].values()))), index=columns100_dict[species_dict[(GID,1)] if (GID, 1) in species_dict else 'T'].keys())\n",
    "    pd.concat([game_id, p1,p2]).to_frame().T.fillna(0).astype(int).to_csv('./data/ftr_top100_unit_counts_test.csv', mode='a', header=None, index=False)"
   ]
  },
  {
   "cell_type": "code",
   "execution_count": null,
   "metadata": {},
   "outputs": [],
   "source": []
  },
  {
   "cell_type": "code",
   "execution_count": null,
   "metadata": {},
   "outputs": [],
   "source": []
  },
  {
   "cell_type": "code",
   "execution_count": null,
   "metadata": {},
   "outputs": [],
   "source": []
  }
 ],
 "metadata": {
  "kernelspec": {
   "display_name": "Python 3",
   "language": "python",
   "name": "python3"
  }
 },
 "nbformat": 4,
 "nbformat_minor": 2
}
