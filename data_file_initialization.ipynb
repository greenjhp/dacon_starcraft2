{
 "cells": [
  {
   "cell_type": "markdown",
   "metadata": {},
   "source": [
    "# 최초 test.csv, train.csv 파일을 event별로 여덟개 파일로 나누기"
   ]
  },
  {
   "cell_type": "code",
   "execution_count": 1,
   "metadata": {},
   "outputs": [],
   "source": [
    "import pandas as pd\n",
    "import numpy as np\n",
    "import os, sys\n",
    "data_folder = '/Users/a80099928/PycharmProjects/dacon_star2_data/'\n",
    "pd.options.display.max_rows=1000"
   ]
  },
  {
   "cell_type": "markdown",
   "metadata": {},
   "source": [
    "## train set 분할"
   ]
  },
  {
   "cell_type": "code",
   "execution_count": 4,
   "metadata": {
    "scrolled": true
   },
   "outputs": [],
   "source": [
    "train_df = pd.read_csv(os.path.join(data_folder,'train.csv'))"
   ]
  },
  {
   "cell_type": "code",
   "execution_count": 5,
   "metadata": {},
   "outputs": [
    {
     "data": {
      "text/html": [
       "<div>\n",
       "<style scoped>\n",
       "    .dataframe tbody tr th:only-of-type {\n",
       "        vertical-align: middle;\n",
       "    }\n",
       "\n",
       "    .dataframe tbody tr th {\n",
       "        vertical-align: top;\n",
       "    }\n",
       "\n",
       "    .dataframe thead th {\n",
       "        text-align: right;\n",
       "    }\n",
       "</style>\n",
       "<table border=\"1\" class=\"dataframe\">\n",
       "  <thead>\n",
       "    <tr style=\"text-align: right;\">\n",
       "      <th></th>\n",
       "      <th>game_id</th>\n",
       "      <th>winner</th>\n",
       "      <th>time</th>\n",
       "      <th>player</th>\n",
       "      <th>species</th>\n",
       "      <th>event</th>\n",
       "      <th>event_contents</th>\n",
       "    </tr>\n",
       "  </thead>\n",
       "  <tbody>\n",
       "    <tr>\n",
       "      <th>0</th>\n",
       "      <td>0</td>\n",
       "      <td>1</td>\n",
       "      <td>0.00</td>\n",
       "      <td>0</td>\n",
       "      <td>T</td>\n",
       "      <td>Camera</td>\n",
       "      <td>at (145.25, 21.5078125)</td>\n",
       "    </tr>\n",
       "    <tr>\n",
       "      <th>1</th>\n",
       "      <td>0</td>\n",
       "      <td>1</td>\n",
       "      <td>0.00</td>\n",
       "      <td>1</td>\n",
       "      <td>T</td>\n",
       "      <td>Camera</td>\n",
       "      <td>at (22.75, 147.0078125)</td>\n",
       "    </tr>\n",
       "    <tr>\n",
       "      <th>2</th>\n",
       "      <td>0</td>\n",
       "      <td>1</td>\n",
       "      <td>0.02</td>\n",
       "      <td>0</td>\n",
       "      <td>T</td>\n",
       "      <td>Selection</td>\n",
       "      <td>['OrbitalCommand [3080001]']</td>\n",
       "    </tr>\n",
       "    <tr>\n",
       "      <th>3</th>\n",
       "      <td>0</td>\n",
       "      <td>1</td>\n",
       "      <td>0.02</td>\n",
       "      <td>0</td>\n",
       "      <td>T</td>\n",
       "      <td>Ability</td>\n",
       "      <td>(1360) - TrainSCV</td>\n",
       "    </tr>\n",
       "    <tr>\n",
       "      <th>4</th>\n",
       "      <td>0</td>\n",
       "      <td>1</td>\n",
       "      <td>0.14</td>\n",
       "      <td>0</td>\n",
       "      <td>T</td>\n",
       "      <td>Camera</td>\n",
       "      <td>at (142.99609375, 24.50390625)</td>\n",
       "    </tr>\n",
       "  </tbody>\n",
       "</table>\n",
       "</div>"
      ],
      "text/plain": [
       "   game_id  winner  time  player species      event  \\\n",
       "0        0       1  0.00       0       T     Camera   \n",
       "1        0       1  0.00       1       T     Camera   \n",
       "2        0       1  0.02       0       T  Selection   \n",
       "3        0       1  0.02       0       T    Ability   \n",
       "4        0       1  0.14       0       T     Camera   \n",
       "\n",
       "                   event_contents  \n",
       "0         at (145.25, 21.5078125)  \n",
       "1         at (22.75, 147.0078125)  \n",
       "2    ['OrbitalCommand [3080001]']  \n",
       "3               (1360) - TrainSCV  \n",
       "4  at (142.99609375, 24.50390625)  "
      ]
     },
     "execution_count": 5,
     "metadata": {},
     "output_type": "execute_result"
    }
   ],
   "source": [
    "train_df.head()"
   ]
  },
  {
   "cell_type": "code",
   "execution_count": 4,
   "metadata": {},
   "outputs": [
    {
     "data": {
      "text/plain": [
       "(16787,)"
      ]
     },
     "execution_count": 4,
     "metadata": {},
     "output_type": "execute_result"
    }
   ],
   "source": [
    "pd.unique(train_df['game_id']).shape"
   ]
  },
  {
   "cell_type": "code",
   "execution_count": 5,
   "metadata": {
    "scrolled": true
   },
   "outputs": [
    {
     "data": {
      "text/plain": [
       "28714849"
      ]
     },
     "execution_count": 5,
     "metadata": {},
     "output_type": "execute_result"
    }
   ],
   "source": [
    "len(train_df)"
   ]
  },
  {
   "cell_type": "code",
   "execution_count": 6,
   "metadata": {},
   "outputs": [
    {
     "name": "stdout",
     "output_type": "stream",
     "text": [
      "1631055\n",
      "9.96035099029541 Ability\n",
      "63479\n",
      "1.6685760021209717 AddToControlGroup\n",
      "13557866\n",
      "62.623610734939575 Camera\n",
      "12148\n",
      "1.5303080081939697 ControlGroup\n",
      "4295095\n",
      "18.74090003967285 GetControlGroup\n",
      "4929970\n",
      "27.908915042877197 Right Click\n",
      "4077893\n",
      "24.84256100654602 Selection\n",
      "147343\n",
      "4.358536958694458 SetControlGroup\n"
     ]
    }
   ],
   "source": [
    "# event별로 나눠서 파일 각각 저장\n",
    "import time\n",
    "for event in ['Ability','AddToControlGroup','Camera','ControlGroup','GetControlGroup','Right Click','Selection','SetControlGroup']:\n",
    "    st_t = time.time()\n",
    "    tmp_df = train_df[train_df['event']==event]\n",
    "    print(len(tmp_df))\n",
    "    tmp_df.to_csv(os.path.join(data_folder,f'train_{event}.csv'),index=False)\n",
    "    print(time.time()-st_t, event)"
   ]
  },
  {
   "cell_type": "markdown",
   "metadata": {},
   "source": [
    "## test set 분할"
   ]
  },
  {
   "cell_type": "code",
   "execution_count": null,
   "metadata": {},
   "outputs": [],
   "source": [
    "test_df = pd.read_csv(os.path.join(data_folder,'test.csv'))"
   ]
  },
  {
   "cell_type": "code",
   "execution_count": null,
   "metadata": {},
   "outputs": [],
   "source": [
    "test_df.head()"
   ]
  },
  {
   "cell_type": "code",
   "execution_count": null,
   "metadata": {},
   "outputs": [],
   "source": [
    "for event in ['Ability','AddToControlGroup','Camera','ControlGroup','GetControlGroup','Right Click','Selection','SetControlGroup']:\n",
    "    st_t = time.time()\n",
    "    tmp_df = test_df[test_df['event']==event]\n",
    "    print(len(tmp_df))\n",
    "    tmp_df.to_csv(os.path.join(data_folder,f'test_{event}.csv'),index=False)\n",
    "    print(time.time()-st_t, event)"
   ]
  },
  {
   "cell_type": "code",
   "execution_count": 36,
   "metadata": {},
   "outputs": [],
   "source": [
    "# AddToControlGroup, ControlGroup, GetControlGroup, SetControlGroup, \n",
    "# 네 개는 event_contents가 없음\n",
    "# Ability, Camera, Right Click, Selection\n",
    "# event_contents 복잡도\n",
    "# Ability > Right Click > Selection > Camera"
   ]
  },
  {
   "cell_type": "code",
   "execution_count": 6,
   "metadata": {},
   "outputs": [
    {
     "data": {
      "text/html": [
       "<div>\n",
       "<style scoped>\n",
       "    .dataframe tbody tr th:only-of-type {\n",
       "        vertical-align: middle;\n",
       "    }\n",
       "\n",
       "    .dataframe tbody tr th {\n",
       "        vertical-align: top;\n",
       "    }\n",
       "\n",
       "    .dataframe thead th {\n",
       "        text-align: right;\n",
       "    }\n",
       "</style>\n",
       "<table border=\"1\" class=\"dataframe\">\n",
       "  <thead>\n",
       "    <tr style=\"text-align: right;\">\n",
       "      <th></th>\n",
       "      <th>game_id</th>\n",
       "      <th>winner</th>\n",
       "      <th>time</th>\n",
       "      <th>player</th>\n",
       "      <th>species</th>\n",
       "      <th>event</th>\n",
       "      <th>event_contents</th>\n",
       "    </tr>\n",
       "  </thead>\n",
       "  <tbody>\n",
       "    <tr>\n",
       "      <td>0</td>\n",
       "      <td>0</td>\n",
       "      <td>1</td>\n",
       "      <td>0.02</td>\n",
       "      <td>0</td>\n",
       "      <td>T</td>\n",
       "      <td>Ability</td>\n",
       "      <td>(1360) - TrainSCV</td>\n",
       "    </tr>\n",
       "    <tr>\n",
       "      <td>1</td>\n",
       "      <td>0</td>\n",
       "      <td>1</td>\n",
       "      <td>0.27</td>\n",
       "      <td>0</td>\n",
       "      <td>T</td>\n",
       "      <td>Ability</td>\n",
       "      <td>(1021) - BuildSupplyDepot; Location: (135.0, 4...</td>\n",
       "    </tr>\n",
       "    <tr>\n",
       "      <td>2</td>\n",
       "      <td>0</td>\n",
       "      <td>1</td>\n",
       "      <td>0.31</td>\n",
       "      <td>0</td>\n",
       "      <td>T</td>\n",
       "      <td>Ability</td>\n",
       "      <td>(480) - Stop</td>\n",
       "    </tr>\n",
       "    <tr>\n",
       "      <td>3</td>\n",
       "      <td>0</td>\n",
       "      <td>1</td>\n",
       "      <td>0.33</td>\n",
       "      <td>1</td>\n",
       "      <td>T</td>\n",
       "      <td>Ability</td>\n",
       "      <td>(1360) - TrainSCV</td>\n",
       "    </tr>\n",
       "    <tr>\n",
       "      <td>4</td>\n",
       "      <td>0</td>\n",
       "      <td>1</td>\n",
       "      <td>0.35</td>\n",
       "      <td>0</td>\n",
       "      <td>T</td>\n",
       "      <td>Ability</td>\n",
       "      <td>(1360) - TrainSCV</td>\n",
       "    </tr>\n",
       "  </tbody>\n",
       "</table>\n",
       "</div>"
      ],
      "text/plain": [
       "   game_id  winner  time  player species    event  \\\n",
       "0        0       1  0.02       0       T  Ability   \n",
       "1        0       1  0.27       0       T  Ability   \n",
       "2        0       1  0.31       0       T  Ability   \n",
       "3        0       1  0.33       1       T  Ability   \n",
       "4        0       1  0.35       0       T  Ability   \n",
       "\n",
       "                                      event_contents  \n",
       "0                                  (1360) - TrainSCV  \n",
       "1  (1021) - BuildSupplyDepot; Location: (135.0, 4...  \n",
       "2                                       (480) - Stop  \n",
       "3                                  (1360) - TrainSCV  \n",
       "4                                  (1360) - TrainSCV  "
      ]
     },
     "execution_count": 6,
     "metadata": {},
     "output_type": "execute_result"
    }
   ],
   "source": [
    "pd.read_csv(os.path.join(data_folder,'train_Ability.csv'),nrows=100).head()"
   ]
  },
  {
   "cell_type": "code",
   "execution_count": 7,
   "metadata": {},
   "outputs": [
    {
     "data": {
      "text/html": [
       "<div>\n",
       "<style scoped>\n",
       "    .dataframe tbody tr th:only-of-type {\n",
       "        vertical-align: middle;\n",
       "    }\n",
       "\n",
       "    .dataframe tbody tr th {\n",
       "        vertical-align: top;\n",
       "    }\n",
       "\n",
       "    .dataframe thead th {\n",
       "        text-align: right;\n",
       "    }\n",
       "</style>\n",
       "<table border=\"1\" class=\"dataframe\">\n",
       "  <thead>\n",
       "    <tr style=\"text-align: right;\">\n",
       "      <th></th>\n",
       "      <th>game_id</th>\n",
       "      <th>winner</th>\n",
       "      <th>time</th>\n",
       "      <th>player</th>\n",
       "      <th>species</th>\n",
       "      <th>event</th>\n",
       "      <th>event_contents</th>\n",
       "    </tr>\n",
       "  </thead>\n",
       "  <tbody>\n",
       "    <tr>\n",
       "      <td>0</td>\n",
       "      <td>0</td>\n",
       "      <td>1</td>\n",
       "      <td>0.00</td>\n",
       "      <td>0</td>\n",
       "      <td>T</td>\n",
       "      <td>Camera</td>\n",
       "      <td>at (145.25, 21.5078125)</td>\n",
       "    </tr>\n",
       "    <tr>\n",
       "      <td>1</td>\n",
       "      <td>0</td>\n",
       "      <td>1</td>\n",
       "      <td>0.00</td>\n",
       "      <td>1</td>\n",
       "      <td>T</td>\n",
       "      <td>Camera</td>\n",
       "      <td>at (22.75, 147.0078125)</td>\n",
       "    </tr>\n",
       "    <tr>\n",
       "      <td>2</td>\n",
       "      <td>0</td>\n",
       "      <td>1</td>\n",
       "      <td>0.14</td>\n",
       "      <td>0</td>\n",
       "      <td>T</td>\n",
       "      <td>Camera</td>\n",
       "      <td>at (142.99609375, 24.50390625)</td>\n",
       "    </tr>\n",
       "    <tr>\n",
       "      <td>3</td>\n",
       "      <td>0</td>\n",
       "      <td>1</td>\n",
       "      <td>0.14</td>\n",
       "      <td>0</td>\n",
       "      <td>T</td>\n",
       "      <td>Camera</td>\n",
       "      <td>at (142.5078125, 24.98828125)</td>\n",
       "    </tr>\n",
       "    <tr>\n",
       "      <td>4</td>\n",
       "      <td>0</td>\n",
       "      <td>1</td>\n",
       "      <td>0.14</td>\n",
       "      <td>0</td>\n",
       "      <td>T</td>\n",
       "      <td>Camera</td>\n",
       "      <td>at (139.6171875, 27.8828125)</td>\n",
       "    </tr>\n",
       "  </tbody>\n",
       "</table>\n",
       "</div>"
      ],
      "text/plain": [
       "   game_id  winner  time  player species   event  \\\n",
       "0        0       1  0.00       0       T  Camera   \n",
       "1        0       1  0.00       1       T  Camera   \n",
       "2        0       1  0.14       0       T  Camera   \n",
       "3        0       1  0.14       0       T  Camera   \n",
       "4        0       1  0.14       0       T  Camera   \n",
       "\n",
       "                   event_contents  \n",
       "0         at (145.25, 21.5078125)  \n",
       "1         at (22.75, 147.0078125)  \n",
       "2  at (142.99609375, 24.50390625)  \n",
       "3   at (142.5078125, 24.98828125)  \n",
       "4    at (139.6171875, 27.8828125)  "
      ]
     },
     "execution_count": 7,
     "metadata": {},
     "output_type": "execute_result"
    }
   ],
   "source": [
    "pd.read_csv(os.path.join(data_folder,'train_Camera.csv'),nrows=100).head()"
   ]
  },
  {
   "cell_type": "code",
   "execution_count": 8,
   "metadata": {},
   "outputs": [
    {
     "data": {
      "text/html": [
       "<div>\n",
       "<style scoped>\n",
       "    .dataframe tbody tr th:only-of-type {\n",
       "        vertical-align: middle;\n",
       "    }\n",
       "\n",
       "    .dataframe tbody tr th {\n",
       "        vertical-align: top;\n",
       "    }\n",
       "\n",
       "    .dataframe thead th {\n",
       "        text-align: right;\n",
       "    }\n",
       "</style>\n",
       "<table border=\"1\" class=\"dataframe\">\n",
       "  <thead>\n",
       "    <tr style=\"text-align: right;\">\n",
       "      <th></th>\n",
       "      <th>game_id</th>\n",
       "      <th>winner</th>\n",
       "      <th>time</th>\n",
       "      <th>player</th>\n",
       "      <th>species</th>\n",
       "      <th>event</th>\n",
       "      <th>event_contents</th>\n",
       "    </tr>\n",
       "  </thead>\n",
       "  <tbody>\n",
       "    <tr>\n",
       "      <td>0</td>\n",
       "      <td>0</td>\n",
       "      <td>1</td>\n",
       "      <td>0.20</td>\n",
       "      <td>0</td>\n",
       "      <td>T</td>\n",
       "      <td>Right Click</td>\n",
       "      <td>Location: (136.3759765625, 41.11962890625, 49016)</td>\n",
       "    </tr>\n",
       "    <tr>\n",
       "      <td>1</td>\n",
       "      <td>0</td>\n",
       "      <td>1</td>\n",
       "      <td>0.23</td>\n",
       "      <td>0</td>\n",
       "      <td>T</td>\n",
       "      <td>Right Click</td>\n",
       "      <td>Location: (136.033935546875, 41.735107421875, ...</td>\n",
       "    </tr>\n",
       "    <tr>\n",
       "      <td>2</td>\n",
       "      <td>0</td>\n",
       "      <td>1</td>\n",
       "      <td>1.17</td>\n",
       "      <td>0</td>\n",
       "      <td>T</td>\n",
       "      <td>Right Click</td>\n",
       "      <td>Location: (32.222900390625, 153.720703125, 49120)</td>\n",
       "    </tr>\n",
       "    <tr>\n",
       "      <td>3</td>\n",
       "      <td>0</td>\n",
       "      <td>1</td>\n",
       "      <td>1.18</td>\n",
       "      <td>0</td>\n",
       "      <td>T</td>\n",
       "      <td>Right Click</td>\n",
       "      <td>Location: (29.195068359375, 143.441650390625, ...</td>\n",
       "    </tr>\n",
       "    <tr>\n",
       "      <td>4</td>\n",
       "      <td>0</td>\n",
       "      <td>1</td>\n",
       "      <td>1.18</td>\n",
       "      <td>0</td>\n",
       "      <td>T</td>\n",
       "      <td>Right Click</td>\n",
       "      <td>Location: (29.195068359375, 129.53466796875, 4...</td>\n",
       "    </tr>\n",
       "  </tbody>\n",
       "</table>\n",
       "</div>"
      ],
      "text/plain": [
       "   game_id  winner  time  player species        event  \\\n",
       "0        0       1  0.20       0       T  Right Click   \n",
       "1        0       1  0.23       0       T  Right Click   \n",
       "2        0       1  1.17       0       T  Right Click   \n",
       "3        0       1  1.18       0       T  Right Click   \n",
       "4        0       1  1.18       0       T  Right Click   \n",
       "\n",
       "                                      event_contents  \n",
       "0  Location: (136.3759765625, 41.11962890625, 49016)  \n",
       "1  Location: (136.033935546875, 41.735107421875, ...  \n",
       "2  Location: (32.222900390625, 153.720703125, 49120)  \n",
       "3  Location: (29.195068359375, 143.441650390625, ...  \n",
       "4  Location: (29.195068359375, 129.53466796875, 4...  "
      ]
     },
     "execution_count": 8,
     "metadata": {},
     "output_type": "execute_result"
    }
   ],
   "source": [
    "pd.read_csv(os.path.join(data_folder,'train_Right Click.csv'),nrows=100).head()"
   ]
  },
  {
   "cell_type": "code",
   "execution_count": 9,
   "metadata": {
    "scrolled": true
   },
   "outputs": [
    {
     "data": {
      "text/html": [
       "<div>\n",
       "<style scoped>\n",
       "    .dataframe tbody tr th:only-of-type {\n",
       "        vertical-align: middle;\n",
       "    }\n",
       "\n",
       "    .dataframe tbody tr th {\n",
       "        vertical-align: top;\n",
       "    }\n",
       "\n",
       "    .dataframe thead th {\n",
       "        text-align: right;\n",
       "    }\n",
       "</style>\n",
       "<table border=\"1\" class=\"dataframe\">\n",
       "  <thead>\n",
       "    <tr style=\"text-align: right;\">\n",
       "      <th></th>\n",
       "      <th>game_id</th>\n",
       "      <th>winner</th>\n",
       "      <th>time</th>\n",
       "      <th>player</th>\n",
       "      <th>species</th>\n",
       "      <th>event</th>\n",
       "      <th>event_contents</th>\n",
       "    </tr>\n",
       "  </thead>\n",
       "  <tbody>\n",
       "    <tr>\n",
       "      <td>0</td>\n",
       "      <td>0</td>\n",
       "      <td>1</td>\n",
       "      <td>0.02</td>\n",
       "      <td>0</td>\n",
       "      <td>T</td>\n",
       "      <td>Selection</td>\n",
       "      <td>['OrbitalCommand [3080001]']</td>\n",
       "    </tr>\n",
       "    <tr>\n",
       "      <td>1</td>\n",
       "      <td>0</td>\n",
       "      <td>1</td>\n",
       "      <td>0.33</td>\n",
       "      <td>0</td>\n",
       "      <td>T</td>\n",
       "      <td>Selection</td>\n",
       "      <td>['OrbitalCommand [3080001]']</td>\n",
       "    </tr>\n",
       "    <tr>\n",
       "      <td>2</td>\n",
       "      <td>0</td>\n",
       "      <td>1</td>\n",
       "      <td>0.40</td>\n",
       "      <td>1</td>\n",
       "      <td>T</td>\n",
       "      <td>Selection</td>\n",
       "      <td>['OrbitalCommand [33C0001]']</td>\n",
       "    </tr>\n",
       "    <tr>\n",
       "      <td>3</td>\n",
       "      <td>0</td>\n",
       "      <td>1</td>\n",
       "      <td>0.47</td>\n",
       "      <td>0</td>\n",
       "      <td>T</td>\n",
       "      <td>Selection</td>\n",
       "      <td>['SCV [3280001]']</td>\n",
       "    </tr>\n",
       "    <tr>\n",
       "      <td>4</td>\n",
       "      <td>0</td>\n",
       "      <td>1</td>\n",
       "      <td>1.06</td>\n",
       "      <td>0</td>\n",
       "      <td>T</td>\n",
       "      <td>Selection</td>\n",
       "      <td>['CreepOnlyBlocker4x4 [1B00001]']</td>\n",
       "    </tr>\n",
       "  </tbody>\n",
       "</table>\n",
       "</div>"
      ],
      "text/plain": [
       "   game_id  winner  time  player species      event  \\\n",
       "0        0       1  0.02       0       T  Selection   \n",
       "1        0       1  0.33       0       T  Selection   \n",
       "2        0       1  0.40       1       T  Selection   \n",
       "3        0       1  0.47       0       T  Selection   \n",
       "4        0       1  1.06       0       T  Selection   \n",
       "\n",
       "                      event_contents  \n",
       "0       ['OrbitalCommand [3080001]']  \n",
       "1       ['OrbitalCommand [3080001]']  \n",
       "2       ['OrbitalCommand [33C0001]']  \n",
       "3                  ['SCV [3280001]']  \n",
       "4  ['CreepOnlyBlocker4x4 [1B00001]']  "
      ]
     },
     "execution_count": 9,
     "metadata": {},
     "output_type": "execute_result"
    }
   ],
   "source": [
    "pd.read_csv(os.path.join(data_folder,'train_Selection.csv'),nrows=100).head()"
   ]
  },
  {
   "cell_type": "markdown",
   "metadata": {},
   "source": [
    "##### 여기까지"
   ]
  },
  {
   "cell_type": "code",
   "execution_count": null,
   "metadata": {},
   "outputs": [],
   "source": []
  },
  {
   "cell_type": "code",
   "execution_count": null,
   "metadata": {},
   "outputs": [],
   "source": []
  },
  {
   "cell_type": "code",
   "execution_count": null,
   "metadata": {},
   "outputs": [],
   "source": []
  },
  {
   "cell_type": "markdown",
   "metadata": {},
   "source": [
    "# kernel reset"
   ]
  },
  {
   "cell_type": "code",
   "execution_count": 1,
   "metadata": {},
   "outputs": [],
   "source": [
    "import pandas as pd\n",
    "import numpy as np\n",
    "import os, sys\n",
    "data_folder = '/Users/a80099928/PycharmProjects/dacon_star2_data/'\n",
    "pd.options.display.max_rows=1000"
   ]
  },
  {
   "cell_type": "code",
   "execution_count": 2,
   "metadata": {},
   "outputs": [],
   "source": [
    "df = pd.read_csv(os.path.join(data_folder,'train_species_labels.csv'))\n",
    "df1 = pd.read_csv(os.path.join(data_folder,'train_action_count.csv'))"
   ]
  },
  {
   "cell_type": "code",
   "execution_count": 3,
   "metadata": {},
   "outputs": [
    {
     "data": {
      "text/html": [
       "<div>\n",
       "<style scoped>\n",
       "    .dataframe tbody tr th:only-of-type {\n",
       "        vertical-align: middle;\n",
       "    }\n",
       "\n",
       "    .dataframe tbody tr th {\n",
       "        vertical-align: top;\n",
       "    }\n",
       "\n",
       "    .dataframe thead th {\n",
       "        text-align: right;\n",
       "    }\n",
       "</style>\n",
       "<table border=\"1\" class=\"dataframe\">\n",
       "  <thead>\n",
       "    <tr style=\"text-align: right;\">\n",
       "      <th></th>\n",
       "      <th>game_id</th>\n",
       "      <th>0</th>\n",
       "      <th>1</th>\n",
       "      <th>winner</th>\n",
       "    </tr>\n",
       "  </thead>\n",
       "  <tbody>\n",
       "    <tr>\n",
       "      <td>0</td>\n",
       "      <td>0</td>\n",
       "      <td>T</td>\n",
       "      <td>T</td>\n",
       "      <td>1</td>\n",
       "    </tr>\n",
       "    <tr>\n",
       "      <td>1</td>\n",
       "      <td>1</td>\n",
       "      <td>P</td>\n",
       "      <td>T</td>\n",
       "      <td>1</td>\n",
       "    </tr>\n",
       "    <tr>\n",
       "      <td>2</td>\n",
       "      <td>2</td>\n",
       "      <td>P</td>\n",
       "      <td>Z</td>\n",
       "      <td>0</td>\n",
       "    </tr>\n",
       "    <tr>\n",
       "      <td>3</td>\n",
       "      <td>3</td>\n",
       "      <td>T</td>\n",
       "      <td>P</td>\n",
       "      <td>0</td>\n",
       "    </tr>\n",
       "    <tr>\n",
       "      <td>4</td>\n",
       "      <td>4</td>\n",
       "      <td>T</td>\n",
       "      <td>Z</td>\n",
       "      <td>0</td>\n",
       "    </tr>\n",
       "  </tbody>\n",
       "</table>\n",
       "</div>"
      ],
      "text/plain": [
       "   game_id  0  1  winner\n",
       "0        0  T  T       1\n",
       "1        1  P  T       1\n",
       "2        2  P  Z       0\n",
       "3        3  T  P       0\n",
       "4        4  T  Z       0"
      ]
     },
     "execution_count": 3,
     "metadata": {},
     "output_type": "execute_result"
    }
   ],
   "source": [
    "df.head()"
   ]
  },
  {
   "cell_type": "code",
   "execution_count": 3,
   "metadata": {},
   "outputs": [
    {
     "data": {
      "text/html": [
       "<div>\n",
       "<style scoped>\n",
       "    .dataframe tbody tr th:only-of-type {\n",
       "        vertical-align: middle;\n",
       "    }\n",
       "\n",
       "    .dataframe tbody tr th {\n",
       "        vertical-align: top;\n",
       "    }\n",
       "\n",
       "    .dataframe thead th {\n",
       "        text-align: right;\n",
       "    }\n",
       "</style>\n",
       "<table border=\"1\" class=\"dataframe\">\n",
       "  <thead>\n",
       "    <tr style=\"text-align: right;\">\n",
       "      <th></th>\n",
       "      <th>game_id</th>\n",
       "      <th>0_Ability</th>\n",
       "      <th>0_AddToControlGroup</th>\n",
       "      <th>0_Camera</th>\n",
       "      <th>0_ControlGroup</th>\n",
       "      <th>0_GetControlGroup</th>\n",
       "      <th>0_Right Click</th>\n",
       "      <th>0_Selection</th>\n",
       "      <th>0_SetControlGroup</th>\n",
       "      <th>1_Ability</th>\n",
       "      <th>1_AddToControlGroup</th>\n",
       "      <th>1_Camera</th>\n",
       "      <th>1_ControlGroup</th>\n",
       "      <th>1_GetControlGroup</th>\n",
       "      <th>1_Right Click</th>\n",
       "      <th>1_Selection</th>\n",
       "      <th>1_SetControlGroup</th>\n",
       "    </tr>\n",
       "  </thead>\n",
       "  <tbody>\n",
       "    <tr>\n",
       "      <td>0</td>\n",
       "      <td>0</td>\n",
       "      <td>34.0</td>\n",
       "      <td>2.0</td>\n",
       "      <td>444.0</td>\n",
       "      <td>0.0</td>\n",
       "      <td>24.0</td>\n",
       "      <td>35.0</td>\n",
       "      <td>50.0</td>\n",
       "      <td>3.0</td>\n",
       "      <td>34.0</td>\n",
       "      <td>0.0</td>\n",
       "      <td>425.0</td>\n",
       "      <td>0.0</td>\n",
       "      <td>3.0</td>\n",
       "      <td>28.0</td>\n",
       "      <td>57.0</td>\n",
       "      <td>1.0</td>\n",
       "    </tr>\n",
       "    <tr>\n",
       "      <td>1</td>\n",
       "      <td>1</td>\n",
       "      <td>77.0</td>\n",
       "      <td>1.0</td>\n",
       "      <td>627.0</td>\n",
       "      <td>0.0</td>\n",
       "      <td>162.0</td>\n",
       "      <td>160.0</td>\n",
       "      <td>186.0</td>\n",
       "      <td>10.0</td>\n",
       "      <td>67.0</td>\n",
       "      <td>0.0</td>\n",
       "      <td>858.0</td>\n",
       "      <td>0.0</td>\n",
       "      <td>31.0</td>\n",
       "      <td>131.0</td>\n",
       "      <td>116.0</td>\n",
       "      <td>8.0</td>\n",
       "    </tr>\n",
       "    <tr>\n",
       "      <td>2</td>\n",
       "      <td>2</td>\n",
       "      <td>69.0</td>\n",
       "      <td>6.0</td>\n",
       "      <td>413.0</td>\n",
       "      <td>0.0</td>\n",
       "      <td>99.0</td>\n",
       "      <td>160.0</td>\n",
       "      <td>90.0</td>\n",
       "      <td>14.0</td>\n",
       "      <td>85.0</td>\n",
       "      <td>5.0</td>\n",
       "      <td>725.0</td>\n",
       "      <td>2.0</td>\n",
       "      <td>109.0</td>\n",
       "      <td>204.0</td>\n",
       "      <td>232.0</td>\n",
       "      <td>9.0</td>\n",
       "    </tr>\n",
       "    <tr>\n",
       "      <td>3</td>\n",
       "      <td>3</td>\n",
       "      <td>82.0</td>\n",
       "      <td>0.0</td>\n",
       "      <td>713.0</td>\n",
       "      <td>0.0</td>\n",
       "      <td>132.0</td>\n",
       "      <td>276.0</td>\n",
       "      <td>180.0</td>\n",
       "      <td>6.0</td>\n",
       "      <td>89.0</td>\n",
       "      <td>0.0</td>\n",
       "      <td>388.0</td>\n",
       "      <td>0.0</td>\n",
       "      <td>710.0</td>\n",
       "      <td>268.0</td>\n",
       "      <td>148.0</td>\n",
       "      <td>19.0</td>\n",
       "    </tr>\n",
       "    <tr>\n",
       "      <td>4</td>\n",
       "      <td>4</td>\n",
       "      <td>57.0</td>\n",
       "      <td>1.0</td>\n",
       "      <td>430.0</td>\n",
       "      <td>0.0</td>\n",
       "      <td>224.0</td>\n",
       "      <td>177.0</td>\n",
       "      <td>67.0</td>\n",
       "      <td>10.0</td>\n",
       "      <td>36.0</td>\n",
       "      <td>4.0</td>\n",
       "      <td>272.0</td>\n",
       "      <td>0.0</td>\n",
       "      <td>99.0</td>\n",
       "      <td>106.0</td>\n",
       "      <td>126.0</td>\n",
       "      <td>8.0</td>\n",
       "    </tr>\n",
       "  </tbody>\n",
       "</table>\n",
       "</div>"
      ],
      "text/plain": [
       "   game_id  0_Ability  0_AddToControlGroup  0_Camera  0_ControlGroup  \\\n",
       "0        0       34.0                  2.0     444.0             0.0   \n",
       "1        1       77.0                  1.0     627.0             0.0   \n",
       "2        2       69.0                  6.0     413.0             0.0   \n",
       "3        3       82.0                  0.0     713.0             0.0   \n",
       "4        4       57.0                  1.0     430.0             0.0   \n",
       "\n",
       "   0_GetControlGroup  0_Right Click  0_Selection  0_SetControlGroup  \\\n",
       "0               24.0           35.0         50.0                3.0   \n",
       "1              162.0          160.0        186.0               10.0   \n",
       "2               99.0          160.0         90.0               14.0   \n",
       "3              132.0          276.0        180.0                6.0   \n",
       "4              224.0          177.0         67.0               10.0   \n",
       "\n",
       "   1_Ability  1_AddToControlGroup  1_Camera  1_ControlGroup  \\\n",
       "0       34.0                  0.0     425.0             0.0   \n",
       "1       67.0                  0.0     858.0             0.0   \n",
       "2       85.0                  5.0     725.0             2.0   \n",
       "3       89.0                  0.0     388.0             0.0   \n",
       "4       36.0                  4.0     272.0             0.0   \n",
       "\n",
       "   1_GetControlGroup  1_Right Click  1_Selection  1_SetControlGroup  \n",
       "0                3.0           28.0         57.0                1.0  \n",
       "1               31.0          131.0        116.0                8.0  \n",
       "2              109.0          204.0        232.0                9.0  \n",
       "3              710.0          268.0        148.0               19.0  \n",
       "4               99.0          106.0        126.0                8.0  "
      ]
     },
     "execution_count": 3,
     "metadata": {},
     "output_type": "execute_result"
    }
   ],
   "source": [
    "df1.head()"
   ]
  },
  {
   "cell_type": "code",
   "execution_count": 4,
   "metadata": {},
   "outputs": [],
   "source": [
    "df = pd.merge(df, df1, on='game_id')"
   ]
  },
  {
   "cell_type": "code",
   "execution_count": 5,
   "metadata": {},
   "outputs": [],
   "source": [
    "# 플레이어 종족, event별 action count만 갖고 lightGBM 돌려보자"
   ]
  },
  {
   "cell_type": "code",
   "execution_count": 6,
   "metadata": {},
   "outputs": [],
   "source": [
    "df['species0_T'] = df['0'].map(lambda x: 1 if x=='T' else 0)\n",
    "df['species0_P'] = df['0'].map(lambda x: 1 if x=='P' else 0)\n",
    "df['species0_Z'] = df['0'].map(lambda x: 1 if x=='Z' else 0)\n",
    "df['species1_T'] = df['1'].map(lambda x: 1 if x=='T' else 0)\n",
    "df['species1_P'] = df['1'].map(lambda x: 1 if x=='P' else 0)\n",
    "df['species1_Z'] = df['1'].map(lambda x: 1 if x=='Z' else 0)"
   ]
  },
  {
   "cell_type": "code",
   "execution_count": 7,
   "metadata": {},
   "outputs": [
    {
     "data": {
      "text/html": [
       "<div>\n",
       "<style scoped>\n",
       "    .dataframe tbody tr th:only-of-type {\n",
       "        vertical-align: middle;\n",
       "    }\n",
       "\n",
       "    .dataframe tbody tr th {\n",
       "        vertical-align: top;\n",
       "    }\n",
       "\n",
       "    .dataframe thead th {\n",
       "        text-align: right;\n",
       "    }\n",
       "</style>\n",
       "<table border=\"1\" class=\"dataframe\">\n",
       "  <thead>\n",
       "    <tr style=\"text-align: right;\">\n",
       "      <th></th>\n",
       "      <th>game_id</th>\n",
       "      <th>0</th>\n",
       "      <th>1</th>\n",
       "      <th>winner</th>\n",
       "      <th>0_Ability</th>\n",
       "      <th>0_AddToControlGroup</th>\n",
       "      <th>0_Camera</th>\n",
       "      <th>0_ControlGroup</th>\n",
       "      <th>0_GetControlGroup</th>\n",
       "      <th>0_Right Click</th>\n",
       "      <th>...</th>\n",
       "      <th>1_GetControlGroup</th>\n",
       "      <th>1_Right Click</th>\n",
       "      <th>1_Selection</th>\n",
       "      <th>1_SetControlGroup</th>\n",
       "      <th>species0_T</th>\n",
       "      <th>species0_P</th>\n",
       "      <th>species0_Z</th>\n",
       "      <th>species1_T</th>\n",
       "      <th>species1_P</th>\n",
       "      <th>species1_Z</th>\n",
       "    </tr>\n",
       "  </thead>\n",
       "  <tbody>\n",
       "    <tr>\n",
       "      <td>0</td>\n",
       "      <td>0</td>\n",
       "      <td>T</td>\n",
       "      <td>T</td>\n",
       "      <td>1</td>\n",
       "      <td>34.0</td>\n",
       "      <td>2.0</td>\n",
       "      <td>444.0</td>\n",
       "      <td>0.0</td>\n",
       "      <td>24.0</td>\n",
       "      <td>35.0</td>\n",
       "      <td>...</td>\n",
       "      <td>3.0</td>\n",
       "      <td>28.0</td>\n",
       "      <td>57.0</td>\n",
       "      <td>1.0</td>\n",
       "      <td>1</td>\n",
       "      <td>0</td>\n",
       "      <td>0</td>\n",
       "      <td>1</td>\n",
       "      <td>0</td>\n",
       "      <td>0</td>\n",
       "    </tr>\n",
       "    <tr>\n",
       "      <td>1</td>\n",
       "      <td>1</td>\n",
       "      <td>P</td>\n",
       "      <td>T</td>\n",
       "      <td>1</td>\n",
       "      <td>77.0</td>\n",
       "      <td>1.0</td>\n",
       "      <td>627.0</td>\n",
       "      <td>0.0</td>\n",
       "      <td>162.0</td>\n",
       "      <td>160.0</td>\n",
       "      <td>...</td>\n",
       "      <td>31.0</td>\n",
       "      <td>131.0</td>\n",
       "      <td>116.0</td>\n",
       "      <td>8.0</td>\n",
       "      <td>0</td>\n",
       "      <td>1</td>\n",
       "      <td>0</td>\n",
       "      <td>1</td>\n",
       "      <td>0</td>\n",
       "      <td>0</td>\n",
       "    </tr>\n",
       "    <tr>\n",
       "      <td>2</td>\n",
       "      <td>2</td>\n",
       "      <td>P</td>\n",
       "      <td>Z</td>\n",
       "      <td>0</td>\n",
       "      <td>69.0</td>\n",
       "      <td>6.0</td>\n",
       "      <td>413.0</td>\n",
       "      <td>0.0</td>\n",
       "      <td>99.0</td>\n",
       "      <td>160.0</td>\n",
       "      <td>...</td>\n",
       "      <td>109.0</td>\n",
       "      <td>204.0</td>\n",
       "      <td>232.0</td>\n",
       "      <td>9.0</td>\n",
       "      <td>0</td>\n",
       "      <td>1</td>\n",
       "      <td>0</td>\n",
       "      <td>0</td>\n",
       "      <td>0</td>\n",
       "      <td>1</td>\n",
       "    </tr>\n",
       "    <tr>\n",
       "      <td>3</td>\n",
       "      <td>3</td>\n",
       "      <td>T</td>\n",
       "      <td>P</td>\n",
       "      <td>0</td>\n",
       "      <td>82.0</td>\n",
       "      <td>0.0</td>\n",
       "      <td>713.0</td>\n",
       "      <td>0.0</td>\n",
       "      <td>132.0</td>\n",
       "      <td>276.0</td>\n",
       "      <td>...</td>\n",
       "      <td>710.0</td>\n",
       "      <td>268.0</td>\n",
       "      <td>148.0</td>\n",
       "      <td>19.0</td>\n",
       "      <td>1</td>\n",
       "      <td>0</td>\n",
       "      <td>0</td>\n",
       "      <td>0</td>\n",
       "      <td>1</td>\n",
       "      <td>0</td>\n",
       "    </tr>\n",
       "    <tr>\n",
       "      <td>4</td>\n",
       "      <td>4</td>\n",
       "      <td>T</td>\n",
       "      <td>Z</td>\n",
       "      <td>0</td>\n",
       "      <td>57.0</td>\n",
       "      <td>1.0</td>\n",
       "      <td>430.0</td>\n",
       "      <td>0.0</td>\n",
       "      <td>224.0</td>\n",
       "      <td>177.0</td>\n",
       "      <td>...</td>\n",
       "      <td>99.0</td>\n",
       "      <td>106.0</td>\n",
       "      <td>126.0</td>\n",
       "      <td>8.0</td>\n",
       "      <td>1</td>\n",
       "      <td>0</td>\n",
       "      <td>0</td>\n",
       "      <td>0</td>\n",
       "      <td>0</td>\n",
       "      <td>1</td>\n",
       "    </tr>\n",
       "  </tbody>\n",
       "</table>\n",
       "<p>5 rows × 26 columns</p>\n",
       "</div>"
      ],
      "text/plain": [
       "   game_id  0  1  winner  0_Ability  0_AddToControlGroup  0_Camera  \\\n",
       "0        0  T  T       1       34.0                  2.0     444.0   \n",
       "1        1  P  T       1       77.0                  1.0     627.0   \n",
       "2        2  P  Z       0       69.0                  6.0     413.0   \n",
       "3        3  T  P       0       82.0                  0.0     713.0   \n",
       "4        4  T  Z       0       57.0                  1.0     430.0   \n",
       "\n",
       "   0_ControlGroup  0_GetControlGroup  0_Right Click  ...  1_GetControlGroup  \\\n",
       "0             0.0               24.0           35.0  ...                3.0   \n",
       "1             0.0              162.0          160.0  ...               31.0   \n",
       "2             0.0               99.0          160.0  ...              109.0   \n",
       "3             0.0              132.0          276.0  ...              710.0   \n",
       "4             0.0              224.0          177.0  ...               99.0   \n",
       "\n",
       "   1_Right Click  1_Selection  1_SetControlGroup  species0_T  species0_P  \\\n",
       "0           28.0         57.0                1.0           1           0   \n",
       "1          131.0        116.0                8.0           0           1   \n",
       "2          204.0        232.0                9.0           0           1   \n",
       "3          268.0        148.0               19.0           1           0   \n",
       "4          106.0        126.0                8.0           1           0   \n",
       "\n",
       "   species0_Z  species1_T  species1_P  species1_Z  \n",
       "0           0           1           0           0  \n",
       "1           0           1           0           0  \n",
       "2           0           0           0           1  \n",
       "3           0           0           1           0  \n",
       "4           0           0           0           1  \n",
       "\n",
       "[5 rows x 26 columns]"
      ]
     },
     "execution_count": 7,
     "metadata": {},
     "output_type": "execute_result"
    }
   ],
   "source": [
    "df.head()"
   ]
  },
  {
   "cell_type": "code",
   "execution_count": 8,
   "metadata": {},
   "outputs": [
    {
     "data": {
      "text/plain": [
       "Index(['game_id', '0', '1', 'winner', '0_Ability', '0_AddToControlGroup',\n",
       "       '0_Camera', '0_ControlGroup', '0_GetControlGroup', '0_Right Click',\n",
       "       '0_Selection', '0_SetControlGroup', '1_Ability', '1_AddToControlGroup',\n",
       "       '1_Camera', '1_ControlGroup', '1_GetControlGroup', '1_Right Click',\n",
       "       '1_Selection', '1_SetControlGroup', 'species0_T', 'species0_P',\n",
       "       'species0_Z', 'species1_T', 'species1_P', 'species1_Z'],\n",
       "      dtype='object')"
      ]
     },
     "execution_count": 8,
     "metadata": {},
     "output_type": "execute_result"
    }
   ],
   "source": [
    "df.columns"
   ]
  },
  {
   "cell_type": "code",
   "execution_count": 9,
   "metadata": {},
   "outputs": [],
   "source": [
    "_ftr = list(set(df.columns) - set(['game_id','winner','0','1']))"
   ]
  },
  {
   "cell_type": "code",
   "execution_count": 10,
   "metadata": {},
   "outputs": [],
   "source": [
    "from sklearn.model_selection import train_test_split"
   ]
  },
  {
   "cell_type": "code",
   "execution_count": 11,
   "metadata": {},
   "outputs": [],
   "source": [
    "train_data, test_data = train_test_split(df, test_size=0.2, random_state=1)\n",
    "train_data, valid_data = train_test_split(train_data, test_size=0.4, random_state=2)"
   ]
  },
  {
   "cell_type": "raw",
   "metadata": {},
   "source": [
    "train_data, valid_data = train_test_split(df, test_size=0.4, random_state=2)"
   ]
  },
  {
   "cell_type": "code",
   "execution_count": 12,
   "metadata": {},
   "outputs": [
    {
     "name": "stdout",
     "output_type": "stream",
     "text": [
      "train_data:  (18658, 26)\n",
      "valid_data:  (12439, 26)\n",
      "test_data:  (7775, 26)\n"
     ]
    }
   ],
   "source": [
    "print('train_data: ',train_data.shape)\n",
    "print('valid_data: ',valid_data.shape)\n",
    "print('test_data: ',test_data.shape)"
   ]
  },
  {
   "cell_type": "raw",
   "metadata": {},
   "source": [
    "print('train_data: ',train_data.shape)\n",
    "print('valid_data: ',valid_data.shape)"
   ]
  },
  {
   "cell_type": "code",
   "execution_count": 13,
   "metadata": {},
   "outputs": [],
   "source": [
    "X_train, y_train = train_data[_ftr], train_data['winner']\n",
    "X_valid, y_valid = valid_data[_ftr], valid_data['winner']\n",
    "X_test, y_test = test_data[_ftr], test_data['winner']"
   ]
  },
  {
   "cell_type": "raw",
   "metadata": {},
   "source": [
    "X_train, y_train = train_data[_ftr], train_data['winner']\n",
    "X_valid, y_valid = valid_data[_ftr], valid_data['winner']"
   ]
  },
  {
   "cell_type": "code",
   "execution_count": 14,
   "metadata": {},
   "outputs": [
    {
     "name": "stderr",
     "output_type": "stream",
     "text": [
      "/Users/a80099928/opt/anaconda3/lib/python3.7/site-packages/lightgbm/__init__.py:48: UserWarning: Starting from version 2.2.1, the library file in distribution wheels for macOS is built by the Apple Clang (Xcode_8.3.3) compiler.\n",
      "This means that in case of installing LightGBM from PyPI via the ``pip install lightgbm`` command, you don't need to install the gcc compiler anymore.\n",
      "Instead of that, you need to install the OpenMP library, which is required for running LightGBM on the system with the Apple Clang compiler.\n",
      "You can install the OpenMP library by the following command: ``brew install libomp``.\n",
      "  \"You can install the OpenMP library by the following command: ``brew install libomp``.\", UserWarning)\n"
     ]
    }
   ],
   "source": [
    "import lightgbm as lgb\n",
    "lgb_train_data = lgb.Dataset(X_train, label=y_train)\n",
    "lgb_valid_data = lgb.Dataset(X_valid, label=y_valid)"
   ]
  },
  {
   "cell_type": "code",
   "execution_count": 15,
   "metadata": {},
   "outputs": [],
   "source": [
    "num_threads, learning_rate = 12,0.05\n",
    "params = {'boosting_type': 'gbdt', \n",
    "         'objective': 'binary',\n",
    "         'num_threads' : num_threads, 'learning_rate' : learning_rate,\n",
    "         'vervosity':0}\n",
    "bst = lgb.train(params, lgb_train_data,\n",
    "               num_boost_round = 5000,\n",
    "               early_stopping_rounds=10,\n",
    "               valid_sets=[lgb_valid_data],\n",
    "               verbose_eval=False)"
   ]
  },
  {
   "cell_type": "code",
   "execution_count": 16,
   "metadata": {},
   "outputs": [],
   "source": [
    "from sklearn.metrics import roc_auc_score\n",
    "predict_test = bst.predict(X_test)"
   ]
  },
  {
   "cell_type": "code",
   "execution_count": 17,
   "metadata": {},
   "outputs": [],
   "source": [
    "auc = roc_auc_score(y_test, predict_test)"
   ]
  },
  {
   "cell_type": "code",
   "execution_count": 18,
   "metadata": {},
   "outputs": [
    {
     "data": {
      "text/plain": [
       "0.6448508548486072"
      ]
     },
     "execution_count": 18,
     "metadata": {},
     "output_type": "execute_result"
    }
   ],
   "source": [
    "auc # 0.6448508548486072"
   ]
  },
  {
   "cell_type": "raw",
   "metadata": {},
   "source": [
    "bst.save_model(os.path.join(data_folder,'baseline_0303.model'))"
   ]
  },
  {
   "cell_type": "code",
   "execution_count": null,
   "metadata": {},
   "outputs": [],
   "source": []
  }
 ],
 "metadata": {
  "hide_input": false,
  "kernelspec": {
   "display_name": "Python 3",
   "language": "python",
   "name": "python3"
  },
  "language_info": {
   "codemirror_mode": {
    "name": "ipython",
    "version": 3
   },
   "file_extension": ".py",
   "mimetype": "text/x-python",
   "name": "python",
   "nbconvert_exporter": "python",
   "pygments_lexer": "ipython3",
   "version": "3.7.4"
  },
  "toc": {
   "base_numbering": 1,
   "nav_menu": {},
   "number_sections": true,
   "sideBar": true,
   "skip_h1_title": false,
   "title_cell": "Table of Contents",
   "title_sidebar": "Contents",
   "toc_cell": false,
   "toc_position": {},
   "toc_section_display": true,
   "toc_window_display": false
  }
 },
 "nbformat": 4,
 "nbformat_minor": 2
}
