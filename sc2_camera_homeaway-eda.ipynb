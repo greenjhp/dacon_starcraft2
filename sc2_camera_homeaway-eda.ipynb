{
 "cells": [
  {
   "cell_type": "markdown",
   "metadata": {},
   "source": [
    "## units only ftrs : camera remote/local (eg. away/home) ratio & same but in last minutes"
   ]
  },
  {
   "cell_type": "markdown",
   "metadata": {},
   "source": [
    "### 공통"
   ]
  },
  {
   "cell_type": "code",
   "execution_count": 1,
   "metadata": {},
   "outputs": [],
   "source": [
    "import pickle, datetime\n",
    "import pandas as pd\n",
    "import numpy as np\n",
    "pd.options.display.max_rows=1000\n",
    "pd.options.display.max_colwidth = -1\n",
    "\n",
    "from collections import Counter\n",
    "\n",
    "from matplotlib import pyplot as plt"
   ]
  },
  {
   "cell_type": "code",
   "execution_count": 2,
   "metadata": {},
   "outputs": [],
   "source": [
    "# 정규식\n",
    "import re\n",
    "cmp = re.compile('(?:Target:\\s([A-Za-z]*)\\s\\[([0-9A-Z]*)\\][\\s;]*)?Location:\\s\\(([0-9]*)[.0-9]*,\\s([0-9]*)[.0-9]*.*?\\)')\n",
    "coors = re.compile('(?:Location:|at)\\s\\(([0-9]*)[.0-9]*,\\s([0-9]*)[.0-9]*.*?\\)')\n",
    "units = re.compile('([0-9A-Za-z]*)\\s\\[([0-9A-Z]*)\\]')"
   ]
  },
  {
   "cell_type": "markdown",
   "metadata": {},
   "source": [
    "### 학습용"
   ]
  },
  {
   "cell_type": "raw",
   "metadata": {},
   "source": [
    "unit_info = pd.read_csv('./data/unit_info_data.csv')\n",
    "whole_unit_set = set(unit_info['unit'])\n",
    "unit_set = unit_info.groupby('species')['unit'].apply(set).to_dict()"
   ]
  },
  {
   "cell_type": "code",
   "execution_count": 3,
   "metadata": {},
   "outputs": [],
   "source": [
    "_df = pd.read_csv('./data/train.csv', nrows=4000000)"
   ]
  },
  {
   "cell_type": "code",
   "execution_count": null,
   "metadata": {},
   "outputs": [],
   "source": [
    "for idx in range(3): #56):\n",
    "    t1 = datetime.datetime.now()\n",
    "    df = _df[(_df['game_id'] < (idx*1000)+1000) & (_df['game_id'] >= (idx*1000))]\n",
    "\n",
    "    df = df[df['event'].isin(['Camera', 'Right Click'])]\n",
    "\n",
    "    arr_coors = df['event_contents'].map(coors.findall).map(lambda x: x[0]).apply(pd.Series)\n",
    "    arr_coors.columns = ['x', 'y']\n",
    "    arr_coors['x'] = arr_coors['x'].astype('int')\n",
    "    arr_coors['y'] = arr_coors['y'].astype('int')\n",
    "    df = pd.concat([df, arr_coors], axis=1)\n",
    "    #print(f'{(datetime.datetime.now() - t1).seconds:.1f} secs')\n",
    "\n",
    "    df.loc[:, 'slice'] = (df['time'] // 1).astype(int)\n",
    "\n",
    "    center_p0 = df[df['player'] == 0].groupby(by=['game_id']).first()[['x', 'y']]\n",
    "    center_p1 = df[df['player'] == 1].groupby(by=['game_id']).first()[['x', 'y']]\n",
    "    df = pd.merge(df, center_p0, left_on=['game_id'], right_index=True, suffixes=['', '_center_p0'])\n",
    "    df = pd.merge(df, center_p1, left_on=['game_id'], right_index=True, suffixes=['', '_center_p1'])\n",
    "    df['dist_from_p0'] = np.sqrt((df['x'] - df['x_center_p0']) ** 2 + (df['y'] - df['y_center_p0']) ** 2)\n",
    "    df['dist_from_p1'] = np.sqrt((df['x'] - df['x_center_p1']) ** 2 + (df['y'] - df['y_center_p1']) ** 2)\n",
    "    df.loc[df['player'] == 0, 'aggresive'] = df['dist_from_p0'] > df['dist_from_p1']\n",
    "    df.loc[df['player'] == 1, 'aggresive'] = df['dist_from_p1'] > df['dist_from_p0'] \n",
    "\n",
    "    # 전체 카메라 횟수 대 remote(aggresive)의 비율\n",
    "    camera_remote_cnt = df[df['aggresive']].groupby(by=['game_id', 'player']).apply(len).unstack('player').fillna(0.0)\n",
    "    camera_total_cnt = df.groupby(by=['game_id', 'player']).apply(len).unstack('player').fillna(0.0)\n",
    "    camera_remote_ratio_ftr = camera_remote_cnt / camera_total_cnt\n",
    "    camera_remote_ratio_ftr.columns = ['cam_remote_ratio0', 'cam_remote_ratio1']\n",
    "\n",
    "    #camera_total.columns = ['camera_p0', 'camera_p1']\n",
    "    #pd.merge(camera_remote_cnt / camera_total_cnt, df.groupby(by='game_id')['winner'].first(), left_index=True, right_index=True)\n",
    "\n",
    "    # 마지막 300개 액션만\n",
    "    last_300 = df.groupby('game_id').tail(300)\n",
    "    camera_remote_last_cnt = last_300[last_300['aggresive']].groupby(by=['game_id', 'player']).apply(len).unstack('player').fillna(0.0)\n",
    "    camera_total_last_cnt = last_300.groupby(by=['game_id', 'player']).apply(len).unstack('player').fillna(0.0)\n",
    "    camera_remote_ratio_last_ftr = camera_remote_last_cnt / camera_total_last_cnt\n",
    "    camera_remote_ratio_last_ftr.columns = ['cam_remote_ratio0_last', 'cam_remote_ratio1_last']\n",
    "    camera_remote_ratio_last_ftr\n",
    "    #camera_total.columns = ['camera_p0', 'camera_p1']\n",
    "    #pd.merge(camera_remote_cnt / camera_total_cnt, df.groupby(by='game_id')['winner'].first(), left_index=True, right_index=True)\n",
    "\n",
    "    # 자기 영역에 침투한 비율\n",
    "    camera_remote_cnt = df[df['aggresive']].groupby(by=['game_id', 'player']).apply(len).unstack('player').fillna(0.0)\n",
    "    camera_local_cnt = df[~df['aggresive']].groupby(by=['game_id', 'player']).apply(len).unstack('player').fillna(0.0)\n",
    "    camera_remote_cnt = camera_remote_cnt.rename(columns={0:'camera_enemy_to_p1', 1:'camera_enemy_to_p0'})\n",
    "    camera_local_cnt = camera_local_cnt.rename(columns={0:'camera_home_p1', 1:'camera_home_p0'})\n",
    "    camera_homeaway_ratio = pd.merge(camera_local_cnt, camera_remote_cnt, left_index=True, right_index=True)\n",
    "    camera_homeaway_ratio['homeaway_p0'] = camera_homeaway_ratio['camera_enemy_to_p0'] / camera_homeaway_ratio['camera_home_p0']\n",
    "    camera_homeaway_ratio['homeaway_p1'] = camera_homeaway_ratio['camera_enemy_to_p1'] / camera_homeaway_ratio['camera_home_p1']\n",
    "    camera_homeaway_ratio.head()\n",
    "\n",
    "    ret = pd.merge(camera_remote_ratio_ftr, camera_remote_ratio_last_ftr, left_index=True, right_index=True)\n",
    "    ret = pd.merge(ret, camera_homeaway_ratio, left_index=True, right_index=True).fillna(0.0)\n",
    "    ret = ret.reset_index(drop=False).rename(columns={'index':'game_id'})\n",
    "    ret.to_csv('./data/camera_homeaway_train.csv', mode='a' if idx > 0 else 'w', index=False, header=None if idx > 0 else True)\n",
    "    print(f'[{idx}] {(datetime.datetime.now() - t1).seconds:.1f} secs')"
   ]
  },
  {
   "cell_type": "code",
   "execution_count": null,
   "metadata": {},
   "outputs": [],
   "source": []
  },
  {
   "cell_type": "code",
   "execution_count": null,
   "metadata": {},
   "outputs": [],
   "source": []
  },
  {
   "cell_type": "code",
   "execution_count": null,
   "metadata": {},
   "outputs": [],
   "source": []
  },
  {
   "cell_type": "code",
   "execution_count": 265,
   "metadata": {},
   "outputs": [
    {
     "name": "stderr",
     "output_type": "stream",
     "text": [
      "/Users/a80099707/anaconda3/lib/python3.6/site-packages/ipykernel_launcher.py:10: SettingWithCopyWarning: \n",
      "A value is trying to be set on a copy of a slice from a DataFrame.\n",
      "Try using .loc[row_indexer,col_indexer] = value instead\n",
      "\n",
      "See the caveats in the documentation: http://pandas.pydata.org/pandas-docs/stable/user_guide/indexing.html#returning-a-view-versus-a-copy\n",
      "  # Remove the CWD from sys.path while we load stuff.\n",
      "/Users/a80099707/anaconda3/lib/python3.6/site-packages/ipykernel_launcher.py:11: SettingWithCopyWarning: \n",
      "A value is trying to be set on a copy of a slice from a DataFrame.\n",
      "Try using .loc[row_indexer,col_indexer] = value instead\n",
      "\n",
      "See the caveats in the documentation: http://pandas.pydata.org/pandas-docs/stable/user_guide/indexing.html#returning-a-view-versus-a-copy\n",
      "  # This is added back by InteractiveShellApp.init_path()\n"
     ]
    },
    {
     "ename": "KeyError",
     "evalue": "'slice'",
     "output_type": "error",
     "traceback": [
      "\u001b[0;31m---------------------------------------------------------------------------\u001b[0m",
      "\u001b[0;31mKeyError\u001b[0m                                  Traceback (most recent call last)",
      "\u001b[0;32m~/anaconda3/lib/python3.6/site-packages/pandas/core/indexes/base.py\u001b[0m in \u001b[0;36mget_loc\u001b[0;34m(self, key, method, tolerance)\u001b[0m\n\u001b[1;32m   2896\u001b[0m             \u001b[0;32mtry\u001b[0m\u001b[0;34m:\u001b[0m\u001b[0;34m\u001b[0m\u001b[0;34m\u001b[0m\u001b[0m\n\u001b[0;32m-> 2897\u001b[0;31m                 \u001b[0;32mreturn\u001b[0m \u001b[0mself\u001b[0m\u001b[0;34m.\u001b[0m\u001b[0m_engine\u001b[0m\u001b[0;34m.\u001b[0m\u001b[0mget_loc\u001b[0m\u001b[0;34m(\u001b[0m\u001b[0mkey\u001b[0m\u001b[0;34m)\u001b[0m\u001b[0;34m\u001b[0m\u001b[0;34m\u001b[0m\u001b[0m\n\u001b[0m\u001b[1;32m   2898\u001b[0m             \u001b[0;32mexcept\u001b[0m \u001b[0mKeyError\u001b[0m\u001b[0;34m:\u001b[0m\u001b[0;34m\u001b[0m\u001b[0;34m\u001b[0m\u001b[0m\n",
      "\u001b[0;32mpandas/_libs/index.pyx\u001b[0m in \u001b[0;36mpandas._libs.index.IndexEngine.get_loc\u001b[0;34m()\u001b[0m\n",
      "\u001b[0;32mpandas/_libs/index.pyx\u001b[0m in \u001b[0;36mpandas._libs.index.IndexEngine.get_loc\u001b[0;34m()\u001b[0m\n",
      "\u001b[0;32mpandas/_libs/hashtable_class_helper.pxi\u001b[0m in \u001b[0;36mpandas._libs.hashtable.PyObjectHashTable.get_item\u001b[0;34m()\u001b[0m\n",
      "\u001b[0;32mpandas/_libs/hashtable_class_helper.pxi\u001b[0m in \u001b[0;36mpandas._libs.hashtable.PyObjectHashTable.get_item\u001b[0;34m()\u001b[0m\n",
      "\u001b[0;31mKeyError\u001b[0m: 'slice'",
      "\nDuring handling of the above exception, another exception occurred:\n",
      "\u001b[0;31mKeyError\u001b[0m                                  Traceback (most recent call last)",
      "\u001b[0;32m<ipython-input-265-7f1372f9dde3>\u001b[0m in \u001b[0;36m<module>\u001b[0;34m\u001b[0m\n\u001b[1;32m     16\u001b[0m     \u001b[0mdf_p1\u001b[0m \u001b[0;34m=\u001b[0m \u001b[0mdf\u001b[0m\u001b[0;34m[\u001b[0m\u001b[0mdf\u001b[0m\u001b[0;34m[\u001b[0m\u001b[0;34m'player'\u001b[0m\u001b[0;34m]\u001b[0m \u001b[0;34m==\u001b[0m \u001b[0;36m1\u001b[0m\u001b[0;34m]\u001b[0m\u001b[0;34m\u001b[0m\u001b[0;34m\u001b[0m\u001b[0m\n\u001b[1;32m     17\u001b[0m \u001b[0;34m\u001b[0m\u001b[0m\n\u001b[0;32m---> 18\u001b[0;31m     \u001b[0mlast_3min_p0\u001b[0m \u001b[0;34m=\u001b[0m \u001b[0msorted\u001b[0m\u001b[0;34m(\u001b[0m\u001b[0mnp\u001b[0m\u001b[0;34m.\u001b[0m\u001b[0munique\u001b[0m\u001b[0;34m(\u001b[0m\u001b[0mdf_p0\u001b[0m\u001b[0;34m[\u001b[0m\u001b[0;34m'slice'\u001b[0m\u001b[0;34m]\u001b[0m\u001b[0;34m)\u001b[0m\u001b[0;34m)\u001b[0m\u001b[0;34m[\u001b[0m\u001b[0;34m-\u001b[0m\u001b[0;36m3\u001b[0m\u001b[0;34m]\u001b[0m\u001b[0;34m\u001b[0m\u001b[0;34m\u001b[0m\u001b[0m\n\u001b[0m\u001b[1;32m     19\u001b[0m     \u001b[0mlast_3min_p1\u001b[0m \u001b[0;34m=\u001b[0m \u001b[0msorted\u001b[0m\u001b[0;34m(\u001b[0m\u001b[0mnp\u001b[0m\u001b[0;34m.\u001b[0m\u001b[0munique\u001b[0m\u001b[0;34m(\u001b[0m\u001b[0mdf_p1\u001b[0m\u001b[0;34m[\u001b[0m\u001b[0;34m'slice'\u001b[0m\u001b[0;34m]\u001b[0m\u001b[0;34m)\u001b[0m\u001b[0;34m)\u001b[0m\u001b[0;34m[\u001b[0m\u001b[0;34m-\u001b[0m\u001b[0;36m3\u001b[0m\u001b[0;34m]\u001b[0m\u001b[0;34m\u001b[0m\u001b[0;34m\u001b[0m\u001b[0m\n\u001b[1;32m     20\u001b[0m     \u001b[0mmetric_p0\u001b[0m \u001b[0;34m=\u001b[0m \u001b[0mdf_p0\u001b[0m\u001b[0;34m[\u001b[0m\u001b[0;34m(\u001b[0m\u001b[0mdf_p0\u001b[0m\u001b[0;34m[\u001b[0m\u001b[0;34m'aggresive'\u001b[0m\u001b[0;34m]\u001b[0m\u001b[0;34m)\u001b[0m \u001b[0;34m&\u001b[0m \u001b[0;34m(\u001b[0m\u001b[0mdf_p0\u001b[0m\u001b[0;34m[\u001b[0m\u001b[0;34m'slice'\u001b[0m\u001b[0;34m]\u001b[0m \u001b[0;34m>=\u001b[0m \u001b[0mlast_3min_p0\u001b[0m\u001b[0;34m)\u001b[0m\u001b[0;34m]\u001b[0m\u001b[0;34m\u001b[0m\u001b[0;34m\u001b[0m\u001b[0m\n",
      "\u001b[0;32m~/anaconda3/lib/python3.6/site-packages/pandas/core/frame.py\u001b[0m in \u001b[0;36m__getitem__\u001b[0;34m(self, key)\u001b[0m\n\u001b[1;32m   2993\u001b[0m             \u001b[0;32mif\u001b[0m \u001b[0mself\u001b[0m\u001b[0;34m.\u001b[0m\u001b[0mcolumns\u001b[0m\u001b[0;34m.\u001b[0m\u001b[0mnlevels\u001b[0m \u001b[0;34m>\u001b[0m \u001b[0;36m1\u001b[0m\u001b[0;34m:\u001b[0m\u001b[0;34m\u001b[0m\u001b[0;34m\u001b[0m\u001b[0m\n\u001b[1;32m   2994\u001b[0m                 \u001b[0;32mreturn\u001b[0m \u001b[0mself\u001b[0m\u001b[0;34m.\u001b[0m\u001b[0m_getitem_multilevel\u001b[0m\u001b[0;34m(\u001b[0m\u001b[0mkey\u001b[0m\u001b[0;34m)\u001b[0m\u001b[0;34m\u001b[0m\u001b[0;34m\u001b[0m\u001b[0m\n\u001b[0;32m-> 2995\u001b[0;31m             \u001b[0mindexer\u001b[0m \u001b[0;34m=\u001b[0m \u001b[0mself\u001b[0m\u001b[0;34m.\u001b[0m\u001b[0mcolumns\u001b[0m\u001b[0;34m.\u001b[0m\u001b[0mget_loc\u001b[0m\u001b[0;34m(\u001b[0m\u001b[0mkey\u001b[0m\u001b[0;34m)\u001b[0m\u001b[0;34m\u001b[0m\u001b[0;34m\u001b[0m\u001b[0m\n\u001b[0m\u001b[1;32m   2996\u001b[0m             \u001b[0;32mif\u001b[0m \u001b[0mis_integer\u001b[0m\u001b[0;34m(\u001b[0m\u001b[0mindexer\u001b[0m\u001b[0;34m)\u001b[0m\u001b[0;34m:\u001b[0m\u001b[0;34m\u001b[0m\u001b[0;34m\u001b[0m\u001b[0m\n\u001b[1;32m   2997\u001b[0m                 \u001b[0mindexer\u001b[0m \u001b[0;34m=\u001b[0m \u001b[0;34m[\u001b[0m\u001b[0mindexer\u001b[0m\u001b[0;34m]\u001b[0m\u001b[0;34m\u001b[0m\u001b[0;34m\u001b[0m\u001b[0m\n",
      "\u001b[0;32m~/anaconda3/lib/python3.6/site-packages/pandas/core/indexes/base.py\u001b[0m in \u001b[0;36mget_loc\u001b[0;34m(self, key, method, tolerance)\u001b[0m\n\u001b[1;32m   2897\u001b[0m                 \u001b[0;32mreturn\u001b[0m \u001b[0mself\u001b[0m\u001b[0;34m.\u001b[0m\u001b[0m_engine\u001b[0m\u001b[0;34m.\u001b[0m\u001b[0mget_loc\u001b[0m\u001b[0;34m(\u001b[0m\u001b[0mkey\u001b[0m\u001b[0;34m)\u001b[0m\u001b[0;34m\u001b[0m\u001b[0;34m\u001b[0m\u001b[0m\n\u001b[1;32m   2898\u001b[0m             \u001b[0;32mexcept\u001b[0m \u001b[0mKeyError\u001b[0m\u001b[0;34m:\u001b[0m\u001b[0;34m\u001b[0m\u001b[0;34m\u001b[0m\u001b[0m\n\u001b[0;32m-> 2899\u001b[0;31m                 \u001b[0;32mreturn\u001b[0m \u001b[0mself\u001b[0m\u001b[0;34m.\u001b[0m\u001b[0m_engine\u001b[0m\u001b[0;34m.\u001b[0m\u001b[0mget_loc\u001b[0m\u001b[0;34m(\u001b[0m\u001b[0mself\u001b[0m\u001b[0;34m.\u001b[0m\u001b[0m_maybe_cast_indexer\u001b[0m\u001b[0;34m(\u001b[0m\u001b[0mkey\u001b[0m\u001b[0;34m)\u001b[0m\u001b[0;34m)\u001b[0m\u001b[0;34m\u001b[0m\u001b[0;34m\u001b[0m\u001b[0m\n\u001b[0m\u001b[1;32m   2900\u001b[0m         \u001b[0mindexer\u001b[0m \u001b[0;34m=\u001b[0m \u001b[0mself\u001b[0m\u001b[0;34m.\u001b[0m\u001b[0mget_indexer\u001b[0m\u001b[0;34m(\u001b[0m\u001b[0;34m[\u001b[0m\u001b[0mkey\u001b[0m\u001b[0;34m]\u001b[0m\u001b[0;34m,\u001b[0m \u001b[0mmethod\u001b[0m\u001b[0;34m=\u001b[0m\u001b[0mmethod\u001b[0m\u001b[0;34m,\u001b[0m \u001b[0mtolerance\u001b[0m\u001b[0;34m=\u001b[0m\u001b[0mtolerance\u001b[0m\u001b[0;34m)\u001b[0m\u001b[0;34m\u001b[0m\u001b[0;34m\u001b[0m\u001b[0m\n\u001b[1;32m   2901\u001b[0m         \u001b[0;32mif\u001b[0m \u001b[0mindexer\u001b[0m\u001b[0;34m.\u001b[0m\u001b[0mndim\u001b[0m \u001b[0;34m>\u001b[0m \u001b[0;36m1\u001b[0m \u001b[0;32mor\u001b[0m \u001b[0mindexer\u001b[0m\u001b[0;34m.\u001b[0m\u001b[0msize\u001b[0m \u001b[0;34m>\u001b[0m \u001b[0;36m1\u001b[0m\u001b[0;34m:\u001b[0m\u001b[0;34m\u001b[0m\u001b[0;34m\u001b[0m\u001b[0m\n",
      "\u001b[0;32mpandas/_libs/index.pyx\u001b[0m in \u001b[0;36mpandas._libs.index.IndexEngine.get_loc\u001b[0;34m()\u001b[0m\n",
      "\u001b[0;32mpandas/_libs/index.pyx\u001b[0m in \u001b[0;36mpandas._libs.index.IndexEngine.get_loc\u001b[0;34m()\u001b[0m\n",
      "\u001b[0;32mpandas/_libs/hashtable_class_helper.pxi\u001b[0m in \u001b[0;36mpandas._libs.hashtable.PyObjectHashTable.get_item\u001b[0;34m()\u001b[0m\n",
      "\u001b[0;32mpandas/_libs/hashtable_class_helper.pxi\u001b[0m in \u001b[0;36mpandas._libs.hashtable.PyObjectHashTable.get_item\u001b[0;34m()\u001b[0m\n",
      "\u001b[0;31mKeyError\u001b[0m: 'slice'"
     ]
    }
   ],
   "source": [
    "GID = 9\n",
    "ret = []\n",
    "for GID in range(25):\n",
    "    df = _df[_df['game_id'] == GID]\n",
    "    WINNER = df['winner'].iloc[0]\n",
    "\n",
    "    \n",
    "    center_p0 = df[df['player'] == 0].iloc[0][['x', 'y']]\n",
    "    center_p1 = df[df['player'] == 1].iloc[0][['x', 'y']]\n",
    "    df['dist_from_p0'] = np.sqrt((df['x'] - center_p0['x']) ** 2 + (df['y'] - center_p0['y']) ** 2)\n",
    "    df['dist_from_p1'] = np.sqrt((df['x'] - center_p1['x']) ** 2 + (df['y'] - center_p1['y']) ** 2)\n",
    "    df.loc[df['player'] == 0, 'aggresive'] = df['dist_from_p0'] > df['dist_from_p1']\n",
    "    df.loc[df['player'] == 1, 'aggresive'] = df['dist_from_p1'] > df['dist_from_p0'] \n",
    "\n",
    "    df_p0 = df[df['player'] == 0]\n",
    "    df_p1 = df[df['player'] == 1]\n",
    "\n",
    "    last_3min_p0 = sorted(np.unique(df_p0['slice']))[-3]\n",
    "    last_3min_p1 = sorted(np.unique(df_p1['slice']))[-3]\n",
    "    metric_p0 = df_p0[(df_p0['aggresive']) & (df_p0['slice'] >= last_3min_p0)]\n",
    "    metric_p1 = df_p1[(df_p1['aggresive']) & (df_p1['slice'] >= last_3min_p1)]\n",
    "    \n",
    "    ret.append([WINNER, len(metric_p0), len(metric_p1), df_p0.iloc[0]['species'], df_p1.iloc[0]['species']])\n",
    "pd.DataFrame(ret)"
   ]
  },
  {
   "cell_type": "code",
   "execution_count": 165,
   "metadata": {},
   "outputs": [
    {
     "data": {
      "text/plain": [
       "[<matplotlib.lines.Line2D at 0x12fd18898>]"
      ]
     },
     "execution_count": 165,
     "metadata": {},
     "output_type": "execute_result"
    },
    {
     "data": {
      "image/png": "[encoded data removed]",
      "text/plain": [
       "<Figure size 432x288 with 1 Axes>"
      ]
     },
     "metadata": {
      "needs_background": "light"
     },
     "output_type": "display_data"
    }
   ],
   "source": [
    "plt.plot(df_p0[df_p0['aggresive']].groupby(by='slice')['event'].count(), color='r' if WINNER == 0 else 'gray')\n",
    "plt.plot(df_p1[df_p1['aggresive']].groupby(by='slice')['event'].count(), color='r' if WINNER == 1 else 'gray')"
   ]
  },
  {
   "cell_type": "code",
   "execution_count": 163,
   "metadata": {},
   "outputs": [
    {
     "data": {
      "image/png": "[encoded data removed]",
      "text/plain": [
       "<Figure size 432x432 with 1 Axes>"
      ]
     },
     "metadata": {
      "needs_background": "light"
     },
     "output_type": "display_data"
    }
   ],
   "source": [
    "plt.figure(figsize=(6,6))\n",
    "plt.scatter(df_p0['x'], df_p0['y'], c='r' if WINNER == 0 else 'gray', marker='1')\n",
    "plt.scatter(df_p1['x'], df_p1['y'], c='b' if WINNER == 1 else 'gray', marker='1')\n",
    "plt.show()"
   ]
  },
  {
   "cell_type": "code",
   "execution_count": null,
   "metadata": {},
   "outputs": [],
   "source": []
  },
  {
   "cell_type": "code",
   "execution_count": null,
   "metadata": {},
   "outputs": [],
   "source": []
  },
  {
   "cell_type": "code",
   "execution_count": 6,
   "metadata": {},
   "outputs": [],
   "source": [
    "unit_dict = {}\n",
    "abandoned_units = []\n",
    "# species_units = {'Z':{}, 'P':{}, 'T':{}}\n",
    "for idx, data in df.iterrows():\n",
    "    if idx % 10000\n",
    "    if not data['game_id'] in unit_dict:\n",
    "        unit_dict[data['game_id']] = [{}, {}]\n",
    "    for unit_name, unit_id in data['event_contents']:\n",
    "        if unit_name and len(unit_name) > 0: # and len(npcs.findall(unit_name)) == 0:\n",
    "            unit_name = re.sub('Sieged|Burrowed', '', unit_name)\n",
    "            \n",
    "            if unit_name in ['SCV', 'Drone', 'Probe']:\n",
    "                continue\n",
    "            # check the enemy has it\n",
    "            if unit_id not in unit_dict[data['game_id']][(data['player'] + 1 ) % 2]:\n",
    "                if unit_name in unit_set[data['species']]:\n",
    "                    unit_dict[data['game_id']][data['player']][unit_id] = unit_name\n",
    "                elif unit_name in whole_unit_set:\n",
    "                    unit_dict[data['game_id']][(data['player'] + 1) % 2][unit_id] = unit_name\n",
    "                else:\n",
    "                    abandoned_units.append(unit_name)\n",
    "                # save unit names per each species\n",
    "#                 if unit_name in species_units[data['species']]:\n",
    "#                     species_units[data['species']][unit_name] += 1\n",
    "#                 else:\n",
    "#                     species_units[data['species']][unit_name] = 1\n",
    "        else:\n",
    "            print(f\"{idx}: [gid {data['game_id']}] Invalid item name {unit_name} ({unit_id})\")"
   ]
  },
  {
   "cell_type": "code",
   "execution_count": 7,
   "metadata": {},
   "outputs": [],
   "source": [
    "pickle.dump(unit_dict, open('./data/unit_dict.pkl', 'wb'))"
   ]
  },
  {
   "cell_type": "code",
   "execution_count": 8,
   "metadata": {},
   "outputs": [],
   "source": [
    "winner_dict = df.groupby(by=['game_id'])['winner'].first().to_dict()\n",
    "pickle.dump(winner_dict, open('./data/winner_dict.pkl', 'wb'))"
   ]
  },
  {
   "cell_type": "code",
   "execution_count": 9,
   "metadata": {},
   "outputs": [],
   "source": [
    "unit_ftr = []\n",
    "unit_cols = sorted(whole_unit_set)\n",
    "game_cnt = max(df['game_id']) + 1\n",
    "\n",
    "for g in range(game_cnt):\n",
    "    unit_ftr.append([])\n",
    "    for p in range(2):\n",
    "        unit_ftr[-1].append({key:0 for key in unit_cols})\n",
    "        for unit in unit_dict[g][p].values():\n",
    "            unit_ftr[-1][p][unit] += 1"
   ]
  },
  {
   "cell_type": "code",
   "execution_count": 10,
   "metadata": {},
   "outputs": [],
   "source": [
    "merged_unit_ftr = []\n",
    "winner_ftr = []\n",
    "for GID in range(game_cnt):\n",
    "    merged_unit_ftr.append(list(unit_ftr[GID][0].values()) + list(unit_ftr[GID][1].values()))\n",
    "    winner_ftr.append(winner_dict[GID])"
   ]
  },
  {
   "cell_type": "code",
   "execution_count": 11,
   "metadata": {},
   "outputs": [],
   "source": [
    "from sklearn.decomposition import PCA\n",
    "pca = PCA(n_components=10)\n",
    "pca.fit(merged_unit_ftr, y=winner_ftr)\n",
    "pca_ftr = pca.transform(merged_unit_ftr)"
   ]
  },
  {
   "cell_type": "code",
   "execution_count": 12,
   "metadata": {},
   "outputs": [],
   "source": [
    "pickle.dump(pca, open('./data/pca.pkl', 'wb'))"
   ]
  },
  {
   "cell_type": "code",
   "execution_count": 13,
   "metadata": {},
   "outputs": [
    {
     "data": {
      "image/png": "[encoded data removed]",
      "text/plain": [
       "<Figure size 576x576 with 1 Axes>"
      ]
     },
     "metadata": {
      "needs_background": "light"
     },
     "output_type": "display_data"
    }
   ],
   "source": [
    "ys = pca_ftr[:,0]\n",
    "xs = pca_ftr[:,1]\n",
    "\n",
    "from matplotlib import pyplot as plt\n",
    "plt.figure(figsize=(8,8))\n",
    "plt.scatter(xs, ys, marker='o')\n",
    "for i, v in enumerate(range(game_cnt)):\n",
    "    plt.annotate(v, xy=(xs[i], ys[i]))"
   ]
  },
  {
   "cell_type": "code",
   "execution_count": 14,
   "metadata": {},
   "outputs": [
    {
     "data": {
      "text/html": [
       "<div>\n",
       "<style scoped>\n",
       "    .dataframe tbody tr th:only-of-type {\n",
       "        vertical-align: middle;\n",
       "    }\n",
       "\n",
       "    .dataframe tbody tr th {\n",
       "        vertical-align: top;\n",
       "    }\n",
       "\n",
       "    .dataframe thead th {\n",
       "        text-align: right;\n",
       "    }\n",
       "</style>\n",
       "<table border=\"1\" class=\"dataframe\">\n",
       "  <thead>\n",
       "    <tr style=\"text-align: right;\">\n",
       "      <th></th>\n",
       "      <th>0</th>\n",
       "      <th>1</th>\n",
       "      <th>2</th>\n",
       "      <th>3</th>\n",
       "      <th>4</th>\n",
       "      <th>5</th>\n",
       "      <th>6</th>\n",
       "      <th>7</th>\n",
       "      <th>8</th>\n",
       "      <th>9</th>\n",
       "    </tr>\n",
       "  </thead>\n",
       "  <tbody>\n",
       "    <tr>\n",
       "      <th>0</th>\n",
       "      <td>-7.239118</td>\n",
       "      <td>0.824455</td>\n",
       "      <td>5.636128</td>\n",
       "      <td>-0.797843</td>\n",
       "      <td>-0.469545</td>\n",
       "      <td>-0.020569</td>\n",
       "      <td>-0.830383</td>\n",
       "      <td>-0.432295</td>\n",
       "      <td>-0.064888</td>\n",
       "      <td>-0.239248</td>\n",
       "    </tr>\n",
       "    <tr>\n",
       "      <th>1</th>\n",
       "      <td>-7.087485</td>\n",
       "      <td>2.645308</td>\n",
       "      <td>4.767439</td>\n",
       "      <td>-8.105190</td>\n",
       "      <td>-0.759641</td>\n",
       "      <td>-0.963355</td>\n",
       "      <td>0.769272</td>\n",
       "      <td>-0.140913</td>\n",
       "      <td>0.722603</td>\n",
       "      <td>1.883549</td>\n",
       "    </tr>\n",
       "    <tr>\n",
       "      <th>2</th>\n",
       "      <td>2.469137</td>\n",
       "      <td>-10.379357</td>\n",
       "      <td>-3.734430</td>\n",
       "      <td>-3.142465</td>\n",
       "      <td>-0.558421</td>\n",
       "      <td>-1.389007</td>\n",
       "      <td>0.482712</td>\n",
       "      <td>-0.891283</td>\n",
       "      <td>0.167267</td>\n",
       "      <td>1.313682</td>\n",
       "    </tr>\n",
       "    <tr>\n",
       "      <th>3</th>\n",
       "      <td>-7.822502</td>\n",
       "      <td>-2.856204</td>\n",
       "      <td>7.435919</td>\n",
       "      <td>13.914480</td>\n",
       "      <td>-1.241673</td>\n",
       "      <td>1.620324</td>\n",
       "      <td>6.593019</td>\n",
       "      <td>2.094860</td>\n",
       "      <td>-0.999804</td>\n",
       "      <td>-3.701278</td>\n",
       "    </tr>\n",
       "    <tr>\n",
       "      <th>4</th>\n",
       "      <td>-4.861956</td>\n",
       "      <td>-2.785244</td>\n",
       "      <td>-1.671422</td>\n",
       "      <td>2.112014</td>\n",
       "      <td>-0.251560</td>\n",
       "      <td>-0.590533</td>\n",
       "      <td>-1.142674</td>\n",
       "      <td>-0.449859</td>\n",
       "      <td>0.155345</td>\n",
       "      <td>-0.138047</td>\n",
       "    </tr>\n",
       "  </tbody>\n",
       "</table>\n",
       "</div>"
      ],
      "text/plain": [
       "          0          1         2          3         4         5         6  \\\n",
       "0 -7.239118  0.824455   5.636128 -0.797843  -0.469545 -0.020569 -0.830383   \n",
       "1 -7.087485  2.645308   4.767439 -8.105190  -0.759641 -0.963355  0.769272   \n",
       "2  2.469137 -10.379357 -3.734430 -3.142465  -0.558421 -1.389007  0.482712   \n",
       "3 -7.822502 -2.856204   7.435919  13.914480 -1.241673  1.620324  6.593019   \n",
       "4 -4.861956 -2.785244  -1.671422  2.112014  -0.251560 -0.590533 -1.142674   \n",
       "\n",
       "          7         8         9  \n",
       "0 -0.432295 -0.064888 -0.239248  \n",
       "1 -0.140913  0.722603  1.883549  \n",
       "2 -0.891283  0.167267  1.313682  \n",
       "3  2.094860 -0.999804 -3.701278  \n",
       "4 -0.449859  0.155345 -0.138047  "
      ]
     },
     "execution_count": 14,
     "metadata": {},
     "output_type": "execute_result"
    }
   ],
   "source": [
    "ret = pd.DataFrame(pca_ftr, index=range(game_cnt))\n",
    "ret.head()"
   ]
  },
  {
   "cell_type": "code",
   "execution_count": 22,
   "metadata": {},
   "outputs": [],
   "source": [
    "ret.columns = [f'unit_pca{x}' for x in ret.columns]"
   ]
  },
  {
   "cell_type": "code",
   "execution_count": 25,
   "metadata": {},
   "outputs": [],
   "source": [
    "ret = ret.reset_index().rename(columns={'index':'game_id'})\n",
    "ret.to_csv('./data/unit_select_pca_train.csv', index=False)"
   ]
  },
  {
   "cell_type": "code",
   "execution_count": 27,
   "metadata": {},
   "outputs": [
    {
     "data": {
      "text/html": [
       "<div>\n",
       "<style scoped>\n",
       "    .dataframe tbody tr th:only-of-type {\n",
       "        vertical-align: middle;\n",
       "    }\n",
       "\n",
       "    .dataframe tbody tr th {\n",
       "        vertical-align: top;\n",
       "    }\n",
       "\n",
       "    .dataframe thead th {\n",
       "        text-align: right;\n",
       "    }\n",
       "</style>\n",
       "<table border=\"1\" class=\"dataframe\">\n",
       "  <thead>\n",
       "    <tr style=\"text-align: right;\">\n",
       "      <th></th>\n",
       "      <th>0</th>\n",
       "      <th>1</th>\n",
       "      <th>2</th>\n",
       "      <th>3</th>\n",
       "      <th>4</th>\n",
       "      <th>5</th>\n",
       "      <th>6</th>\n",
       "      <th>7</th>\n",
       "      <th>8</th>\n",
       "      <th>9</th>\n",
       "      <th>...</th>\n",
       "      <th>100</th>\n",
       "      <th>101</th>\n",
       "      <th>102</th>\n",
       "      <th>103</th>\n",
       "      <th>104</th>\n",
       "      <th>105</th>\n",
       "      <th>106</th>\n",
       "      <th>107</th>\n",
       "      <th>108</th>\n",
       "      <th>109</th>\n",
       "    </tr>\n",
       "  </thead>\n",
       "  <tbody>\n",
       "    <tr>\n",
       "      <th>0</th>\n",
       "      <td>0</td>\n",
       "      <td>0</td>\n",
       "      <td>0</td>\n",
       "      <td>0</td>\n",
       "      <td>0</td>\n",
       "      <td>0</td>\n",
       "      <td>0</td>\n",
       "      <td>0</td>\n",
       "      <td>0</td>\n",
       "      <td>0</td>\n",
       "      <td>...</td>\n",
       "      <td>0</td>\n",
       "      <td>0</td>\n",
       "      <td>0</td>\n",
       "      <td>0</td>\n",
       "      <td>0</td>\n",
       "      <td>0</td>\n",
       "      <td>0</td>\n",
       "      <td>0</td>\n",
       "      <td>0</td>\n",
       "      <td>0</td>\n",
       "    </tr>\n",
       "    <tr>\n",
       "      <th>1</th>\n",
       "      <td>4</td>\n",
       "      <td>0</td>\n",
       "      <td>0</td>\n",
       "      <td>0</td>\n",
       "      <td>0</td>\n",
       "      <td>0</td>\n",
       "      <td>0</td>\n",
       "      <td>0</td>\n",
       "      <td>0</td>\n",
       "      <td>0</td>\n",
       "      <td>...</td>\n",
       "      <td>0</td>\n",
       "      <td>0</td>\n",
       "      <td>0</td>\n",
       "      <td>0</td>\n",
       "      <td>0</td>\n",
       "      <td>0</td>\n",
       "      <td>0</td>\n",
       "      <td>0</td>\n",
       "      <td>0</td>\n",
       "      <td>0</td>\n",
       "    </tr>\n",
       "    <tr>\n",
       "      <th>2</th>\n",
       "      <td>3</td>\n",
       "      <td>0</td>\n",
       "      <td>0</td>\n",
       "      <td>0</td>\n",
       "      <td>0</td>\n",
       "      <td>0</td>\n",
       "      <td>0</td>\n",
       "      <td>0</td>\n",
       "      <td>0</td>\n",
       "      <td>0</td>\n",
       "      <td>...</td>\n",
       "      <td>0</td>\n",
       "      <td>0</td>\n",
       "      <td>0</td>\n",
       "      <td>0</td>\n",
       "      <td>0</td>\n",
       "      <td>0</td>\n",
       "      <td>0</td>\n",
       "      <td>0</td>\n",
       "      <td>0</td>\n",
       "      <td>14</td>\n",
       "    </tr>\n",
       "    <tr>\n",
       "      <th>3</th>\n",
       "      <td>0</td>\n",
       "      <td>0</td>\n",
       "      <td>0</td>\n",
       "      <td>0</td>\n",
       "      <td>0</td>\n",
       "      <td>0</td>\n",
       "      <td>0</td>\n",
       "      <td>0</td>\n",
       "      <td>0</td>\n",
       "      <td>0</td>\n",
       "      <td>...</td>\n",
       "      <td>0</td>\n",
       "      <td>0</td>\n",
       "      <td>0</td>\n",
       "      <td>0</td>\n",
       "      <td>0</td>\n",
       "      <td>0</td>\n",
       "      <td>1</td>\n",
       "      <td>0</td>\n",
       "      <td>0</td>\n",
       "      <td>0</td>\n",
       "    </tr>\n",
       "    <tr>\n",
       "      <th>4</th>\n",
       "      <td>0</td>\n",
       "      <td>0</td>\n",
       "      <td>0</td>\n",
       "      <td>0</td>\n",
       "      <td>0</td>\n",
       "      <td>0</td>\n",
       "      <td>0</td>\n",
       "      <td>0</td>\n",
       "      <td>0</td>\n",
       "      <td>0</td>\n",
       "      <td>...</td>\n",
       "      <td>0</td>\n",
       "      <td>0</td>\n",
       "      <td>0</td>\n",
       "      <td>0</td>\n",
       "      <td>0</td>\n",
       "      <td>0</td>\n",
       "      <td>0</td>\n",
       "      <td>0</td>\n",
       "      <td>0</td>\n",
       "      <td>3</td>\n",
       "    </tr>\n",
       "  </tbody>\n",
       "</table>\n",
       "<p>5 rows × 110 columns</p>\n",
       "</div>"
      ],
      "text/plain": [
       "   0  1  2  3  4  5  6  7  8  9  ...  100  101  102  103  104  105  106  107  \\\n",
       "0  0  0  0  0  0  0  0  0  0  0  ...  0    0    0    0    0    0    0    0     \n",
       "1  4  0  0  0  0  0  0  0  0  0  ...  0    0    0    0    0    0    0    0     \n",
       "2  3  0  0  0  0  0  0  0  0  0  ...  0    0    0    0    0    0    0    0     \n",
       "3  0  0  0  0  0  0  0  0  0  0  ...  0    0    0    0    0    0    1    0     \n",
       "4  0  0  0  0  0  0  0  0  0  0  ...  0    0    0    0    0    0    0    0     \n",
       "\n",
       "   108  109  \n",
       "0  0    0    \n",
       "1  0    0    \n",
       "2  0    14   \n",
       "3  0    0    \n",
       "4  0    3    \n",
       "\n",
       "[5 rows x 110 columns]"
      ]
     },
     "execution_count": 27,
     "metadata": {},
     "output_type": "execute_result"
    }
   ],
   "source": [
    "ret_raw = pd.DataFrame(merged_unit_ftr, index=range(game_cnt))\n",
    "ret_raw.columns = unit_cols + unit_cols\n",
    "ret_raw.head()"
   ]
  },
  {
   "cell_type": "code",
   "execution_count": 30,
   "metadata": {},
   "outputs": [],
   "source": [
    "ret_raw = ret_raw.reset_index().rename(columns={'index':'game_id'})\n",
    "ret_raw.to_csv('./data/unit_select_raw_train.csv', index=False)"
   ]
  },
  {
   "cell_type": "markdown",
   "metadata": {},
   "source": [
    "### 예측용"
   ]
  },
  {
   "cell_type": "code",
   "execution_count": 31,
   "metadata": {},
   "outputs": [
    {
     "data": {
      "text/plain": [
       "((28714849, 6), 55658)"
      ]
     },
     "execution_count": 31,
     "metadata": {},
     "output_type": "execute_result"
    }
   ],
   "source": [
    "df = pd.read_csv('./data/test.csv') #, nrows=1000000)\n",
    "df.shape, df['game_id'].min(), df['game_id'].max()"
   ]
  },
  {
   "cell_type": "code",
   "execution_count": 81,
   "metadata": {},
   "outputs": [
    {
     "data": {
      "text/plain": [
       "((4077893, 6), 38872, 55658)"
      ]
     },
     "execution_count": 81,
     "metadata": {},
     "output_type": "execute_result"
    }
   ],
   "source": [
    "df.shape, df['game_id'].min(), df['game_id'].max()"
   ]
  },
  {
   "cell_type": "code",
   "execution_count": 37,
   "metadata": {},
   "outputs": [],
   "source": [
    "df = df[df['event'].isin(['Selection'])]\n",
    "arr_units = df['event_contents'].map(units.findall)\n",
    "del df['event_contents']\n",
    "df = pd.concat([df, arr_units], axis=1)"
   ]
  },
  {
   "cell_type": "code",
   "execution_count": 52,
   "metadata": {},
   "outputs": [],
   "source": [
    "unit_dict = {}\n",
    "abandoned_units = []\n",
    "# species_units = {'Z':{}, 'P':{}, 'T':{}}\n",
    "for idx, data in df.iterrows():\n",
    "    if not data['game_id'] in unit_dict:\n",
    "        unit_dict[data['game_id']] = [{}, {}]\n",
    "    for unit_name, unit_id in data['event_contents']:\n",
    "        if unit_name and len(unit_name) > 0: # and len(npcs.findall(unit_name)) == 0:\n",
    "            unit_name = re.sub('Sieged|Burrowed', '', unit_name)\n",
    "            \n",
    "            if unit_name in ['SCV', 'Drone', 'Probe']:\n",
    "                continue\n",
    "            # check the enemy has it\n",
    "            if unit_id not in unit_dict[data['game_id']][(data['player'] + 1 ) % 2]:\n",
    "                if unit_name in unit_set[data['species']]:\n",
    "                    unit_dict[data['game_id']][data['player']][unit_id] = unit_name\n",
    "                elif unit_name in whole_unit_set:\n",
    "                    unit_dict[data['game_id']][(data['player'] + 1) % 2][unit_id] = unit_name\n",
    "                else:\n",
    "                    abandoned_units.append(unit_name)\n",
    "                # save unit names per each species\n",
    "#                 if unit_name in species_units[data['species']]:\n",
    "#                     species_units[data['species']][unit_name] += 1\n",
    "#                 else:\n",
    "#                     species_units[data['species']][unit_name] = 1\n",
    "        else:\n",
    "            print(f\"{idx}: [gid {data['game_id']}] Invalid item name {unit_name} ({unit_id})\")"
   ]
  },
  {
   "cell_type": "code",
   "execution_count": 53,
   "metadata": {},
   "outputs": [],
   "source": [
    "pickle.dump(unit_dict, open('./data/unit_dict_test.pkl', 'wb'))"
   ]
  },
  {
   "cell_type": "code",
   "execution_count": 54,
   "metadata": {},
   "outputs": [],
   "source": [
    "game_id_idx = list(range(df['game_id'].min(), df['game_id'].max() + 1))"
   ]
  },
  {
   "cell_type": "code",
   "execution_count": 55,
   "metadata": {},
   "outputs": [],
   "source": [
    "unit_ftr = []\n",
    "unit_cols = sorted(whole_unit_set)\n",
    "game_cnt = max(df['game_id']) + 1\n",
    "\n",
    "for g in game_id_idx:\n",
    "    unit_ftr.append([])\n",
    "    for p in range(2):\n",
    "        unit_ftr[-1].append({key:0 for key in unit_cols})\n",
    "        for unit in unit_dict[g][p].values():\n",
    "            unit_ftr[-1][p][unit] += 1"
   ]
  },
  {
   "cell_type": "code",
   "execution_count": 84,
   "metadata": {},
   "outputs": [],
   "source": [
    "merged_unit_ftr = []\n",
    "for idx in range(len(unit_ftr)):\n",
    "    merged_unit_ftr.append(list(unit_ftr[idx][0].values()) + list(unit_ftr[idx][1].values()))"
   ]
  },
  {
   "cell_type": "code",
   "execution_count": 85,
   "metadata": {},
   "outputs": [],
   "source": [
    "pca_ftr = pca.transform(merged_unit_ftr)"
   ]
  },
  {
   "cell_type": "code",
   "execution_count": 86,
   "metadata": {},
   "outputs": [],
   "source": [
    "\n",
    "ret = pd.DataFrame(pca_ftr, index=game_id_idx)\n",
    "\n",
    "ret.columns = [f'unit_pca{x}' for x in ret.columns]\n",
    "\n",
    "ret = ret.reset_index().rename(columns={'index':'game_id'})\n",
    "ret.to_csv('./data/unit_select_pca_test.csv', index=False)"
   ]
  },
  {
   "cell_type": "code",
   "execution_count": 88,
   "metadata": {},
   "outputs": [
    {
     "data": {
      "text/html": [
       "<div>\n",
       "<style scoped>\n",
       "    .dataframe tbody tr th:only-of-type {\n",
       "        vertical-align: middle;\n",
       "    }\n",
       "\n",
       "    .dataframe tbody tr th {\n",
       "        vertical-align: top;\n",
       "    }\n",
       "\n",
       "    .dataframe thead th {\n",
       "        text-align: right;\n",
       "    }\n",
       "</style>\n",
       "<table border=\"1\" class=\"dataframe\">\n",
       "  <thead>\n",
       "    <tr style=\"text-align: right;\">\n",
       "      <th></th>\n",
       "      <th>Adept</th>\n",
       "      <th>Archon</th>\n",
       "      <th>Baneling</th>\n",
       "      <th>Banshee</th>\n",
       "      <th>Battlecruiser</th>\n",
       "      <th>BroodLord</th>\n",
       "      <th>Carrier</th>\n",
       "      <th>Colossus</th>\n",
       "      <th>Corruptor</th>\n",
       "      <th>Cyclone</th>\n",
       "      <th>...</th>\n",
       "      <th>Tempest</th>\n",
       "      <th>Thor</th>\n",
       "      <th>Ultralisk</th>\n",
       "      <th>Viking</th>\n",
       "      <th>Viper</th>\n",
       "      <th>VoidRay</th>\n",
       "      <th>WarpPrism</th>\n",
       "      <th>WidowMine</th>\n",
       "      <th>Zealot</th>\n",
       "      <th>Zergling</th>\n",
       "    </tr>\n",
       "  </thead>\n",
       "  <tbody>\n",
       "    <tr>\n",
       "      <th>55654</th>\n",
       "      <td>0</td>\n",
       "      <td>0</td>\n",
       "      <td>0</td>\n",
       "      <td>0</td>\n",
       "      <td>0</td>\n",
       "      <td>0</td>\n",
       "      <td>0</td>\n",
       "      <td>0</td>\n",
       "      <td>0</td>\n",
       "      <td>0</td>\n",
       "      <td>...</td>\n",
       "      <td>0</td>\n",
       "      <td>0</td>\n",
       "      <td>0</td>\n",
       "      <td>0</td>\n",
       "      <td>0</td>\n",
       "      <td>0</td>\n",
       "      <td>0</td>\n",
       "      <td>0</td>\n",
       "      <td>0</td>\n",
       "      <td>0</td>\n",
       "    </tr>\n",
       "    <tr>\n",
       "      <th>55655</th>\n",
       "      <td>0</td>\n",
       "      <td>0</td>\n",
       "      <td>0</td>\n",
       "      <td>0</td>\n",
       "      <td>0</td>\n",
       "      <td>0</td>\n",
       "      <td>0</td>\n",
       "      <td>0</td>\n",
       "      <td>0</td>\n",
       "      <td>0</td>\n",
       "      <td>...</td>\n",
       "      <td>0</td>\n",
       "      <td>0</td>\n",
       "      <td>0</td>\n",
       "      <td>0</td>\n",
       "      <td>0</td>\n",
       "      <td>0</td>\n",
       "      <td>0</td>\n",
       "      <td>0</td>\n",
       "      <td>0</td>\n",
       "      <td>0</td>\n",
       "    </tr>\n",
       "    <tr>\n",
       "      <th>55656</th>\n",
       "      <td>0</td>\n",
       "      <td>0</td>\n",
       "      <td>0</td>\n",
       "      <td>0</td>\n",
       "      <td>0</td>\n",
       "      <td>0</td>\n",
       "      <td>0</td>\n",
       "      <td>0</td>\n",
       "      <td>0</td>\n",
       "      <td>0</td>\n",
       "      <td>...</td>\n",
       "      <td>0</td>\n",
       "      <td>0</td>\n",
       "      <td>0</td>\n",
       "      <td>0</td>\n",
       "      <td>0</td>\n",
       "      <td>0</td>\n",
       "      <td>0</td>\n",
       "      <td>0</td>\n",
       "      <td>0</td>\n",
       "      <td>0</td>\n",
       "    </tr>\n",
       "    <tr>\n",
       "      <th>55657</th>\n",
       "      <td>0</td>\n",
       "      <td>0</td>\n",
       "      <td>0</td>\n",
       "      <td>0</td>\n",
       "      <td>0</td>\n",
       "      <td>0</td>\n",
       "      <td>0</td>\n",
       "      <td>0</td>\n",
       "      <td>0</td>\n",
       "      <td>0</td>\n",
       "      <td>...</td>\n",
       "      <td>0</td>\n",
       "      <td>0</td>\n",
       "      <td>0</td>\n",
       "      <td>0</td>\n",
       "      <td>0</td>\n",
       "      <td>0</td>\n",
       "      <td>0</td>\n",
       "      <td>0</td>\n",
       "      <td>0</td>\n",
       "      <td>0</td>\n",
       "    </tr>\n",
       "    <tr>\n",
       "      <th>55658</th>\n",
       "      <td>0</td>\n",
       "      <td>0</td>\n",
       "      <td>0</td>\n",
       "      <td>0</td>\n",
       "      <td>0</td>\n",
       "      <td>0</td>\n",
       "      <td>0</td>\n",
       "      <td>0</td>\n",
       "      <td>0</td>\n",
       "      <td>0</td>\n",
       "      <td>...</td>\n",
       "      <td>0</td>\n",
       "      <td>0</td>\n",
       "      <td>0</td>\n",
       "      <td>0</td>\n",
       "      <td>0</td>\n",
       "      <td>0</td>\n",
       "      <td>0</td>\n",
       "      <td>0</td>\n",
       "      <td>0</td>\n",
       "      <td>0</td>\n",
       "    </tr>\n",
       "  </tbody>\n",
       "</table>\n",
       "<p>5 rows × 110 columns</p>\n",
       "</div>"
      ],
      "text/plain": [
       "       Adept  Archon  Baneling  Banshee  Battlecruiser  BroodLord  Carrier  \\\n",
       "55654  0      0       0         0        0              0          0         \n",
       "55655  0      0       0         0        0              0          0         \n",
       "55656  0      0       0         0        0              0          0         \n",
       "55657  0      0       0         0        0              0          0         \n",
       "55658  0      0       0         0        0              0          0         \n",
       "\n",
       "       Colossus  Corruptor  Cyclone  ...  Tempest  Thor  Ultralisk  Viking  \\\n",
       "55654  0         0          0        ...  0        0     0          0        \n",
       "55655  0         0          0        ...  0        0     0          0        \n",
       "55656  0         0          0        ...  0        0     0          0        \n",
       "55657  0         0          0        ...  0        0     0          0        \n",
       "55658  0         0          0        ...  0        0     0          0        \n",
       "\n",
       "       Viper  VoidRay  WarpPrism  WidowMine  Zealot  Zergling  \n",
       "55654  0      0        0          0          0       0         \n",
       "55655  0      0        0          0          0       0         \n",
       "55656  0      0        0          0          0       0         \n",
       "55657  0      0        0          0          0       0         \n",
       "55658  0      0        0          0          0       0         \n",
       "\n",
       "[5 rows x 110 columns]"
      ]
     },
     "execution_count": 88,
     "metadata": {},
     "output_type": "execute_result"
    }
   ],
   "source": [
    "ret_raw = pd.DataFrame(merged_unit_ftr, index=game_id_idx)\n",
    "ret_raw.columns = unit_cols + unit_cols\n",
    "ret_raw.head()"
   ]
  },
  {
   "cell_type": "code",
   "execution_count": 90,
   "metadata": {},
   "outputs": [],
   "source": [
    "ret_raw = ret_raw.reset_index().rename(columns={'index':'game_id'})\n",
    "ret_raw.to_csv('./data/unit_select_raw_test.csv', index=False)"
   ]
  },
  {
   "cell_type": "code",
   "execution_count": null,
   "metadata": {},
   "outputs": [],
   "source": []
  },
  {
   "cell_type": "code",
   "execution_count": null,
   "metadata": {},
   "outputs": [],
   "source": []
  },
  {
   "cell_type": "code",
   "execution_count": null,
   "metadata": {},
   "outputs": [],
   "source": []
  },
  {
   "cell_type": "code",
   "execution_count": null,
   "metadata": {},
   "outputs": [],
   "source": []
  },
  {
   "cell_type": "code",
   "execution_count": null,
   "metadata": {},
   "outputs": [],
   "source": []
  },
  {
   "cell_type": "code",
   "execution_count": null,
   "metadata": {},
   "outputs": [],
   "source": []
  }
 ],
 "metadata": {
  "kernelspec": {
   "display_name": "Python 3",
   "language": "python",
   "name": "python3"
  },
  "language_info": {
   "codemirror_mode": {
    "name": "ipython",
    "version": 3
   },
   "file_extension": ".py",
   "mimetype": "text/x-python",
   "name": "python",
   "nbconvert_exporter": "python",
   "pygments_lexer": "ipython3",
   "version": "3.7.4"
  }
 },
 "nbformat": 4,
 "nbformat_minor": 2
}
