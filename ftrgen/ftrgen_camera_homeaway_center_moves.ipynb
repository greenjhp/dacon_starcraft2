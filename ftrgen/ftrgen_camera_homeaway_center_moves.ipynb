{
 "cells": [
  {
   "cell_type": "markdown",
   "metadata": {},
   "source": [
    "## units only ftrs : camera remote/local (eg. away/home) center moves"
   ]
  },
  {
   "cell_type": "markdown",
   "metadata": {},
   "source": [
    "#### Taehwan jeong (xikizima@hotmail.com)"
   ]
  },
  {
   "cell_type": "markdown",
   "metadata": {},
   "source": [
    "### 공통(Common)"
   ]
  },
  {
   "cell_type": "code",
   "execution_count": 1,
   "metadata": {},
   "outputs": [],
   "source": [
    "import pickle, datetime\n",
    "import pandas as pd\n",
    "import numpy as np\n",
    "pd.options.display.max_rows=1000\n",
    "pd.options.display.max_colwidth = -1\n",
    "\n",
    "from collections import Counter\n",
    "\n",
    "from matplotlib import pyplot as plt"
   ]
  },
  {
   "cell_type": "code",
   "execution_count": 2,
   "metadata": {},
   "outputs": [],
   "source": [
    "# 정규식\n",
    "import re\n",
    "cmp = re.compile('(?:Target:\\s([A-Za-z]*)\\s\\[([0-9A-Z]*)\\][\\s;]*)?Location:\\s\\(([0-9]*)[.0-9]*,\\s([0-9]*)[.0-9]*.*?\\)')\n",
    "coors = re.compile('(?:Location:|at)\\s\\(([0-9]*)[.0-9]*,\\s([0-9]*)[.0-9]*.*?\\)')\n",
    "units = re.compile('([0-9A-Za-z]*)\\s\\[([0-9A-Z]*)\\]')"
   ]
  },
  {
   "cell_type": "markdown",
   "metadata": {},
   "source": [
    "### 학습용 (Train)"
   ]
  },
  {
   "cell_type": "raw",
   "metadata": {},
   "source": [
    "unit_info = pd.read_csv('./data/unit_info_data.csv')\n",
    "whole_unit_set = set(unit_info['unit'])\n",
    "unit_set = unit_info.groupby('species')['unit'].apply(set).to_dict()"
   ]
  },
  {
   "cell_type": "code",
   "execution_count": 3,
   "metadata": {},
   "outputs": [],
   "source": [
    "def build_camera_center_moves_ftr(df, idx):\n",
    "    df = df[(df['game_id'] < (idx*1000)+1000) & (df['game_id'] >= (idx*1000))]\n",
    "    df = df[df['event'].isin(['Camera', 'Right Click'])]\n",
    "\n",
    "    arr_coors = df['event_contents'].map(coors.findall).map(lambda x: x[0]).apply(pd.Series)\n",
    "    arr_coors.columns = ['x', 'y']\n",
    "    arr_coors['x'] = arr_coors['x'].astype('int')\n",
    "    arr_coors['y'] = arr_coors['y'].astype('int')\n",
    "    df = pd.concat([df, arr_coors], axis=1)\n",
    "\n",
    "    df.loc[:, 'slice'] = (df['time'] // 1).astype(int)\n",
    "    df = df[df['slice'] < 10]\n",
    "\n",
    "    center_player = df.groupby(by=['game_id', 'player']).first()[['x', 'y']]\n",
    "\n",
    "    df = df.groupby(by=['game_id', 'player','slice'])[['x', 'y']].mean().reset_index()\n",
    "    df = pd.merge(df, center_player, left_on=['game_id', 'player'], right_index=True, suffixes=['', '_center'])\n",
    "    df['dist_from_base'] = np.sqrt((df['x'] - df['x_center']) ** 2 + (df['y'] - df['y_center']) ** 2)\n",
    "\n",
    "    center_moves_p0 = df[df['player'] == 0].set_index(['game_id', 'player', 'slice'])['dist_from_base'].unstack('slice')\n",
    "    center_moves_p0.columns = [f'p0_center_{idx}' for idx in center_moves_p0.columns]\n",
    "    center_moves_p0 = center_moves_p0.droplevel(1).reset_index()\n",
    "    center_moves_p1 = df[df['player'] == 1].set_index(['game_id', 'player', 'slice'])['dist_from_base'].unstack('slice')\n",
    "    center_moves_p1.columns = [f'p1_center_{idx}' for idx in center_moves_p1.columns]\n",
    "    center_moves_p1 = center_moves_p1.droplevel(1).reset_index()\n",
    "    ret = pd.merge(center_moves_p0, center_moves_p1, on='game_id').fillna(0.0)\n",
    "    return ret"
   ]
  },
  {
   "cell_type": "code",
   "execution_count": 4,
   "metadata": {},
   "outputs": [
    {
     "name": "stdout",
     "output_type": "stream",
     "text": [
      "[0] 247.0 secs\n",
      "[1] 241.0 secs\n",
      "[2] 252.0 secs\n",
      "[3] 238.0 secs\n",
      "[4] 241.0 secs\n",
      "[5] 241.0 secs\n",
      "[6] 240.0 secs\n",
      "[7] 246.0 secs\n",
      "[8] 245.0 secs\n",
      "[9] 243.0 secs\n",
      "[10] 241.0 secs\n",
      "[11] 242.0 secs\n",
      "[12] 244.0 secs\n",
      "[13] 240.0 secs\n",
      "[14] 242.0 secs\n",
      "[15] 238.0 secs\n",
      "[16] 242.0 secs\n",
      "[17] 246.0 secs\n",
      "[18] 237.0 secs\n",
      "[19] 240.0 secs\n",
      "[20] 247.0 secs\n",
      "[21] 248.0 secs\n",
      "[22] 245.0 secs\n",
      "[23] 242.0 secs\n",
      "[24] 244.0 secs\n",
      "[25] 240.0 secs\n",
      "[26] 248.0 secs\n",
      "[27] 239.0 secs\n",
      "[28] 242.0 secs\n",
      "[29] 244.0 secs\n",
      "[30] 246.0 secs\n",
      "[31] 246.0 secs\n",
      "[32] 243.0 secs\n",
      "[33] 242.0 secs\n",
      "[34] 248.0 secs\n",
      "[35] 242.0 secs\n",
      "[36] 247.0 secs\n",
      "[37] 255.0 secs\n",
      "[38] 209.0 secs\n"
     ]
    }
   ],
   "source": [
    "df = pd.read_csv('./data/train.csv') #, nrows=4000000)\n",
    "for idx in range(39):\n",
    "    t1 = datetime.datetime.now()\n",
    "    ret = build_camera_center_moves_ftr(df, idx)\n",
    "    ret.to_csv('./data/camera_center_moves_train.csv', mode='a' if idx > 0 else 'w', index=False, header=None if idx > 0 else True)\n",
    "    print(f'[{idx}] {(datetime.datetime.now() - t1).seconds:.1f} secs')"
   ]
  },
  {
   "cell_type": "markdown",
   "metadata": {},
   "source": [
    "### 검증용 (Test)"
   ]
  },
  {
   "cell_type": "code",
   "execution_count": 5,
   "metadata": {},
   "outputs": [
    {
     "name": "stdout",
     "output_type": "stream",
     "text": [
      "[38] 32.0 secs\n",
      "[39] 240.0 secs\n",
      "[40] 236.0 secs\n",
      "[41] 236.0 secs\n",
      "[42] 232.0 secs\n",
      "[43] 234.0 secs\n",
      "[44] 231.0 secs\n",
      "[45] 233.0 secs\n",
      "[46] 237.0 secs\n",
      "[47] 244.0 secs\n",
      "[48] 232.0 secs\n",
      "[49] 228.0 secs\n",
      "[50] 236.0 secs\n",
      "[51] 239.0 secs\n",
      "[52] 242.0 secs\n",
      "[53] 234.0 secs\n",
      "[54] 238.0 secs\n",
      "[55] 159.0 secs\n"
     ]
    }
   ],
   "source": [
    "df = pd.read_csv('./data/test.csv')\n",
    "START_IDX = 38\n",
    "for idx in range(START_IDX, 56):\n",
    "    t1 = datetime.datetime.now()\n",
    "    ret = build_camera_center_moves_ftr(df, idx)\n",
    "    ret.to_csv('./data/camera_center_moves_test.csv', mode='a' if idx > START_IDX else 'w', index=False, header=None if idx > START_IDX else True)\n",
    "    print(f'[{idx}] {(datetime.datetime.now() - t1).seconds:.1f} secs')"
   ]
  },
  {
   "cell_type": "code",
   "execution_count": null,
   "metadata": {},
   "outputs": [],
   "source": []
  },
  {
   "cell_type": "code",
   "execution_count": null,
   "metadata": {},
   "outputs": [],
   "source": []
  }
 ],
 "metadata": {
  "kernelspec": {
   "display_name": "Python 3",
   "language": "python",
   "name": "python3"
  },
  "language_info": {
   "codemirror_mode": {
    "name": "ipython",
    "version": 3
   },
   "file_extension": ".py",
   "mimetype": "text/x-python",
   "name": "python",
   "nbconvert_exporter": "python",
   "pygments_lexer": "ipython3",
   "version": "3.6.9"
  }
 },
 "nbformat": 4,
 "nbformat_minor": 2
}
