{
 "cells": [
  {
   "cell_type": "markdown",
   "metadata": {},
   "source": [
    "## camera ftrs : camera moving range per minutes"
   ]
  },
  {
   "cell_type": "markdown",
   "metadata": {},
   "source": [
    "#### Taehwan jeong (xikizima@hotmail.com)"
   ]
  },
  {
   "cell_type": "markdown",
   "metadata": {},
   "source": [
    "### 공통 (Common)"
   ]
  },
  {
   "cell_type": "code",
   "execution_count": 1,
   "metadata": {},
   "outputs": [],
   "source": [
    "import pickle, datetime\n",
    "import pandas as pd\n",
    "import numpy as np\n",
    "pd.options.display.max_rows=1000\n",
    "pd.options.display.max_colwidth = -1\n",
    "\n",
    "from collections import Counter\n",
    "\n",
    "from matplotlib import pyplot as plt"
   ]
  },
  {
   "cell_type": "code",
   "execution_count": 2,
   "metadata": {},
   "outputs": [],
   "source": [
    "# 정규식\n",
    "import re\n",
    "cmp = re.compile('(?:Target:\\s([A-Za-z]*)\\s\\[([0-9A-Z]*)\\][\\s;]*)?Location:\\s\\(([0-9]*)[.0-9]*,\\s([0-9]*)[.0-9]*.*?\\)')\n",
    "coors = re.compile('(?:Location:|at)\\s\\(([0-9]*)[.0-9]*,\\s([0-9]*)[.0-9]*.*?\\)')\n",
    "units = re.compile('([0-9A-Za-z]*)\\s\\[([0-9A-Z]*)\\]')"
   ]
  },
  {
   "cell_type": "markdown",
   "metadata": {},
   "source": [
    "### 학습용 (Train)"
   ]
  },
  {
   "cell_type": "raw",
   "metadata": {},
   "source": [
    "unit_info = pd.read_csv('./data/unit_info_data.csv')\n",
    "whole_unit_set = set(unit_info['unit'])\n",
    "unit_set = unit_info.groupby('species')['unit'].apply(set).to_dict()"
   ]
  },
  {
   "cell_type": "code",
   "execution_count": 59,
   "metadata": {},
   "outputs": [],
   "source": [
    "def build_camera_moving_stats_ftr(df, idx):\n",
    "    df = df[(df['game_id'] < (idx*1000)+1000) & (df['game_id'] >= (idx*1000))]\n",
    "    df = df[df['event'].isin(['Camera', 'Right Click'])]\n",
    "\n",
    "    arr_coors = df['event_contents'].map(coors.findall).map(lambda x: x[0]).apply(pd.Series)\n",
    "    arr_coors.columns = ['x', 'y']\n",
    "    arr_coors['x'] = arr_coors['x'].astype('int')\n",
    "    arr_coors['y'] = arr_coors['y'].astype('int')\n",
    "    df = pd.concat([df, arr_coors], axis=1)\n",
    "\n",
    "    df.loc[:, 'slice'] = (df['time'] // 1).astype(int)\n",
    "    df = df[df['slice'] < 10]\n",
    "\n",
    "    df['x_prev'] = df.groupby(by=['game_id', 'player'])['x'].shift()\n",
    "    df['y_prev'] = df.groupby(by=['game_id', 'player'])['y'].shift()\n",
    "    df = df[(~df['x_prev'].isna()) & (~df['y_prev'].isna())]\n",
    "    df['dist_each'] = np.sqrt((df['x_prev'] - df['x']) ** 2 + (df['y_prev'] - df['y']) ** 2)\n",
    "    movings_std = df.groupby(by=['game_id', 'player'])['dist_each'].agg(['mean', 'std']).unstack()\n",
    "    movings_std.columns = ['p0_moving_mean', 'p1_moving_mean', 'p0_moving_std', 'p1_moving_std']\n",
    "    movings_std = movings_std.reset_index()\n",
    "    movings_per_slice = df.groupby(by=['game_id', 'player','slice'])['dist_each'].agg(['mean', 'std']).unstack(level=1)\n",
    "    movings_per_slice = movings_per_slice.unstack()\n",
    "    movings_per_slice.columns = [f'cam_moving_p{x[1]}_{x[0]}{x[2]}' for x in movings_.columns]\n",
    "    movings_per_slice = movings_per_slice.reset_index()\n",
    "    ret = pd.merge(movings_std, movings_per_slice, on='game_id')\n",
    "    return ret"
   ]
  },
  {
   "cell_type": "code",
   "execution_count": 60,
   "metadata": {},
   "outputs": [
    {
     "name": "stdout",
     "output_type": "stream",
     "text": [
      "[0] 255.0 secs\n",
      "[1] 242.0 secs\n",
      "[2] 253.0 secs\n",
      "[3] 243.0 secs\n",
      "[4] 244.0 secs\n",
      "[5] 242.0 secs\n",
      "[6] 249.0 secs\n",
      "[7] 250.0 secs\n",
      "[8] 254.0 secs\n",
      "[9] 250.0 secs\n",
      "[10] 252.0 secs\n",
      "[11] 249.0 secs\n",
      "[12] 249.0 secs\n",
      "[13] 248.0 secs\n",
      "[14] 250.0 secs\n",
      "[15] 244.0 secs\n",
      "[16] 249.0 secs\n",
      "[17] 249.0 secs\n",
      "[18] 240.0 secs\n",
      "[19] 245.0 secs\n",
      "[20] 252.0 secs\n",
      "[21] 267.0 secs\n",
      "[22] 251.0 secs\n",
      "[23] 249.0 secs\n",
      "[24] 252.0 secs\n",
      "[25] 246.0 secs\n",
      "[26] 245.0 secs\n",
      "[27] 240.0 secs\n",
      "[28] 248.0 secs\n",
      "[29] 250.0 secs\n",
      "[30] 248.0 secs\n",
      "[31] 251.0 secs\n",
      "[32] 248.0 secs\n",
      "[33] 249.0 secs\n",
      "[34] 260.0 secs\n",
      "[35] 245.0 secs\n",
      "[36] 248.0 secs\n",
      "[37] 254.0 secs\n",
      "[38] 218.0 secs\n"
     ]
    }
   ],
   "source": [
    "df = pd.read_csv('./data/train.csv') #, nrows=4000000)\n",
    "for idx in range(39):\n",
    "    t1 = datetime.datetime.now()\n",
    "    ret = build_camera_moving_stats_ftr(df, idx)\n",
    "    ret.to_csv('./data/camera_moving_stats_train.csv', mode='a' if idx > 0 else 'w', index=False, header=None if idx > 0 else True)\n",
    "    print(f'[{idx}] {(datetime.datetime.now() - t1).seconds:.1f} secs')"
   ]
  },
  {
   "cell_type": "markdown",
   "metadata": {},
   "source": [
    "### 예측용 (Test)"
   ]
  },
  {
   "cell_type": "code",
   "execution_count": 61,
   "metadata": {},
   "outputs": [
    {
     "name": "stdout",
     "output_type": "stream",
     "text": [
      "[38] 33.0 secs\n",
      "[39] 243.0 secs\n",
      "[40] 237.0 secs\n",
      "[41] 235.0 secs\n",
      "[42] 232.0 secs\n",
      "[43] 236.0 secs\n",
      "[44] 234.0 secs\n",
      "[45] 235.0 secs\n",
      "[46] 238.0 secs\n",
      "[47] 243.0 secs\n",
      "[48] 232.0 secs\n",
      "[49] 229.0 secs\n",
      "[50] 237.0 secs\n",
      "[51] 239.0 secs\n",
      "[52] 241.0 secs\n",
      "[53] 234.0 secs\n",
      "[54] 240.0 secs\n",
      "[55] 159.0 secs\n"
     ]
    }
   ],
   "source": [
    "df = pd.read_csv('./data/test.csv')\n",
    "START_IDX = 38\n",
    "for idx in range(START_IDX, 56):\n",
    "    t1 = datetime.datetime.now()\n",
    "    ret = build_camera_moving_stats_ftr(df, idx)\n",
    "    ret.to_csv('./data/camera_moving_stats_test.csv', mode='a' if idx > START_IDX else 'w', index=False, header=None if idx > START_IDX else True)\n",
    "    print(f'[{idx}] {(datetime.datetime.now() - t1).seconds:.1f} secs')"
   ]
  },
  {
   "cell_type": "code",
   "execution_count": null,
   "metadata": {},
   "outputs": [],
   "source": []
  },
  {
   "cell_type": "code",
   "execution_count": null,
   "metadata": {},
   "outputs": [],
   "source": []
  }
 ],
 "metadata": {
  "kernelspec": {
   "display_name": "Python 3",
   "language": "python",
   "name": "python3"
  },
  "language_info": {
   "codemirror_mode": {
    "name": "ipython",
    "version": 3
   },
   "file_extension": ".py",
   "mimetype": "text/x-python",
   "name": "python",
   "nbconvert_exporter": "python",
   "pygments_lexer": "ipython3",
   "version": "3.6.9"
  }
 },
 "nbformat": 4,
 "nbformat_minor": 2
}
