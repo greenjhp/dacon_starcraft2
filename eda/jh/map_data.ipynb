{
 "cells": [
  {
   "cell_type": "markdown",
   "metadata": {},
   "source": [
    "# map data"
   ]
  },
  {
   "cell_type": "code",
   "execution_count": 1,
   "metadata": {},
   "outputs": [],
   "source": [
    "import pandas as pd\n",
    "import numpy as np\n",
    "import seaborn as sns\n",
    "import matplotlib.pyplot as plt\n",
    "from sklearn.cluster import KMeans\n",
    "\n",
    "import warnings                             \n",
    "warnings.filterwarnings(\"ignore\")"
   ]
  },
  {
   "cell_type": "code",
   "execution_count": 2,
   "metadata": {},
   "outputs": [
    {
     "name": "stdout",
     "output_type": "stream",
     "text": [
      "CPU times: user 49.1 s, sys: 30.5 s, total: 1min 19s\n",
      "Wall time: 2min 25s\n"
     ]
    }
   ],
   "source": [
    "%%time\n",
    "train = pd.read_csv('data2/train.csv')"
   ]
  },
  {
   "cell_type": "code",
   "execution_count": 4,
   "metadata": {},
   "outputs": [],
   "source": [
    "train = train.drop(['winner'], axis='columns')"
   ]
  },
  {
   "cell_type": "code",
   "execution_count": 3,
   "metadata": {},
   "outputs": [
    {
     "name": "stdout",
     "output_type": "stream",
     "text": [
      "CPU times: user 20.3 s, sys: 10.1 s, total: 30.4 s\n",
      "Wall time: 1min 2s\n"
     ]
    }
   ],
   "source": [
    "%%time\n",
    "test = pd.read_csv('data2/test.csv')"
   ]
  },
  {
   "cell_type": "code",
   "execution_count": 5,
   "metadata": {},
   "outputs": [],
   "source": [
    "total = train.append(test)"
   ]
  },
  {
   "cell_type": "code",
   "execution_count": 10,
   "metadata": {},
   "outputs": [],
   "source": [
    "df_total = pd.DataFrame(total.game_id.unique(), columns=['game_id'])\n",
    "df_total.index = df_total.game_id\n",
    "df_total = df_total.drop(['game_id'], axis = 1)"
   ]
  },
  {
   "cell_type": "code",
   "execution_count": 13,
   "metadata": {},
   "outputs": [
    {
     "name": "stdout",
     "output_type": "stream",
     "text": [
      "CPU times: user 22.7 s, sys: 59.6 s, total: 1min 22s\n",
      "Wall time: 5min 58s\n"
     ]
    }
   ],
   "source": [
    "%%time\n",
    "# 처음 기록 된 카메라 좌표를 기록\n",
    "\n",
    "df_total_p0 = total[(total.event=='Camera')&(total.player==0)]\n",
    "df_total_p0 = df_total_p0[df_total_p0.shift(1).game_id!=df_total_p0.game_id] # 쉬프트를 이용하여 각 게임의 첫번째 데이터 찾기\n",
    "df_total_p0 = df_total_p0.iloc[:, [0,5]].rename({'event_contents':'player0_starting'}, axis = 1)\n",
    "df_total_p0.index = df_total_p0['game_id']\n",
    "df_total_p0 = df_total_p0.drop(['game_id'], axis=1)\n",
    "df_total = pd.merge(df_total, df_total_p0, on='game_id', how='left')\n",
    "del df_total_p0\n",
    "\n",
    "df_total_p1 = total[(total.event=='Camera')&(total.player==1)]\n",
    "df_total_p1 = df_total_p1[df_total_p1.shift(1).game_id!=df_total_p1.game_id]\n",
    "df_total_p1 = df_total_p1.iloc[:, [0,5]].rename({'event_contents':'player1_starting'}, axis = 1)\n",
    "df_total_p1.index = df_total_p1['game_id']\n",
    "df_total_p1 = df_total_p1.drop(['game_id'], axis=1)\n",
    "df_total = pd.merge(df_total, df_total_p1, on='game_id', how='left')\n",
    "del df_total_p1"
   ]
  },
  {
   "cell_type": "code",
   "execution_count": 15,
   "metadata": {},
   "outputs": [],
   "source": [
    "# x, y 값으로 분리\n",
    "\n",
    "df_total['player0_starting'] = df_total.player0_starting.str.split('(').str[1]\n",
    "df_total['player0_starting'] = df_total.player0_starting.str.split(')').str[0]\n",
    "split_xy = df_total.player0_starting.str.split(',')\n",
    "df_total['player0_x'] = split_xy.str[0].astype('float')\n",
    "df_total['player0_y'] = split_xy.str[1].astype('float')\n",
    "del split_xy\n",
    "\n",
    "df_total['player1_starting'] = df_total.player1_starting.str.split('(').str[1]\n",
    "df_total['player1_starting'] = df_total.player1_starting.str.split(')').str[0]\n",
    "split_xy = df_total.player1_starting.str.split(',')\n",
    "df_total['player1_x'] = split_xy.str[0].astype('float')\n",
    "df_total['player1_y'] = split_xy.str[1].astype('float')\n",
    "del split_xy"
   ]
  },
  {
   "cell_type": "code",
   "execution_count": 16,
   "metadata": {},
   "outputs": [],
   "source": [
    "# 플레이어의 x,y 좌표를 하나로 모음\n",
    "\n",
    "location_p0 = df_total.loc[:, ['player0_x', 'player0_y']]\n",
    "location_p0 = location_p0.rename({'player0_x':'location_x', 'player0_y':'location_y'}, axis=1)\n",
    "\n",
    "location_p1 = df_total.loc[:, ['player1_x', 'player1_y']]\n",
    "location_p1 = location_p1.rename({'player1_x':'location_x', 'player1_y':'location_y'}, axis=1)\n",
    "location_p1.index += location_p0.index[-1]+1\n",
    "\n",
    "location = pd.concat([location_p0, location_p1])\n",
    "location = location.dropna()\n",
    "del location_p0, location_p1"
   ]
  },
  {
   "cell_type": "code",
   "execution_count": 17,
   "metadata": {},
   "outputs": [],
   "source": [
    "# # 모든 포인트 시각화\n",
    "# sns.lmplot('location_x', 'location_y', data = location, fit_reg=False)\n",
    "# plt.title('starting point')\n",
    "# plt.show()"
   ]
  },
  {
   "cell_type": "code",
   "execution_count": 18,
   "metadata": {},
   "outputs": [],
   "source": [
    "# # 스타팅 컬럼을 카운팅을 해보면 15개의 포인트가 많음\n",
    "# # 15개의 스타팅포인트 존재\n",
    "# df_train.player0_starting.value_counts().head(20)"
   ]
  },
  {
   "cell_type": "code",
   "execution_count": 19,
   "metadata": {},
   "outputs": [],
   "source": [
    "# kmeans를 이용하여 15개로 클러스터링\n",
    "kmeans_clst = KMeans(n_clusters=15).fit(location)\n",
    "location['starting'] = kmeans_clst.labels_+1"
   ]
  },
  {
   "cell_type": "code",
   "execution_count": 20,
   "metadata": {},
   "outputs": [],
   "source": [
    "# location.head()"
   ]
  },
  {
   "cell_type": "code",
   "execution_count": 21,
   "metadata": {},
   "outputs": [],
   "source": [
    "# # 클러스트링한 결과를 시각화\n",
    "# sns.lmplot('location_x', 'location_y', data = location, fit_reg=False, hue=\"starting\")\n",
    "# plt.title('starting point')\n",
    "# plt.show()\n",
    "\n",
    "# # 초반 진행 화면이 누락 된 게임은 엉뚱하게 분류 됨"
   ]
  },
  {
   "cell_type": "code",
   "execution_count": 22,
   "metadata": {},
   "outputs": [],
   "source": [
    "# kmeans로 찾은 15개의 포인트에서 각 데이터들의 거리 계산\n",
    "for cluster in range(15):\n",
    "    point = location[location.starting==cluster+1]\n",
    "    loc = point.loc[:,['location_x', 'location_y']]\n",
    "    del point\n",
    "    loc['center_x'] = kmeans_clst.cluster_centers_[cluster][0]\n",
    "    loc['center_y'] = kmeans_clst.cluster_centers_[cluster][1]\n",
    "    distance = np.sqrt(np. square(loc.location_x - loc.center_x) + np.square(loc.location_y - loc.center_y))\n",
    "    location.loc[loc.index, 'distance'] = distance\n",
    "    del loc"
   ]
  },
  {
   "cell_type": "code",
   "execution_count": 23,
   "metadata": {},
   "outputs": [],
   "source": [
    "# 일정 거리(5)이상 떨어진 데이터는 starting을 0으로 지정\n",
    "idx = location[location.distance>5].index\n",
    "location.loc[idx, 'starting'] = 0\n",
    "del idx"
   ]
  },
  {
   "cell_type": "code",
   "execution_count": 24,
   "metadata": {},
   "outputs": [],
   "source": [
    "# # 시각화를 통해 스타팅을 모르는 게임은 분홍색(0)으로 나타며 15개의 스타팅 포인트를 확인 할 수 있음.\n",
    "# sns.lmplot('location_x', 'location_y', data = location, fit_reg=False, hue=\"starting\")\n",
    "# plt.title('starting point')\n",
    "# plt.show()"
   ]
  },
  {
   "cell_type": "code",
   "execution_count": 25,
   "metadata": {},
   "outputs": [],
   "source": [
    "# df_train.head()"
   ]
  },
  {
   "cell_type": "code",
   "execution_count": 26,
   "metadata": {},
   "outputs": [],
   "source": [
    "df_total_temp = df_total.reset_index()[['game_id', 'player0_starting', 'player1_starting']]\n",
    "\n",
    "location['xy'] = location.apply(lambda x: str(x.location_x) + ', ' + str(x.location_y), axis='columns')\n",
    "\n",
    "location_temp = location.reset_index()[['game_id', 'xy', 'starting']]\n",
    "\n",
    "ttt = df_total_temp.merge(location_temp, how='left', on='game_id' )\n",
    "\n",
    "location.index -= df_total.index[-1]+1\n",
    "\n",
    "location_temp_2 = location.reset_index()[['game_id', 'xy', 'starting']]\n",
    "\n",
    "ttt_2 = df_total_temp.merge(location_temp_2, how='left', on='game_id' )\n",
    "\n",
    "ttt_3 = ttt.merge(ttt_2[['game_id','starting']], how='left', on='game_id')\n",
    "\n",
    "ttt_3 = ttt_3.drop(['player0_starting','player1_starting','xy'], axis='columns')\n",
    "\n",
    "ttt_3 = ttt_3.set_index('game_id')\n",
    "\n",
    "ttt_3 = ttt_3.rename({'starting_x':'player0_starting', 'starting_y':'player1_starting'}, axis='columns')\n",
    "\n",
    "ttt_3 = ttt_3.fillna(0)\n",
    "\n",
    "df_total = ttt_3"
   ]
  },
  {
   "cell_type": "code",
   "execution_count": 27,
   "metadata": {},
   "outputs": [],
   "source": [
    "# 스타팅 포인트를 이용하여 맵 분류\n",
    "map_list = []\n",
    "for point in range(1,16):\n",
    "    couple = df_total[df_total.player0_starting == point].player1_starting.value_counts()\n",
    "    if couple[couple.index[1]]<100:\n",
    "        map_list.append([point, couple.index[0], 999])\n",
    "    else:\n",
    "        map_list.append([point, couple.index[0], couple.index[1]])\n",
    "map_list = np.sort(map_list, axis = 1)\n",
    "map_list = np.unique(map_list, axis = 0)"
   ]
  },
  {
   "cell_type": "code",
   "execution_count": 28,
   "metadata": {},
   "outputs": [
    {
     "data": {
      "text/plain": [
       "array([[  1.,   5.,  14.],\n",
       "       [  2.,  10., 999.],\n",
       "       [  3.,   7., 999.],\n",
       "       [  4.,   8., 999.],\n",
       "       [  6.,  15., 999.],\n",
       "       [  9.,  11., 999.],\n",
       "       [ 12.,  13., 999.]])"
      ]
     },
     "execution_count": 28,
     "metadata": {},
     "output_type": "execute_result"
    }
   ],
   "source": [
    "# 6개의 2인용 맵과 1개의 3인용 맵이 존재\n",
    "\n",
    "# TMI: 스타크래프트2 공허의유산 래더에서 3인용 맵이 쓰인적은 '까탈레나' 딱 한 번.\n",
    "# 이를 통해 2017년 7월20일 ~ 2017년 11월16일 사이에 진행 된 게임 정보라는 것을 알 수 있음.\n",
    "# 나머지 6개의 맵은 '어비설리프', '어센션투아이어', '애컬라이트', '인터로퍼', '오딧세이', '메크디포'\n",
    "# 근데 결과 예측하는데 맵 이름 상관 없음\n",
    "map_list"
   ]
  },
  {
   "cell_type": "code",
   "execution_count": 29,
   "metadata": {},
   "outputs": [
    {
     "data": {
      "text/plain": [
       "360"
      ]
     },
     "execution_count": 29,
     "metadata": {},
     "output_type": "execute_result"
    }
   ],
   "source": [
    "# 스타팅을 모르는 게임 수 확인.\n",
    "len(df_total[(df_total.player0_starting == 0)|(df_total.player1_starting == 0)])"
   ]
  },
  {
   "cell_type": "code",
   "execution_count": 30,
   "metadata": {},
   "outputs": [],
   "source": [
    "# map_list와 상대편 위치 정보를 이용하여 모르는 스타팅 찾기\n",
    "for m in map_list:\n",
    "    idx = df_total[(df_total.player0_starting == 0)&((df_total.player1_starting == m[0])|(df_total.player1_starting == m[2]))].index\n",
    "    df_total.loc[idx, 'player0_starting'] = m[1]\n",
    "    del idx\n",
    "    idx = df_total[(df_total.player0_starting == 0)&((df_total.player1_starting == m[1])|(df_total.player1_starting == m[2]))].index\n",
    "    df_total.loc[idx, 'player0_starting'] = m[0]\n",
    "    del idx\n",
    "    \n",
    "    idx = df_total[(df_total.player1_starting == 0)&((df_total.player0_starting == m[0])|(df_total.player0_starting == m[2]))].index\n",
    "    df_total.loc[idx, 'player1_starting'] = m[1]\n",
    "    del idx\n",
    "    idx = df_total[(df_total.player1_starting == 0)&((df_total.player0_starting == m[1])|(df_total.player0_starting == m[2]))].index\n",
    "    df_total.loc[idx, 'player1_starting'] = m[0]\n",
    "    del idx"
   ]
  },
  {
   "cell_type": "code",
   "execution_count": 31,
   "metadata": {},
   "outputs": [
    {
     "data": {
      "text/html": [
       "<div>\n",
       "<style scoped>\n",
       "    .dataframe tbody tr th:only-of-type {\n",
       "        vertical-align: middle;\n",
       "    }\n",
       "\n",
       "    .dataframe tbody tr th {\n",
       "        vertical-align: top;\n",
       "    }\n",
       "\n",
       "    .dataframe thead th {\n",
       "        text-align: right;\n",
       "    }\n",
       "</style>\n",
       "<table border=\"1\" class=\"dataframe\">\n",
       "  <thead>\n",
       "    <tr style=\"text-align: right;\">\n",
       "      <th></th>\n",
       "      <th>player0_starting</th>\n",
       "      <th>player1_starting</th>\n",
       "    </tr>\n",
       "    <tr>\n",
       "      <th>game_id</th>\n",
       "      <th></th>\n",
       "      <th></th>\n",
       "    </tr>\n",
       "  </thead>\n",
       "  <tbody>\n",
       "  </tbody>\n",
       "</table>\n",
       "</div>"
      ],
      "text/plain": [
       "Empty DataFrame\n",
       "Columns: [player0_starting, player1_starting]\n",
       "Index: []"
      ]
     },
     "execution_count": 31,
     "metadata": {},
     "output_type": "execute_result"
    }
   ],
   "source": [
    "# 모든 게임의 스타팅포인트를 찾음\n",
    "df_total[(df_total.player0_starting == 0)|(df_total.player1_starting == 0)].head()"
   ]
  },
  {
   "cell_type": "code",
   "execution_count": 32,
   "metadata": {},
   "outputs": [],
   "source": [
    "# 맵 컬럼 추가\n",
    "for map_num, m in enumerate(map_list):\n",
    "    idx = df_total[(df_total.player0_starting == m[0])|(df_total.player0_starting == m[1])|(df_total.player0_starting == m[2])].index\n",
    "    df_total.loc[idx, 'map'] = map_num\n",
    "del idx, map_list"
   ]
  },
  {
   "cell_type": "code",
   "execution_count": 33,
   "metadata": {},
   "outputs": [
    {
     "data": {
      "text/html": [
       "<div>\n",
       "<style scoped>\n",
       "    .dataframe tbody tr th:only-of-type {\n",
       "        vertical-align: middle;\n",
       "    }\n",
       "\n",
       "    .dataframe tbody tr th {\n",
       "        vertical-align: top;\n",
       "    }\n",
       "\n",
       "    .dataframe thead th {\n",
       "        text-align: right;\n",
       "    }\n",
       "</style>\n",
       "<table border=\"1\" class=\"dataframe\">\n",
       "  <thead>\n",
       "    <tr style=\"text-align: right;\">\n",
       "      <th></th>\n",
       "      <th>player0_starting</th>\n",
       "      <th>player1_starting</th>\n",
       "      <th>map</th>\n",
       "    </tr>\n",
       "    <tr>\n",
       "      <th>game_id</th>\n",
       "      <th></th>\n",
       "      <th></th>\n",
       "      <th></th>\n",
       "    </tr>\n",
       "  </thead>\n",
       "  <tbody>\n",
       "    <tr>\n",
       "      <th>0</th>\n",
       "      <td>2.0</td>\n",
       "      <td>10.0</td>\n",
       "      <td>1.0</td>\n",
       "    </tr>\n",
       "    <tr>\n",
       "      <th>1</th>\n",
       "      <td>6.0</td>\n",
       "      <td>15.0</td>\n",
       "      <td>4.0</td>\n",
       "    </tr>\n",
       "    <tr>\n",
       "      <th>2</th>\n",
       "      <td>13.0</td>\n",
       "      <td>12.0</td>\n",
       "      <td>6.0</td>\n",
       "    </tr>\n",
       "    <tr>\n",
       "      <th>3</th>\n",
       "      <td>7.0</td>\n",
       "      <td>3.0</td>\n",
       "      <td>2.0</td>\n",
       "    </tr>\n",
       "    <tr>\n",
       "      <th>4</th>\n",
       "      <td>9.0</td>\n",
       "      <td>11.0</td>\n",
       "      <td>5.0</td>\n",
       "    </tr>\n",
       "  </tbody>\n",
       "</table>\n",
       "</div>"
      ],
      "text/plain": [
       "         player0_starting  player1_starting  map\n",
       "game_id                                         \n",
       "0                     2.0              10.0  1.0\n",
       "1                     6.0              15.0  4.0\n",
       "2                    13.0              12.0  6.0\n",
       "3                     7.0               3.0  2.0\n",
       "4                     9.0              11.0  5.0"
      ]
     },
     "execution_count": 33,
     "metadata": {},
     "output_type": "execute_result"
    }
   ],
   "source": [
    "# 스타팅포인트, 맵 클러스터링 끝\n",
    "df_total.head()"
   ]
  },
  {
   "cell_type": "code",
   "execution_count": 34,
   "metadata": {},
   "outputs": [],
   "source": [
    "df_total.to_csv('data2/map_data.csv')"
   ]
  },
  {
   "cell_type": "code",
   "execution_count": null,
   "metadata": {},
   "outputs": [],
   "source": []
  }
 ],
 "metadata": {
  "kernelspec": {
   "display_name": "glen",
   "language": "python",
   "name": "glen"
  },
  "language_info": {
   "codemirror_mode": {
    "name": "ipython",
    "version": 3
   },
   "file_extension": ".py",
   "mimetype": "text/x-python",
   "name": "python",
   "nbconvert_exporter": "python",
   "pygments_lexer": "ipython3",
   "version": "3.6.7"
  }
 },
 "nbformat": 4,
 "nbformat_minor": 4
}
