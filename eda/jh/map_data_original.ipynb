{
 "cells": [
  {
   "cell_type": "markdown",
   "metadata": {},
   "source": [
    "# map data"
   ]
  },
  {
   "cell_type": "code",
   "execution_count": 1,
   "metadata": {},
   "outputs": [],
   "source": [
    "import pandas as pd\n",
    "import numpy as np\n",
    "import seaborn as sns\n",
    "import matplotlib.pyplot as plt\n",
    "from sklearn.cluster import KMeans\n",
    "\n",
    "import warnings                             \n",
    "warnings.filterwarnings(\"ignore\")"
   ]
  },
  {
   "cell_type": "code",
   "execution_count": 2,
   "metadata": {},
   "outputs": [
    {
     "name": "stdout",
     "output_type": "stream",
     "text": [
      "CPU times: user 49.1 s, sys: 32.7 s, total: 1min 21s\n",
      "Wall time: 2min 15s\n"
     ]
    }
   ],
   "source": [
    "%%time\n",
    "train = pd.read_csv('data2/train.csv')"
   ]
  },
  {
   "cell_type": "code",
   "execution_count": 3,
   "metadata": {},
   "outputs": [
    {
     "name": "stdout",
     "output_type": "stream",
     "text": [
      "CPU times: user 20.5 s, sys: 10 s, total: 30.5 s\n",
      "Wall time: 57.1 s\n"
     ]
    }
   ],
   "source": [
    "%%time\n",
    "test = pd.read_csv('data2/test.csv')"
   ]
  },
  {
   "cell_type": "code",
   "execution_count": 206,
   "metadata": {},
   "outputs": [],
   "source": [
    "df_train = pd.DataFrame(train.game_id.unique(), columns=['game_id'])\n",
    "df_train.index = df_train.game_id\n",
    "df_train = df_train.drop(['game_id'], axis = 1)"
   ]
  },
  {
   "cell_type": "code",
   "execution_count": 196,
   "metadata": {},
   "outputs": [],
   "source": [
    "df_test = pd.DataFrame(test.game_id.unique(), columns=['game_id'])\n",
    "df_test.index = df_test.game_id\n",
    "df_test = df_test.drop(['game_id'], axis = 1)"
   ]
  },
  {
   "cell_type": "code",
   "execution_count": 207,
   "metadata": {},
   "outputs": [
    {
     "name": "stdout",
     "output_type": "stream",
     "text": [
      "CPU times: user 14.1 s, sys: 26.7 s, total: 40.9 s\n",
      "Wall time: 2min 52s\n"
     ]
    }
   ],
   "source": [
    "%%time\n",
    "# 처음 기록 된 카메라 좌표를 기록\n",
    "\n",
    "df_train_p0 = train[(train.event=='Camera')&(train.player==0)]\n",
    "df_train_p0 = df_train_p0[df_train_p0.shift(1).game_id!=df_train_p0.game_id] # 쉬프트를 이용하여 각 게임의 첫번째 데이터 찾기\n",
    "df_train_p0 = df_train_p0.iloc[:, [0,6]].rename({'event_contents':'player0_starting'}, axis = 1)\n",
    "df_train_p0.index = df_train_p0['game_id']\n",
    "df_train_p0 = df_train_p0.drop(['game_id'], axis=1)\n",
    "df_train = pd.merge(df_train, df_train_p0, on='game_id', how='left')\n",
    "del df_train_p0\n",
    "\n",
    "df_train_p1 = train[(train.event=='Camera')&(train.player==1)]\n",
    "df_train_p1 = df_train_p1[df_train_p1.shift(1).game_id!=df_train_p1.game_id]\n",
    "df_train_p1 = df_train_p1.iloc[:, [0,6]].rename({'event_contents':'player1_starting'}, axis = 1)\n",
    "df_train_p1.index = df_train_p1['game_id']\n",
    "df_train_p1 = df_train_p1.drop(['game_id'], axis=1)\n",
    "df_train = pd.merge(df_train, df_train_p1, on='game_id', how='left')\n",
    "del df_train_p1"
   ]
  },
  {
   "cell_type": "code",
   "execution_count": 200,
   "metadata": {},
   "outputs": [
    {
     "name": "stdout",
     "output_type": "stream",
     "text": [
      "CPU times: user 4.62 s, sys: 1.12 s, total: 5.73 s\n",
      "Wall time: 9.5 s\n"
     ]
    }
   ],
   "source": [
    "%%time\n",
    "# 처음 기록 된 카메라 좌표를 기록\n",
    "\n",
    "df_test_p0 = test[(test.event=='Camera')&(test.player==0)]\n",
    "df_test_p0 = df_test_p0[df_test_p0.shift(1).game_id!=df_test_p0.game_id] # 쉬프트를 이용하여 각 게임의 첫번째 데이터 찾기\n",
    "df_test_p0 = df_test_p0.iloc[:, [0,5]].rename({'event_contents':'player0_starting'}, axis = 1)\n",
    "df_test_p0.index = df_test_p0['game_id']\n",
    "df_test_p0 = df_test_p0.drop(['game_id'], axis=1)\n",
    "df_test = pd.merge(df_test, df_test_p0, on='game_id', how='left')\n",
    "del df_test_p0\n",
    "\n",
    "df_test_p1 = test[(test.event=='Camera')&(test.player==1)]\n",
    "df_test_p1 = df_test_p1[df_test_p1.shift(1).game_id!=df_test_p1.game_id]\n",
    "df_test_p1 = df_test_p1.iloc[:, [0,5]].rename({'event_contents':'player1_starting'}, axis = 1)\n",
    "df_test_p1.index = df_test_p1['game_id']\n",
    "df_test_p1 = df_test_p1.drop(['game_id'], axis=1)\n",
    "df_test = pd.merge(df_test, df_test_p1, on='game_id', how='left')\n",
    "del df_test_p1"
   ]
  },
  {
   "cell_type": "code",
   "execution_count": 208,
   "metadata": {},
   "outputs": [],
   "source": [
    "# x, y 값으로 분리\n",
    "\n",
    "df_train['player0_starting'] = df_train.player0_starting.str.split('(').str[1]\n",
    "df_train['player0_starting'] = df_train.player0_starting.str.split(')').str[0]\n",
    "split_xy = df_train.player0_starting.str.split(',')\n",
    "df_train['player0_x'] = split_xy.str[0].astype('float')\n",
    "df_train['player0_y'] = split_xy.str[1].astype('float')\n",
    "del split_xy\n",
    "\n",
    "df_train['player1_starting'] = df_train.player1_starting.str.split('(').str[1]\n",
    "df_train['player1_starting'] = df_train.player1_starting.str.split(')').str[0]\n",
    "split_xy = df_train.player1_starting.str.split(',')\n",
    "df_train['player1_x'] = split_xy.str[0].astype('float')\n",
    "df_train['player1_y'] = split_xy.str[1].astype('float')\n",
    "del split_xy"
   ]
  },
  {
   "cell_type": "code",
   "execution_count": 201,
   "metadata": {},
   "outputs": [],
   "source": [
    "# x, y 값으로 분리\n",
    "\n",
    "df_test['player0_starting'] = df_test.player0_starting.str.split('(').str[1]\n",
    "df_test['player0_starting'] = df_test.player0_starting.str.split(')').str[0]\n",
    "split_xy = df_test.player0_starting.str.split(',')\n",
    "df_test['player0_x'] = split_xy.str[0].astype('float')\n",
    "df_test['player0_y'] = split_xy.str[1].astype('float')\n",
    "del split_xy\n",
    "\n",
    "df_test['player1_starting'] = df_test.player1_starting.str.split('(').str[1]\n",
    "df_test['player1_starting'] = df_test.player1_starting.str.split(')').str[0]\n",
    "split_xy = df_test.player1_starting.str.split(',')\n",
    "df_test['player1_x'] = split_xy.str[0].astype('float')\n",
    "df_test['player1_y'] = split_xy.str[1].astype('float')\n",
    "del split_xy"
   ]
  },
  {
   "cell_type": "code",
   "execution_count": 209,
   "metadata": {},
   "outputs": [],
   "source": [
    "# 플레이어의 x,y 좌표를 하나로 모음\n",
    "\n",
    "location_p0 = df_train.loc[:, ['player0_x', 'player0_y']]\n",
    "location_p0 = location_p0.rename({'player0_x':'location_x', 'player0_y':'location_y'}, axis=1)\n",
    "\n",
    "location_p1 = df_train.loc[:, ['player1_x', 'player1_y']]\n",
    "location_p1 = location_p1.rename({'player1_x':'location_x', 'player1_y':'location_y'}, axis=1)\n",
    "location_p1.index += location_p0.index[-1]+1\n",
    "\n",
    "location = pd.concat([location_p0, location_p1])\n",
    "location = location.dropna()\n",
    "del location_p0, location_p1"
   ]
  },
  {
   "cell_type": "code",
   "execution_count": 202,
   "metadata": {},
   "outputs": [],
   "source": [
    "# # 플레이어의 x,y 좌표를 하나로 모음\n",
    "\n",
    "# location_p0 = df_test.loc[:, ['player0_x', 'player0_y']]\n",
    "# location_p0 = location_p0.rename({'player0_x':'location_x', 'player0_y':'location_y'}, axis=1)\n",
    "\n",
    "# location_p1 = df_test.loc[:, ['player1_x', 'player1_y']]\n",
    "# location_p1 = location_p1.rename({'player1_x':'location_x', 'player1_y':'location_y'}, axis=1)\n",
    "# location_p1.index += location_p0.index[-1]+1\n",
    "\n",
    "# location = pd.concat([location_p0, location_p1])\n",
    "# location = location.dropna()\n",
    "# del location_p0, location_p1"
   ]
  },
  {
   "cell_type": "code",
   "execution_count": 153,
   "metadata": {},
   "outputs": [],
   "source": [
    "# # 모든 포인트 시각화\n",
    "# sns.lmplot('location_x', 'location_y', data = location, fit_reg=False)\n",
    "# plt.title('starting point')\n",
    "# plt.show()"
   ]
  },
  {
   "cell_type": "code",
   "execution_count": 154,
   "metadata": {},
   "outputs": [],
   "source": [
    "# # 스타팅 컬럼을 카운팅을 해보면 15개의 포인트가 많음\n",
    "# # 15개의 스타팅포인트 존재\n",
    "# df_train.player0_starting.value_counts().head(20)"
   ]
  },
  {
   "cell_type": "code",
   "execution_count": 210,
   "metadata": {},
   "outputs": [],
   "source": [
    "# kmeans를 이용하여 15개로 클러스터링\n",
    "kmeans_clst = KMeans(n_clusters=15).fit(location)\n",
    "location['starting'] = kmeans_clst.labels_+1"
   ]
  },
  {
   "cell_type": "code",
   "execution_count": 211,
   "metadata": {},
   "outputs": [],
   "source": [
    "# location.head()"
   ]
  },
  {
   "cell_type": "code",
   "execution_count": 212,
   "metadata": {},
   "outputs": [],
   "source": [
    "# # 클러스트링한 결과를 시각화\n",
    "# sns.lmplot('location_x', 'location_y', data = location, fit_reg=False, hue=\"starting\")\n",
    "# plt.title('starting point')\n",
    "# plt.show()\n",
    "\n",
    "# # 초반 진행 화면이 누락 된 게임은 엉뚱하게 분류 됨"
   ]
  },
  {
   "cell_type": "code",
   "execution_count": 213,
   "metadata": {},
   "outputs": [],
   "source": [
    "# kmeans로 찾은 15개의 포인트에서 각 데이터들의 거리 계산\n",
    "for cluster in range(15):\n",
    "    point = location[location.starting==cluster+1]\n",
    "    loc = point.loc[:,['location_x', 'location_y']]\n",
    "    del point\n",
    "    loc['center_x'] = kmeans_clst.cluster_centers_[cluster][0]\n",
    "    loc['center_y'] = kmeans_clst.cluster_centers_[cluster][1]\n",
    "    distance = np.sqrt(np. square(loc.location_x - loc.center_x) + np.square(loc.location_y - loc.center_y))\n",
    "    location.loc[loc.index, 'distance'] = distance\n",
    "    del loc"
   ]
  },
  {
   "cell_type": "code",
   "execution_count": 214,
   "metadata": {},
   "outputs": [],
   "source": [
    "# 일정 거리(5)이상 떨어진 데이터는 starting을 0으로 지정\n",
    "idx = location[location.distance>5].index\n",
    "location.loc[idx, 'starting'] = 0\n",
    "del idx"
   ]
  },
  {
   "cell_type": "code",
   "execution_count": 215,
   "metadata": {},
   "outputs": [],
   "source": [
    "# # 시각화를 통해 스타팅을 모르는 게임은 분홍색(0)으로 나타며 15개의 스타팅 포인트를 확인 할 수 있음.\n",
    "# sns.lmplot('location_x', 'location_y', data = location, fit_reg=False, hue=\"starting\")\n",
    "# plt.title('starting point')\n",
    "# plt.show()"
   ]
  },
  {
   "cell_type": "code",
   "execution_count": 216,
   "metadata": {},
   "outputs": [],
   "source": [
    "# df_train.head()"
   ]
  },
  {
   "cell_type": "code",
   "execution_count": 217,
   "metadata": {},
   "outputs": [],
   "source": [
    "df_train_temp = df_train.reset_index()[['game_id', 'player0_starting', 'player1_starting']]\n",
    "\n",
    "location['xy'] = location.apply(lambda x: str(x.location_x) + ', ' + str(x.location_y), axis='columns')\n",
    "\n",
    "location_temp = location.reset_index()[['game_id', 'xy', 'starting']]\n",
    "\n",
    "ttt = df_train_temp.merge(location_temp, how='left', on='game_id' )\n",
    "\n",
    "location.index -= df_train.index[-1]+1\n",
    "\n",
    "location_temp_2 = location.reset_index()[['game_id', 'xy', 'starting']]\n",
    "\n",
    "ttt_2 = df_train_temp.merge(location_temp_2, how='left', on='game_id' )\n",
    "\n",
    "ttt_3 = ttt.merge(ttt_2[['game_id','starting']], how='left', on='game_id')\n",
    "\n",
    "ttt_3 = ttt_3.drop(['player0_starting','player1_starting','xy'], axis='columns')\n",
    "\n",
    "ttt_3 = ttt_3.set_index('game_id')\n",
    "\n",
    "ttt_3 = ttt_3.rename({'starting_x':'player0_starting', 'starting_y':'player1_starting'}, axis='columns')\n",
    "\n",
    "ttt_3 = ttt_3.fillna(0)\n",
    "\n",
    "df_train = ttt_3"
   ]
  },
  {
   "cell_type": "code",
   "execution_count": 242,
   "metadata": {},
   "outputs": [
    {
     "data": {
      "text/html": [
       "<div>\n",
       "<style scoped>\n",
       "    .dataframe tbody tr th:only-of-type {\n",
       "        vertical-align: middle;\n",
       "    }\n",
       "\n",
       "    .dataframe tbody tr th {\n",
       "        vertical-align: top;\n",
       "    }\n",
       "\n",
       "    .dataframe thead th {\n",
       "        text-align: right;\n",
       "    }\n",
       "</style>\n",
       "<table border=\"1\" class=\"dataframe\">\n",
       "  <thead>\n",
       "    <tr style=\"text-align: right;\">\n",
       "      <th></th>\n",
       "      <th>player0_starting</th>\n",
       "      <th>player1_starting</th>\n",
       "      <th>player0_x</th>\n",
       "      <th>player0_y</th>\n",
       "      <th>player1_x</th>\n",
       "      <th>player1_y</th>\n",
       "    </tr>\n",
       "    <tr>\n",
       "      <th>game_id</th>\n",
       "      <th></th>\n",
       "      <th></th>\n",
       "      <th></th>\n",
       "      <th></th>\n",
       "      <th></th>\n",
       "      <th></th>\n",
       "    </tr>\n",
       "  </thead>\n",
       "  <tbody>\n",
       "    <tr>\n",
       "      <th>38872</th>\n",
       "      <td>22.25, 81.5078125</td>\n",
       "      <td>120.25, 153.83984375</td>\n",
       "      <td>22.25</td>\n",
       "      <td>81.507812</td>\n",
       "      <td>120.25</td>\n",
       "      <td>153.839844</td>\n",
       "    </tr>\n",
       "    <tr>\n",
       "      <th>38873</th>\n",
       "      <td>24.75, 128.0078125</td>\n",
       "      <td>151.25, 20.5078125</td>\n",
       "      <td>24.75</td>\n",
       "      <td>128.007812</td>\n",
       "      <td>151.25</td>\n",
       "      <td>20.507812</td>\n",
       "    </tr>\n",
       "    <tr>\n",
       "      <th>38874</th>\n",
       "      <td>151.25, 20.5078125</td>\n",
       "      <td>24.75, 128.0078125</td>\n",
       "      <td>151.25</td>\n",
       "      <td>20.507812</td>\n",
       "      <td>24.75</td>\n",
       "      <td>128.007812</td>\n",
       "    </tr>\n",
       "    <tr>\n",
       "      <th>38875</th>\n",
       "      <td>152.25, 142.0078125</td>\n",
       "      <td>31.75, 22.5078125</td>\n",
       "      <td>152.25</td>\n",
       "      <td>142.007812</td>\n",
       "      <td>31.75</td>\n",
       "      <td>22.507812</td>\n",
       "    </tr>\n",
       "    <tr>\n",
       "      <th>38876</th>\n",
       "      <td>135.25, 31.5078125</td>\n",
       "      <td>22.25, 81.5078125</td>\n",
       "      <td>135.25</td>\n",
       "      <td>31.507812</td>\n",
       "      <td>22.25</td>\n",
       "      <td>81.507812</td>\n",
       "    </tr>\n",
       "  </tbody>\n",
       "</table>\n",
       "</div>"
      ],
      "text/plain": [
       "            player0_starting      player1_starting  player0_x   player0_y  \\\n",
       "game_id                                                                     \n",
       "38872      22.25, 81.5078125  120.25, 153.83984375      22.25   81.507812   \n",
       "38873     24.75, 128.0078125    151.25, 20.5078125      24.75  128.007812   \n",
       "38874     151.25, 20.5078125    24.75, 128.0078125     151.25   20.507812   \n",
       "38875    152.25, 142.0078125     31.75, 22.5078125     152.25  142.007812   \n",
       "38876     135.25, 31.5078125     22.25, 81.5078125     135.25   31.507812   \n",
       "\n",
       "         player1_x   player1_y  \n",
       "game_id                         \n",
       "38872       120.25  153.839844  \n",
       "38873       151.25   20.507812  \n",
       "38874        24.75  128.007812  \n",
       "38875        31.75   22.507812  \n",
       "38876        22.25   81.507812  "
      ]
     },
     "execution_count": 242,
     "metadata": {},
     "output_type": "execute_result"
    }
   ],
   "source": [
    "df_test.head()"
   ]
  },
  {
   "cell_type": "markdown",
   "metadata": {},
   "source": [
    "안돼!"
   ]
  },
  {
   "cell_type": "code",
   "execution_count": 217,
   "metadata": {},
   "outputs": [],
   "source": [
    "df_test_temp = df_test.reset_index()[['game_id', 'player0_starting', 'player1_starting']]\n",
    "\n",
    "location['xy'] = location.apply(lambda x: str(x.location_x) + ', ' + str(x.location_y), axis='columns')\n",
    "\n",
    "location_temp = location.reset_index()[['game_id', 'xy', 'starting']]\n",
    "\n",
    "ttt = df_test_temp.merge(location_temp, how='left', on='game_id' )\n",
    "\n",
    "location.index -= df_test.index[-1]+1\n",
    "\n",
    "location_temp_2 = location.reset_index()[['game_id', 'xy', 'starting']]\n",
    "\n",
    "ttt_2 = df_test_temp.merge(location_temp_2, how='left', on='game_id' )\n",
    "\n",
    "ttt_3 = ttt.merge(ttt_2[['game_id','starting']], how='left', on='game_id')\n",
    "\n",
    "ttt_3 = ttt_3.drop(['player0_starting','player1_starting','xy'], axis='columns')\n",
    "\n",
    "ttt_3 = ttt_3.set_index('game_id')\n",
    "\n",
    "ttt_3 = ttt_3.rename({'starting_x':'player0_starting', 'starting_y':'player1_starting'}, axis='columns')\n",
    "\n",
    "ttt_3 = ttt_3.fillna(0)\n",
    "\n",
    "df_test = ttt_3"
   ]
  },
  {
   "cell_type": "code",
   "execution_count": 232,
   "metadata": {},
   "outputs": [],
   "source": [
    "# 스타팅 포인트를 이용하여 맵 분류\n",
    "map_list = []\n",
    "for point in range(1,16):\n",
    "    couple = df_train[df_train.player0_starting == point].player1_starting.value_counts()\n",
    "    if couple[couple.index[1]]<100:\n",
    "        map_list.append([point, couple.index[0], 999])\n",
    "    else:\n",
    "        map_list.append([point, couple.index[0], couple.index[1]])\n",
    "map_list = np.sort(map_list, axis = 1)\n",
    "map_list = np.unique(map_list, axis = 0)"
   ]
  },
  {
   "cell_type": "code",
   "execution_count": 233,
   "metadata": {},
   "outputs": [
    {
     "data": {
      "text/plain": [
       "array([[  1.,   2., 999.],\n",
       "       [  3.,   4., 999.],\n",
       "       [  5.,   9., 999.],\n",
       "       [  6.,   8.,  11.],\n",
       "       [  7.,  15., 999.],\n",
       "       [ 10.,  14., 999.],\n",
       "       [ 12.,  13., 999.]])"
      ]
     },
     "execution_count": 233,
     "metadata": {},
     "output_type": "execute_result"
    }
   ],
   "source": [
    "# 6개의 2인용 맵과 1개의 3인용 맵이 존재\n",
    "\n",
    "# TMI: 스타크래프트2 공허의유산 래더에서 3인용 맵이 쓰인적은 '까탈레나' 딱 한 번.\n",
    "# 이를 통해 2017년 7월20일 ~ 2017년 11월16일 사이에 진행 된 게임 정보라는 것을 알 수 있음.\n",
    "# 나머지 6개의 맵은 '어비설리프', '어센션투아이어', '애컬라이트', '인터로퍼', '오딧세이', '메크디포'\n",
    "# 근데 결과 예측하는데 맵 이름 상관 없음\n",
    "map_list"
   ]
  },
  {
   "cell_type": "code",
   "execution_count": 234,
   "metadata": {},
   "outputs": [
    {
     "data": {
      "text/plain": [
       "258"
      ]
     },
     "execution_count": 234,
     "metadata": {},
     "output_type": "execute_result"
    }
   ],
   "source": [
    "# 스타팅을 모르는 게임 수 확인.\n",
    "len(df_train[(df_train.player0_starting == 0)|(df_train.player1_starting == 0)])"
   ]
  },
  {
   "cell_type": "code",
   "execution_count": 235,
   "metadata": {},
   "outputs": [],
   "source": [
    "# map_list와 상대편 위치 정보를 이용하여 모르는 스타팅 찾기\n",
    "for m in map_list:\n",
    "    idx = df_train[(df_train.player0_starting == 0)&((df_train.player1_starting == m[0])|(df_train.player1_starting == m[2]))].index\n",
    "    df_train.loc[idx, 'player0_starting'] = m[1]\n",
    "    del idx\n",
    "    idx = df_train[(df_train.player0_starting == 0)&((df_train.player1_starting == m[1])|(df_train.player1_starting == m[2]))].index\n",
    "    df_train.loc[idx, 'player0_starting'] = m[0]\n",
    "    del idx\n",
    "    \n",
    "    idx = df_train[(df_train.player1_starting == 0)&((df_train.player0_starting == m[0])|(df_train.player0_starting == m[2]))].index\n",
    "    df_train.loc[idx, 'player1_starting'] = m[1]\n",
    "    del idx\n",
    "    idx = df_train[(df_train.player1_starting == 0)&((df_train.player0_starting == m[1])|(df_train.player0_starting == m[2]))].index\n",
    "    df_train.loc[idx, 'player1_starting'] = m[0]\n",
    "    del idx"
   ]
  },
  {
   "cell_type": "code",
   "execution_count": 236,
   "metadata": {},
   "outputs": [
    {
     "data": {
      "text/html": [
       "<div>\n",
       "<style scoped>\n",
       "    .dataframe tbody tr th:only-of-type {\n",
       "        vertical-align: middle;\n",
       "    }\n",
       "\n",
       "    .dataframe tbody tr th {\n",
       "        vertical-align: top;\n",
       "    }\n",
       "\n",
       "    .dataframe thead th {\n",
       "        text-align: right;\n",
       "    }\n",
       "</style>\n",
       "<table border=\"1\" class=\"dataframe\">\n",
       "  <thead>\n",
       "    <tr style=\"text-align: right;\">\n",
       "      <th></th>\n",
       "      <th>player0_starting</th>\n",
       "      <th>player1_starting</th>\n",
       "    </tr>\n",
       "    <tr>\n",
       "      <th>game_id</th>\n",
       "      <th></th>\n",
       "      <th></th>\n",
       "    </tr>\n",
       "  </thead>\n",
       "  <tbody>\n",
       "  </tbody>\n",
       "</table>\n",
       "</div>"
      ],
      "text/plain": [
       "Empty DataFrame\n",
       "Columns: [player0_starting, player1_starting]\n",
       "Index: []"
      ]
     },
     "execution_count": 236,
     "metadata": {},
     "output_type": "execute_result"
    }
   ],
   "source": [
    "# 모든 게임의 스타팅포인트를 찾음\n",
    "df_train[(df_train.player0_starting == 0)|(df_train.player1_starting == 0)].head()"
   ]
  },
  {
   "cell_type": "code",
   "execution_count": 237,
   "metadata": {},
   "outputs": [],
   "source": [
    "# 맵 컬럼 추가\n",
    "for map_num, m in enumerate(map_list):\n",
    "    idx = df_train[(df_train.player0_starting == m[0])|(df_train.player0_starting == m[1])|(df_train.player0_starting == m[2])].index\n",
    "    df_train.loc[idx, 'map'] = map_num\n",
    "del idx, map_list"
   ]
  },
  {
   "cell_type": "code",
   "execution_count": 239,
   "metadata": {},
   "outputs": [
    {
     "data": {
      "text/html": [
       "<div>\n",
       "<style scoped>\n",
       "    .dataframe tbody tr th:only-of-type {\n",
       "        vertical-align: middle;\n",
       "    }\n",
       "\n",
       "    .dataframe tbody tr th {\n",
       "        vertical-align: top;\n",
       "    }\n",
       "\n",
       "    .dataframe thead th {\n",
       "        text-align: right;\n",
       "    }\n",
       "</style>\n",
       "<table border=\"1\" class=\"dataframe\">\n",
       "  <thead>\n",
       "    <tr style=\"text-align: right;\">\n",
       "      <th></th>\n",
       "      <th>player0_starting</th>\n",
       "      <th>player1_starting</th>\n",
       "      <th>map</th>\n",
       "    </tr>\n",
       "    <tr>\n",
       "      <th>game_id</th>\n",
       "      <th></th>\n",
       "      <th></th>\n",
       "      <th></th>\n",
       "    </tr>\n",
       "  </thead>\n",
       "  <tbody>\n",
       "    <tr>\n",
       "      <th>0</th>\n",
       "      <td>2.0</td>\n",
       "      <td>1.0</td>\n",
       "      <td>0.0</td>\n",
       "    </tr>\n",
       "    <tr>\n",
       "      <th>1</th>\n",
       "      <td>3.0</td>\n",
       "      <td>4.0</td>\n",
       "      <td>1.0</td>\n",
       "    </tr>\n",
       "    <tr>\n",
       "      <th>2</th>\n",
       "      <td>14.0</td>\n",
       "      <td>10.0</td>\n",
       "      <td>5.0</td>\n",
       "    </tr>\n",
       "    <tr>\n",
       "      <th>3</th>\n",
       "      <td>13.0</td>\n",
       "      <td>12.0</td>\n",
       "      <td>6.0</td>\n",
       "    </tr>\n",
       "    <tr>\n",
       "      <th>4</th>\n",
       "      <td>5.0</td>\n",
       "      <td>9.0</td>\n",
       "      <td>2.0</td>\n",
       "    </tr>\n",
       "  </tbody>\n",
       "</table>\n",
       "</div>"
      ],
      "text/plain": [
       "         player0_starting  player1_starting  map\n",
       "game_id                                         \n",
       "0                     2.0               1.0  0.0\n",
       "1                     3.0               4.0  1.0\n",
       "2                    14.0              10.0  5.0\n",
       "3                    13.0              12.0  6.0\n",
       "4                     5.0               9.0  2.0"
      ]
     },
     "execution_count": 239,
     "metadata": {},
     "output_type": "execute_result"
    }
   ],
   "source": [
    "df_train.head()"
   ]
  },
  {
   "cell_type": "code",
   "execution_count": 237,
   "metadata": {},
   "outputs": [],
   "source": [
    "# 맵 컬럼 추가\n",
    "for map_num, m in enumerate(map_list):\n",
    "    idx = df_train[(df_train.player0_starting == m[0])|(df_train.player0_starting == m[1])|(df_train.player0_starting == m[2])].index\n",
    "    df_train.loc[idx, 'map'] = map_num\n",
    "del idx, map_list"
   ]
  },
  {
   "cell_type": "code",
   "execution_count": 238,
   "metadata": {},
   "outputs": [
    {
     "data": {
      "text/html": [
       "<div>\n",
       "<style scoped>\n",
       "    .dataframe tbody tr th:only-of-type {\n",
       "        vertical-align: middle;\n",
       "    }\n",
       "\n",
       "    .dataframe tbody tr th {\n",
       "        vertical-align: top;\n",
       "    }\n",
       "\n",
       "    .dataframe thead th {\n",
       "        text-align: right;\n",
       "    }\n",
       "</style>\n",
       "<table border=\"1\" class=\"dataframe\">\n",
       "  <thead>\n",
       "    <tr style=\"text-align: right;\">\n",
       "      <th></th>\n",
       "      <th>player0_starting</th>\n",
       "      <th>player1_starting</th>\n",
       "      <th>map</th>\n",
       "    </tr>\n",
       "    <tr>\n",
       "      <th>game_id</th>\n",
       "      <th></th>\n",
       "      <th></th>\n",
       "      <th></th>\n",
       "    </tr>\n",
       "  </thead>\n",
       "  <tbody>\n",
       "    <tr>\n",
       "      <th>0</th>\n",
       "      <td>2.0</td>\n",
       "      <td>1.0</td>\n",
       "      <td>0.0</td>\n",
       "    </tr>\n",
       "    <tr>\n",
       "      <th>1</th>\n",
       "      <td>3.0</td>\n",
       "      <td>4.0</td>\n",
       "      <td>1.0</td>\n",
       "    </tr>\n",
       "    <tr>\n",
       "      <th>2</th>\n",
       "      <td>14.0</td>\n",
       "      <td>10.0</td>\n",
       "      <td>5.0</td>\n",
       "    </tr>\n",
       "    <tr>\n",
       "      <th>3</th>\n",
       "      <td>13.0</td>\n",
       "      <td>12.0</td>\n",
       "      <td>6.0</td>\n",
       "    </tr>\n",
       "    <tr>\n",
       "      <th>4</th>\n",
       "      <td>5.0</td>\n",
       "      <td>9.0</td>\n",
       "      <td>2.0</td>\n",
       "    </tr>\n",
       "  </tbody>\n",
       "</table>\n",
       "</div>"
      ],
      "text/plain": [
       "         player0_starting  player1_starting  map\n",
       "game_id                                         \n",
       "0                     2.0               1.0  0.0\n",
       "1                     3.0               4.0  1.0\n",
       "2                    14.0              10.0  5.0\n",
       "3                    13.0              12.0  6.0\n",
       "4                     5.0               9.0  2.0"
      ]
     },
     "execution_count": 238,
     "metadata": {},
     "output_type": "execute_result"
    }
   ],
   "source": [
    "# 스타팅포인트, 맵 클러스터링 끝\n",
    "df_train.head()"
   ]
  },
  {
   "cell_type": "code",
   "execution_count": null,
   "metadata": {},
   "outputs": [],
   "source": []
  },
  {
   "cell_type": "code",
   "execution_count": null,
   "metadata": {},
   "outputs": [],
   "source": []
  },
  {
   "cell_type": "code",
   "execution_count": null,
   "metadata": {},
   "outputs": [],
   "source": []
  },
  {
   "cell_type": "markdown",
   "metadata": {},
   "source": [
    "플레이어 0, 1 합쳐서 보지 뭐"
   ]
  },
  {
   "cell_type": "code",
   "execution_count": 19,
   "metadata": {},
   "outputs": [
    {
     "data": {
      "text/html": [
       "<div>\n",
       "<style scoped>\n",
       "    .dataframe tbody tr th:only-of-type {\n",
       "        vertical-align: middle;\n",
       "    }\n",
       "\n",
       "    .dataframe tbody tr th {\n",
       "        vertical-align: top;\n",
       "    }\n",
       "\n",
       "    .dataframe thead th {\n",
       "        text-align: right;\n",
       "    }\n",
       "</style>\n",
       "<table border=\"1\" class=\"dataframe\">\n",
       "  <thead>\n",
       "    <tr style=\"text-align: right;\">\n",
       "      <th></th>\n",
       "      <th>player0_starting</th>\n",
       "      <th>player1_starting</th>\n",
       "      <th>player0_x</th>\n",
       "      <th>player0_y</th>\n",
       "      <th>player1_x</th>\n",
       "      <th>player1_y</th>\n",
       "    </tr>\n",
       "    <tr>\n",
       "      <th>game_id</th>\n",
       "      <th></th>\n",
       "      <th></th>\n",
       "      <th></th>\n",
       "      <th></th>\n",
       "      <th></th>\n",
       "      <th></th>\n",
       "    </tr>\n",
       "  </thead>\n",
       "  <tbody>\n",
       "    <tr>\n",
       "      <th>0</th>\n",
       "      <td>145.25, 21.5078125</td>\n",
       "      <td>22.75, 147.0078125</td>\n",
       "      <td>145.25</td>\n",
       "      <td>21.507812</td>\n",
       "      <td>22.75</td>\n",
       "      <td>147.007812</td>\n",
       "    </tr>\n",
       "    <tr>\n",
       "      <th>1</th>\n",
       "      <td>140.0, 162.0078125</td>\n",
       "      <td>28.0, 18.5078125</td>\n",
       "      <td>140.00</td>\n",
       "      <td>162.007812</td>\n",
       "      <td>28.00</td>\n",
       "      <td>18.507812</td>\n",
       "    </tr>\n",
       "    <tr>\n",
       "      <th>2</th>\n",
       "      <td>151.25, 20.5078125</td>\n",
       "      <td>24.75, 128.0078125</td>\n",
       "      <td>151.25</td>\n",
       "      <td>20.507812</td>\n",
       "      <td>24.75</td>\n",
       "      <td>128.007812</td>\n",
       "    </tr>\n",
       "    <tr>\n",
       "      <th>3</th>\n",
       "      <td>127.25, 27.5078125</td>\n",
       "      <td>24.75, 137.0078125</td>\n",
       "      <td>127.25</td>\n",
       "      <td>27.507812</td>\n",
       "      <td>24.75</td>\n",
       "      <td>137.007812</td>\n",
       "    </tr>\n",
       "    <tr>\n",
       "      <th>4</th>\n",
       "      <td>36.75, 122.0078125</td>\n",
       "      <td>163.25, 18.5078125</td>\n",
       "      <td>36.75</td>\n",
       "      <td>122.007812</td>\n",
       "      <td>163.25</td>\n",
       "      <td>18.507812</td>\n",
       "    </tr>\n",
       "  </tbody>\n",
       "</table>\n",
       "</div>"
      ],
      "text/plain": [
       "           player0_starting    player1_starting  player0_x   player0_y  \\\n",
       "game_id                                                                  \n",
       "0        145.25, 21.5078125  22.75, 147.0078125     145.25   21.507812   \n",
       "1        140.0, 162.0078125    28.0, 18.5078125     140.00  162.007812   \n",
       "2        151.25, 20.5078125  24.75, 128.0078125     151.25   20.507812   \n",
       "3        127.25, 27.5078125  24.75, 137.0078125     127.25   27.507812   \n",
       "4        36.75, 122.0078125  163.25, 18.5078125      36.75  122.007812   \n",
       "\n",
       "         player1_x   player1_y  \n",
       "game_id                         \n",
       "0            22.75  147.007812  \n",
       "1            28.00   18.507812  \n",
       "2            24.75  128.007812  \n",
       "3            24.75  137.007812  \n",
       "4           163.25   18.507812  "
      ]
     },
     "execution_count": 19,
     "metadata": {},
     "output_type": "execute_result"
    }
   ],
   "source": [
    "df_train.head()"
   ]
  },
  {
   "cell_type": "code",
   "execution_count": 30,
   "metadata": {},
   "outputs": [
    {
     "data": {
      "text/plain": [
       "[1, 3, 5]"
      ]
     },
     "execution_count": 30,
     "metadata": {},
     "output_type": "execute_result"
    }
   ],
   "source": [
    "sorted([3,5,1])"
   ]
  },
  {
   "cell_type": "markdown",
   "metadata": {},
   "source": [
    "플레이어 0, 1의 스타팅 x, y 좌표 다 가져와서 sorting (unique하게 만들기 위해)"
   ]
  },
  {
   "cell_type": "code",
   "execution_count": 34,
   "metadata": {},
   "outputs": [],
   "source": [
    "df_train['both_starting'] = df_train.apply(lambda x: str(sorted([x.player0_x,x.player0_y,x.player1_x,x.player1_y])), axis='columns')"
   ]
  },
  {
   "cell_type": "code",
   "execution_count": 35,
   "metadata": {},
   "outputs": [
    {
     "data": {
      "text/html": [
       "<div>\n",
       "<style scoped>\n",
       "    .dataframe tbody tr th:only-of-type {\n",
       "        vertical-align: middle;\n",
       "    }\n",
       "\n",
       "    .dataframe tbody tr th {\n",
       "        vertical-align: top;\n",
       "    }\n",
       "\n",
       "    .dataframe thead th {\n",
       "        text-align: right;\n",
       "    }\n",
       "</style>\n",
       "<table border=\"1\" class=\"dataframe\">\n",
       "  <thead>\n",
       "    <tr style=\"text-align: right;\">\n",
       "      <th></th>\n",
       "      <th>player0_starting</th>\n",
       "      <th>player1_starting</th>\n",
       "      <th>player0_x</th>\n",
       "      <th>player0_y</th>\n",
       "      <th>player1_x</th>\n",
       "      <th>player1_y</th>\n",
       "      <th>both_starting</th>\n",
       "    </tr>\n",
       "    <tr>\n",
       "      <th>game_id</th>\n",
       "      <th></th>\n",
       "      <th></th>\n",
       "      <th></th>\n",
       "      <th></th>\n",
       "      <th></th>\n",
       "      <th></th>\n",
       "      <th></th>\n",
       "    </tr>\n",
       "  </thead>\n",
       "  <tbody>\n",
       "    <tr>\n",
       "      <th>0</th>\n",
       "      <td>145.25, 21.5078125</td>\n",
       "      <td>22.75, 147.0078125</td>\n",
       "      <td>145.25</td>\n",
       "      <td>21.507812</td>\n",
       "      <td>22.75</td>\n",
       "      <td>147.007812</td>\n",
       "      <td>[21.5078125, 22.75, 145.25, 147.0078125]</td>\n",
       "    </tr>\n",
       "    <tr>\n",
       "      <th>1</th>\n",
       "      <td>140.0, 162.0078125</td>\n",
       "      <td>28.0, 18.5078125</td>\n",
       "      <td>140.00</td>\n",
       "      <td>162.007812</td>\n",
       "      <td>28.00</td>\n",
       "      <td>18.507812</td>\n",
       "      <td>[18.5078125, 28.0, 140.0, 162.0078125]</td>\n",
       "    </tr>\n",
       "    <tr>\n",
       "      <th>2</th>\n",
       "      <td>151.25, 20.5078125</td>\n",
       "      <td>24.75, 128.0078125</td>\n",
       "      <td>151.25</td>\n",
       "      <td>20.507812</td>\n",
       "      <td>24.75</td>\n",
       "      <td>128.007812</td>\n",
       "      <td>[20.5078125, 24.75, 128.0078125, 151.25]</td>\n",
       "    </tr>\n",
       "    <tr>\n",
       "      <th>3</th>\n",
       "      <td>127.25, 27.5078125</td>\n",
       "      <td>24.75, 137.0078125</td>\n",
       "      <td>127.25</td>\n",
       "      <td>27.507812</td>\n",
       "      <td>24.75</td>\n",
       "      <td>137.007812</td>\n",
       "      <td>[24.75, 27.5078125, 127.25, 137.0078125]</td>\n",
       "    </tr>\n",
       "    <tr>\n",
       "      <th>4</th>\n",
       "      <td>36.75, 122.0078125</td>\n",
       "      <td>163.25, 18.5078125</td>\n",
       "      <td>36.75</td>\n",
       "      <td>122.007812</td>\n",
       "      <td>163.25</td>\n",
       "      <td>18.507812</td>\n",
       "      <td>[18.5078125, 36.75, 122.0078125, 163.25]</td>\n",
       "    </tr>\n",
       "  </tbody>\n",
       "</table>\n",
       "</div>"
      ],
      "text/plain": [
       "           player0_starting    player1_starting  player0_x   player0_y  \\\n",
       "game_id                                                                  \n",
       "0        145.25, 21.5078125  22.75, 147.0078125     145.25   21.507812   \n",
       "1        140.0, 162.0078125    28.0, 18.5078125     140.00  162.007812   \n",
       "2        151.25, 20.5078125  24.75, 128.0078125     151.25   20.507812   \n",
       "3        127.25, 27.5078125  24.75, 137.0078125     127.25   27.507812   \n",
       "4        36.75, 122.0078125  163.25, 18.5078125      36.75  122.007812   \n",
       "\n",
       "         player1_x   player1_y                             both_starting  \n",
       "game_id                                                                   \n",
       "0            22.75  147.007812  [21.5078125, 22.75, 145.25, 147.0078125]  \n",
       "1            28.00   18.507812    [18.5078125, 28.0, 140.0, 162.0078125]  \n",
       "2            24.75  128.007812  [20.5078125, 24.75, 128.0078125, 151.25]  \n",
       "3            24.75  137.007812  [24.75, 27.5078125, 127.25, 137.0078125]  \n",
       "4           163.25   18.507812  [18.5078125, 36.75, 122.0078125, 163.25]  "
      ]
     },
     "execution_count": 35,
     "metadata": {},
     "output_type": "execute_result"
    }
   ],
   "source": [
    "df_train.head()"
   ]
  },
  {
   "cell_type": "code",
   "execution_count": 37,
   "metadata": {},
   "outputs": [],
   "source": [
    "# df_train.both_starting.value_counts().head(50)"
   ]
  },
  {
   "cell_type": "code",
   "execution_count": null,
   "metadata": {},
   "outputs": [],
   "source": []
  }
 ],
 "metadata": {
  "kernelspec": {
   "display_name": "glen",
   "language": "python",
   "name": "glen"
  },
  "language_info": {
   "codemirror_mode": {
    "name": "ipython",
    "version": 3
   },
   "file_extension": ".py",
   "mimetype": "text/x-python",
   "name": "python",
   "nbconvert_exporter": "python",
   "pygments_lexer": "ipython3",
   "version": "3.6.7"
  }
 },
 "nbformat": 4,
 "nbformat_minor": 4
}
