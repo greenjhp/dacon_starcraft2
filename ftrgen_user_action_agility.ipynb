{
 "cells": [
  {
   "cell_type": "markdown",
   "metadata": {},
   "source": [
    "## action ftrs : user action (esp.attack) agility "
   ]
  },
  {
   "cell_type": "markdown",
   "metadata": {},
   "source": [
    "##### Taehwan Jeong (xikizima@hotmail.com)"
   ]
  },
  {
   "cell_type": "markdown",
   "metadata": {},
   "source": [
    "### 공통 (Common)"
   ]
  },
  {
   "cell_type": "code",
   "execution_count": 1,
   "metadata": {},
   "outputs": [],
   "source": [
    "import pickle, datetime\n",
    "import pandas as pd\n",
    "import numpy as np\n",
    "pd.options.display.max_rows=1000\n",
    "pd.options.display.max_colwidth = -1\n",
    "\n",
    "from collections import Counter\n",
    "\n",
    "from matplotlib import pyplot as plt"
   ]
  },
  {
   "cell_type": "code",
   "execution_count": 2,
   "metadata": {},
   "outputs": [],
   "source": [
    "# 정규식\n",
    "import re\n",
    "cmp = re.compile('(?:Target:\\s([A-Za-z]*)\\s\\[([0-9A-Z]*)\\][\\s;]*)?Location:\\s\\(([0-9]*)[.0-9]*,\\s([0-9]*)[.0-9]*.*?\\)')\n",
    "coors = re.compile('(?:Location:|at)\\s\\(([0-9]*)[.0-9]*,\\s([0-9]*)[.0-9]*.*?\\)')\n",
    "units = re.compile('([0-9A-Za-z]*)\\s\\[([0-9A-Z]*)\\]')"
   ]
  },
  {
   "cell_type": "markdown",
   "metadata": {},
   "source": [
    "### 학습용 (Train)"
   ]
  },
  {
   "cell_type": "raw",
   "metadata": {},
   "source": [
    "unit_info = pd.read_csv('./data/unit_info_data.csv')\n",
    "whole_unit_set = set(unit_info['unit'])\n",
    "unit_set = unit_info.groupby('species')['unit'].apply(set).to_dict()"
   ]
  },
  {
   "cell_type": "code",
   "execution_count": 3,
   "metadata": {},
   "outputs": [],
   "source": [
    "def build_user_activity_agility_ftr(df, idx):\n",
    "    df = df[(df['game_id'] < (idx*1000)+1000) & (df['game_id'] >= (idx*1000))]\n",
    "    df = df[df['event'].isin(['Ability', 'Right Click'])]\n",
    "\n",
    "    df.loc[:, 'slice'] = (df['time'] // 1).astype(int)\n",
    "    df = df[df['slice'] < 10]\n",
    "\n",
    "    df = df.groupby(by=['game_id', 'player','slice'])['event'].count().rename('actions').reset_index()\n",
    "    df_p0 = df[df['player'] == 0][['game_id', 'slice', 'actions']].set_index(['game_id', 'slice']).unstack()\n",
    "    df_p0.columns = [f'p0_actions_{idx}' for idx in range(10)]\n",
    "    df_p1 = df[df['player'] == 1][['game_id', 'slice', 'actions']].set_index(['game_id', 'slice']).unstack()\n",
    "    df_p1.columns = [f'p1_actions_{idx}' for idx in range(10)]\n",
    "\n",
    "    ret = pd.merge(df_p0, df_p1, on='game_id').reset_index().fillna(0.0)\n",
    "    return ret"
   ]
  },
  {
   "cell_type": "code",
   "execution_count": 7,
   "metadata": {},
   "outputs": [
    {
     "name": "stdout",
     "output_type": "stream",
     "text": [
      "[0] 9.0 secs\n",
      "[1] 1.0 secs\n",
      "[2] 1.0 secs\n",
      "[3] 1.0 secs\n",
      "[4] 1.0 secs\n",
      "[5] 1.0 secs\n",
      "[6] 1.0 secs\n",
      "[7] 1.0 secs\n",
      "[8] 1.0 secs\n",
      "[9] 1.0 secs\n",
      "[10] 1.0 secs\n",
      "[11] 1.0 secs\n",
      "[12] 1.0 secs\n",
      "[13] 2.0 secs\n",
      "[14] 1.0 secs\n",
      "[15] 1.0 secs\n",
      "[16] 1.0 secs\n",
      "[17] 1.0 secs\n",
      "[18] 1.0 secs\n",
      "[19] 1.0 secs\n",
      "[20] 1.0 secs\n",
      "[21] 1.0 secs\n",
      "[22] 1.0 secs\n",
      "[23] 1.0 secs\n",
      "[24] 1.0 secs\n",
      "[25] 1.0 secs\n",
      "[26] 1.0 secs\n",
      "[27] 1.0 secs\n",
      "[28] 1.0 secs\n",
      "[29] 1.0 secs\n",
      "[30] 1.0 secs\n",
      "[31] 1.0 secs\n",
      "[32] 7.0 secs\n",
      "[33] 1.0 secs\n",
      "[34] 1.0 secs\n",
      "[35] 1.0 secs\n",
      "[36] 1.0 secs\n",
      "[37] 1.0 secs\n",
      "[38] 1.0 secs\n"
     ]
    }
   ],
   "source": [
    "df = pd.read_csv('./data/train.csv') #, nrows=4000000)\n",
    "for idx in range(39):\n",
    "    t1 = datetime.datetime.now()\n",
    "    ret = build_user_activity_agility_ftr(df, idx)\n",
    "    ret.to_csv('./data/user_activity_agility_train.csv', mode='a' if idx > 0 else 'w', index=False, header=None if idx > 0 else True)\n",
    "    print(f'[{idx}] {(datetime.datetime.now() - t1).seconds:.1f} secs')"
   ]
  },
  {
   "cell_type": "markdown",
   "metadata": {},
   "source": [
    "### 검증용 (Test)"
   ]
  },
  {
   "cell_type": "code",
   "execution_count": 8,
   "metadata": {},
   "outputs": [
    {
     "name": "stdout",
     "output_type": "stream",
     "text": [
      "[38] 3.0 secs\n",
      "[39] 0.0 secs\n",
      "[40] 0.0 secs\n",
      "[41] 0.0 secs\n",
      "[42] 0.0 secs\n",
      "[43] 0.0 secs\n",
      "[44] 0.0 secs\n",
      "[45] 0.0 secs\n",
      "[46] 0.0 secs\n",
      "[47] 0.0 secs\n",
      "[48] 0.0 secs\n",
      "[49] 0.0 secs\n",
      "[50] 0.0 secs\n",
      "[51] 0.0 secs\n",
      "[52] 0.0 secs\n",
      "[53] 0.0 secs\n",
      "[54] 0.0 secs\n",
      "[55] 0.0 secs\n"
     ]
    }
   ],
   "source": [
    "df = pd.read_csv('./data/test.csv')\n",
    "START_IDX = 38\n",
    "for idx in range(START_IDX, 56):\n",
    "    t1 = datetime.datetime.now()\n",
    "    ret = build_user_activity_agility_ftr(df, idx)\n",
    "    ret.to_csv('./data/user_activity_agility_test.csv', mode='a' if idx > START_IDX else 'w', index=False, header=None if idx > START_IDX else True)\n",
    "    print(f'[{idx}] {(datetime.datetime.now() - t1).seconds:.1f} secs')"
   ]
  },
  {
   "cell_type": "code",
   "execution_count": null,
   "metadata": {},
   "outputs": [],
   "source": []
  },
  {
   "cell_type": "code",
   "execution_count": null,
   "metadata": {},
   "outputs": [],
   "source": []
  }
 ],
 "metadata": {
  "kernelspec": {
   "display_name": "Python 3",
   "language": "python",
   "name": "python3"
  },
  "language_info": {
   "codemirror_mode": {
    "name": "ipython",
    "version": 3
   },
   "file_extension": ".py",
   "mimetype": "text/x-python",
   "name": "python",
   "nbconvert_exporter": "python",
   "pygments_lexer": "ipython3",
   "version": "3.6.9"
  }
 },
 "nbformat": 4,
 "nbformat_minor": 2
}
